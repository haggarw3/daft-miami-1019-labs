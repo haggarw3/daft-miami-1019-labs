{
 "cells": [
  {
   "cell_type": "code",
   "execution_count": null,
   "metadata": {},
   "outputs": [],
   "source": [
    "# ENCODING EXAMPLES\n",
    "\n",
    "from sklearn.preprocessing import LabelEncoder, OneHotEncoder, LabelBinarizer\n",
    "data = ['cold', 'cold', 'warm', 'cold', 'hot', 'hot', 'warm', 'cold', 'warm', 'hot']\n",
    "label_encoder = LabelEncoder()\n",
    "integer_encoded = label_encoder.fit_transform(data)\n",
    "print(integer_encoded)\n",
    "\n",
    "onehot_encoder = OneHotEncoder(sparse=False)\n",
    "values = np.array(data)\n",
    "values = values.reshape(len(values), 1)\n",
    "onehot_encoded = onehot_encoder.fit_transform(values)\n",
    "print(onehot_encoded)\n",
    "\n",
    "lb = LabelBinarizer()\n",
    "print(lb.fit_transform(data))  # IT CAN TAKE THE ARRAY DIRECTLY\n",
    "\n",
    "###################################################################################\n",
    "\n",
    "import pandas as pd\n",
    "import numpy as np\n",
    "from sklearn.linear_model import LogisticRegression\n",
    "pd.set_option('display.max_columns', 100)\n",
    "data = pd.read_csv('Customer-Churn.csv')\n",
    "# print(data.head(2))\n",
    "print(data.columns)\n",
    "print(data.shape)\n",
    "# binary classification model\n",
    "\n",
    "\n",
    "X = data[['tenure', 'SeniorCitizen', 'MonthlyCharges']]\n",
    "Y = np.array(data['Churn'])\n",
    "model = LogisticRegression(random_state=0, solver='lbfgs', multi_class='ovr')\n",
    "classification = model.fit(X, Y)    # FITTING A MODEL WITHOUT SCALING\n",
    "print(classification.score(X, Y))\n",
    "probabilities = classification.predict_proba(X) # func of probability\n",
    "\n",
    "\n",
    "from sklearn import preprocessing\n",
    "x_scaled = preprocessing.scale(X)\n",
    "# print(x_scaled.shape)\n",
    "from sklearn.preprocessing import Normalizer\n",
    "transformer = Normalizer().fit(X)\n",
    "x_normalized = transformer.transform(X)\n",
    "# print(x_normalized.shape)\n",
    "from sklearn.preprocessing import StandardScaler\n",
    "transformer = StandardScaler().fit(X)\n",
    "x_standardized = transformer.transform(X)\n",
    "# print(x_standardized.shape)\n",
    "model = LogisticRegression(random_state=0, solver='lbfgs', multi_class='ovr')\n",
    "classification = model.fit(x_standardized, Y)\n",
    "print(classification.score(x_standardized, Y))\n",
    "#\n",
    "model = LogisticRegression(random_state=0, solver='lbfgs', multi_class='ovr')\n",
    "classification = model.fit(x_normalized, Y)\n",
    "print(classification.score(x_normalized, Y))\n",
    "model = LogisticRegression(random_state=0, solver='lbfgs', multi_class='ovr')\n",
    "classification = model.fit(x_scaled, Y)\n",
    "print(classification.score(x_scaled, Y))\n",
    "probabilities = classification.predict_proba(x_scaled)\n",
    "# print(probabilities[:, 1])    #The returned estimates for all classes are ordered by the label of classes\n",
    "# In this data, class \"NO\" is represented first in Y. Hence the 'probabilites' variable has its first\n",
    "# value represents probability for 'NO'\n",
    "print(probabilities)\n",
    "# print(len(Y))\n",
    "# print(len(probabilities))\n",
    "\n",
    "THRESHOLD = 0.5 # you set it, by default is .5\n",
    "preds = np.where(probabilities[:, 1] > THRESHOLD, 1, 0)\n",
    "from sklearn.metrics import accuracy_score, confusion_matrix, recall_score, roc_auc_score, precision_score\n",
    "Y_nums = np.where(data['Churn'] == 'Yes', 1, 0)\n",
    "print(accuracy_score(Y_nums, preds))\n",
    "\n",
    "print(probabilities[:, 1][:10])\n",
    "print(probabilities[:10])\n",
    "print(Y_nums[:10])\n",
    "print(Y[:10])\n",
    "print(preds[:10])\n",
    "\n",
    "# ROC CURVE\n",
    "\n",
    "from sklearn.metrics import roc_curve, roc_auc_score\n",
    "import matplotlib.pyplot as plt\n",
    "probabilities_positives = probabilities[:, 1]\n",
    "lb = LabelBinarizer()\n",
    "Y_binary = lb.fit_transform(Y)\n",
    "lr_auc = roc_auc_score(Y_binary, probabilities_positives) # 2 arguments- the actual values & probabilities\n",
    "fpr, tpr, thresholds = roc_curve(Y_binary, probabilities_positives)\n",
    "plt.plot(fpr, tpr, marker='.', label='Logistic')\n",
    "x_plot = np.arange(0, 1, 0.1) # to make 45 degree line\n",
    "plt.plot(x_plot, x_plot, marker='*', label='Main diagonal') # to make 45 degree line\n",
    "# linestyle = '--'\n",
    "plt.xlabel('False Positive Rate')\n",
    "plt.ylabel('True Positive Rate')\n",
    "plt.legend()\n",
    "plt.show()\n",
    "\n",
    "# measure accuracy on test data"
   ]
  },
  {
   "cell_type": "code",
   "execution_count": 1,
   "metadata": {},
   "outputs": [
    {
     "name": "stdout",
     "output_type": "stream",
     "text": [
      "[0 0 2 0 1 1 2 0 2 1]\n"
     ]
    }
   ],
   "source": [
    "from sklearn.preprocessing import LabelEncoder, OneHotEncoder, LabelBinarizer\n",
    "data = ['cold', 'cold', 'warm', 'cold', 'hot', 'hot', 'warm', 'cold', 'warm', 'hot']\n",
    "label_encoder = LabelEncoder()\n",
    "integer_encoded = label_encoder.fit_transform(data)\n",
    "print(integer_encoded)"
   ]
  },
  {
   "cell_type": "code",
   "execution_count": null,
   "metadata": {},
   "outputs": [],
   "source": [
    "# it's just one list. not a list inside a list. think abobut it in a dataframe"
   ]
  },
  {
   "cell_type": "code",
   "execution_count": 3,
   "metadata": {},
   "outputs": [
    {
     "name": "stdout",
     "output_type": "stream",
     "text": [
      "[[1. 0. 0.]\n",
      " [1. 0. 0.]\n",
      " [0. 0. 1.]\n",
      " [1. 0. 0.]\n",
      " [0. 1. 0.]\n",
      " [0. 1. 0.]\n",
      " [0. 0. 1.]\n",
      " [1. 0. 0.]\n",
      " [0. 0. 1.]\n",
      " [0. 1. 0.]]\n"
     ]
    }
   ],
   "source": [
    "# \n",
    "\n",
    "import numpy as np \n",
    "\n",
    "onehot_encoder = OneHotEncoder(sparse=False)\n",
    "values = np.array(data)\n",
    "values = values.reshape(len(values), 1)\n",
    "onehot_encoded = onehot_encoder.fit_transform(values)\n",
    "print(onehot_encoded)"
   ]
  },
  {
   "cell_type": "code",
   "execution_count": 4,
   "metadata": {},
   "outputs": [
    {
     "name": "stdout",
     "output_type": "stream",
     "text": [
      "[[1 0 0]\n",
      " [1 0 0]\n",
      " [0 0 1]\n",
      " [1 0 0]\n",
      " [0 1 0]\n",
      " [0 1 0]\n",
      " [0 0 1]\n",
      " [1 0 0]\n",
      " [0 0 1]\n",
      " [0 1 0]]\n"
     ]
    }
   ],
   "source": [
    "# label binarizer\n",
    "\n",
    "lb = LabelBinarizer()\n",
    "print(lb.fit_transform(data))  # IT CAN TAKE THE ARRAY DIRECTLY"
   ]
  },
  {
   "cell_type": "code",
   "execution_count": null,
   "metadata": {},
   "outputs": [],
   "source": []
  },
  {
   "cell_type": "code",
   "execution_count": null,
   "metadata": {},
   "outputs": [],
   "source": []
  },
  {
   "cell_type": "code",
   "execution_count": null,
   "metadata": {},
   "outputs": [],
   "source": []
  },
  {
   "cell_type": "code",
   "execution_count": null,
   "metadata": {},
   "outputs": [],
   "source": []
  },
  {
   "cell_type": "code",
   "execution_count": null,
   "metadata": {},
   "outputs": [],
   "source": []
  },
  {
   "cell_type": "code",
   "execution_count": null,
   "metadata": {},
   "outputs": [],
   "source": []
  }
 ],
 "metadata": {
  "kernelspec": {
   "display_name": "Python 3",
   "language": "python",
   "name": "python3"
  },
  "language_info": {
   "codemirror_mode": {
    "name": "ipython",
    "version": 3
   },
   "file_extension": ".py",
   "mimetype": "text/x-python",
   "name": "python",
   "nbconvert_exporter": "python",
   "pygments_lexer": "ipython3",
   "version": "3.7.4"
  }
 },
 "nbformat": 4,
 "nbformat_minor": 2
}
