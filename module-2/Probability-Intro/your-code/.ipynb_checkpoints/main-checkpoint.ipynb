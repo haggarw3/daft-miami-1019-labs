{
 "cells": [
  {
   "cell_type": "markdown",
   "metadata": {},
   "source": [
    "# Introduction To Probability\n",
    "## Challenge 1\n",
    "\n",
    "A and B are events of a probability space with $(\\omega, \\sigma, P)$ such that $P(A) = 0.3$, $P(B) = 0.6$ and $P(A \\cap B) = 0.1$\n",
    "\n",
    "Which of the following statements are false?\n",
    "* $P(A \\cup B) = 0.6$\n",
    "* $P(A \\cap B^{C}) = 0.2$\n",
    "* $P(A \\cap (B \\cup B^{C})) = 0.4$\n",
    "* $P(A^{C} \\cap B^{C}) = 0.3$\n",
    "* $P((A \\cap B)^{C}) = 0.9$"
   ]
  },
  {
   "cell_type": "code",
   "execution_count": null,
   "metadata": {},
   "outputs": [],
   "source": [
    "\"\"\"\n",
    "your solution here\n",
    "\"\"\"\n",
    "\n",
    "𝑃(𝐴∪𝐵)=0.6 #is false because 𝑃(𝐴∪𝐵)=0.8  \n",
    "\n",
    "𝑃(𝐴∪𝐵) = P(A) + P(B) - 𝑃(𝐴∩𝐵) = .3 + .6 - .1 = .8\n",
    "\n",
    "𝑃(𝐴∩𝐵𝐶) = 0.2  # is true because P(Bc) is the probability of B not happening, which would be the probability of A happening or the probability of neither A nor B happening. A union BC, would just be A because it would be the intersection of A and everything not B\n",
    "\n",
    "𝑃(𝐴∩(𝐵∪𝐵𝐶)) = .4 # is false because it is essentially asking for the intersection of A and everything (1), which is basically just A (.3)\n",
    "\n",
    "𝑃(𝐴𝐶∩𝐵𝐶) = 0.3 # is false because it is asking for the intersection of not A and not B, which is essentially everything that is neither in A nor B, which is .2\n",
    "\n",
    "\n",
    "𝑃((𝐴∩𝐵)𝐶) = 0.9 # is true because 𝐴∩𝐵 = .1, and so the complement of that would be 1 - .1, which is .9\n",
    "\n",
    "\n",
    "\n",
    "\n",
    "\n",
    "\n",
    "\n",
    "\n",
    "\n"
   ]
  },
  {
   "cell_type": "markdown",
   "metadata": {},
   "source": [
    "## Challenge 2\n",
    "There is a box with 10 white balls, 12 red balls and 8 black balls. Calculate the probability of:\n",
    "* Taking a white ball out.\n",
    "* Taking a white ball out after taking a black ball out.\n",
    "* Taking a red ball out after taking a black and a red ball out.\n",
    "* Taking a red ball out after taking a black and a red ball out with reposition.\n",
    "\n",
    "**Hint**: Reposition means putting back the ball into the box after taking it out."
   ]
  },
  {
   "cell_type": "code",
   "execution_count": null,
   "metadata": {},
   "outputs": [],
   "source": [
    "\"\"\"\n",
    "your solution here\n",
    "\"\"\"\n",
    "\n",
    "\n",
    "#White = 10\n",
    "#Black = 8\n",
    "#Red = 12\n",
    "\n",
    "#Taking a white ball out = 10/(10+8+12) = 10/30 = 1/3\n",
    "#Taking a white ball out after taking a black ball out = 10/(10+7+12) = 10/29\n",
    "#Taking a red ball out after taking a black and a red ball out = 11/(10+7+11) = 11/28\n",
    "#Taking a red ball out after taking a black and a red ball out with reposition \n",
    "#12/30 = 2/5"
   ]
  },
  {
   "cell_type": "markdown",
   "metadata": {},
   "source": [
    "## Challenge 3\n",
    "\n",
    "You are planning to go on a picnic today but the morning is cloudy. You hate rain so you don't know whether to go out or stay home! To help you make a decision, you gather the following data about rainy days:\n",
    "\n",
    "* 50% of all rainy days start off cloudy!\n",
    "* Cloudy mornings are common. About 40% of days start cloudy. \n",
    "* This month is usually dry so only 3 of 30 days (10%) tend to be rainy. \n",
    "\n",
    "What is the chance of rain during the day?"
   ]
  },
  {
   "cell_type": "code",
   "execution_count": null,
   "metadata": {},
   "outputs": [],
   "source": [
    "\"\"\"\n",
    "your solution here\n",
    "\"\"\"\n",
    "\n",
    "#.5 of all rainy days start off cloudy, which means that .5 of all rainy days do not start off cloudy\n",
    "#.4 of days start off cloudy, which means that .6 of days do not start off cloudy\n",
    "\n",
    "#3 out of 30 days of the year tend to be rainy.\n",
    "\n",
    "#You know that it is cloudy outside.  Since .40 of days start off cloudy, that means that only 12 days of the month start off cloudy.\n",
    "\n",
    "#Within the days that rain, only .5 of them start off cloudy...which means that .5 of them do not start off cloudy. \n",
    "\n",
    "#This means that out of the 3 days of the month in which it rains, 50% (or 1.5 days) do not start off cloudy...which means they would\n",
    "#lie within the 18 days of the month that do not start off cloudy\n",
    "\n",
    "#so therefore, you are left with 1.5 days that end up with rain...out of 12 days that start out cloudy...\n",
    "\n",
    "#1.5/12 = .125 or 12.5% chance of rain\n",
    "\n"
   ]
  },
  {
   "cell_type": "markdown",
   "metadata": {},
   "source": [
    "## Challenge 4\n",
    "\n",
    "One thousand people were asked through a telephone survey whether they thought more street lighting is needed at night or not.\n",
    "\n",
    "Out of the 480 men that answered the survey, 324 said yes and 156 said no. On the other hand, out of the 520 women that answered, 351 said yes and 169 said no. \n",
    "\n",
    "We wonder if men and women have a different opinions about the street lighting matter. Is gender relevant or irrelevant to the question?\n",
    "\n",
    "Consider the following events:\n",
    "- The answer is yes, so the person that answered thinks that more street lighting is needed.\n",
    "- The person who answered is a man.\n",
    "\n",
    "We want to know if these events are independent, that is, if the fact of wanting more light depends on whether one is male or female. Are these events independent or not?\n",
    "\n",
    "**Hint**: To clearly compare the answers by gender, it is best to place the data in a table."
   ]
  },
  {
   "cell_type": "code",
   "execution_count": null,
   "metadata": {},
   "outputs": [],
   "source": [
    "# your code here\n",
    "\n",
    "#Even with the exra male answering 'yes', the proportion of men who answer yes is about the same as the proportion of women \n",
    "#who answer yes (both are around 67.5%) so it looks like it does not matter if the person is male or female the % of people who say yes will be roughly the same \n",
    "\n",
    "\n"
   ]
  },
  {
   "cell_type": "code",
   "execution_count": null,
   "metadata": {},
   "outputs": [],
   "source": [
    "\"\"\"\n",
    "your solution here\n",
    "\"\"\""
   ]
  }
 ],
 "metadata": {
  "kernelspec": {
   "display_name": "Python 3",
   "language": "python",
   "name": "python3"
  },
  "language_info": {
   "codemirror_mode": {
    "name": "ipython",
    "version": 3
   },
   "file_extension": ".py",
   "mimetype": "text/x-python",
   "name": "python",
   "nbconvert_exporter": "python",
   "pygments_lexer": "ipython3",
   "version": "3.7.4"
  }
 },
 "nbformat": 4,
 "nbformat_minor": 2
}
