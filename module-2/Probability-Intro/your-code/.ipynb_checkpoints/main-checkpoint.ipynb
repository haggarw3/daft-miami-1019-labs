{
 "cells": [
  {
   "cell_type": "markdown",
   "metadata": {},
   "source": [
    "# Introduction To Probability\n",
    "## Challenge 1\n",
    "\n",
    "A and B are events of a probability space with $(\\omega, \\sigma, P)$ such that $P(A) = 0.3$, $P(B) = 0.6$ and $P(A \\cap B) = 0.1$\n",
    "\n",
    "Which of the following statements are false?\n",
    "* $P(A \\cup B) = 0.6$\n",
    "* $P(A \\cap B^{C}) = 0.2$\n",
    "* $P(A \\cap (B \\cup B^{C})) = 0.4$\n",
    "* $P(A^{C} \\cap B^{C}) = 0.3$\n",
    "* $P((A \\cap B)^{C}) = 0.9$"
   ]
  },
  {
   "cell_type": "code",
   "execution_count": null,
   "metadata": {},
   "outputs": [],
   "source": [
    "\"\"\"\n",
    "The first one is false because of 𝑃(𝐴∪𝐵) = 0.3 + 0.6 - 0.1 = 0.8\n",
    "The second one is true because 𝐵compliment is going to be 0.2 + 0.2 = 0.4 and the interception with A = 0.2\n",
    "The third one is false because the first union is going to be the whole system (1) and its interception with A is going to be A= 0.3\n",
    "The fourth one is false because the interception of everything but A (U and B which is not A) and everything but B (U and A which is not B) is U = 0.2\n",
    "The fifth one is true because A intercepted B is 0.1 and all the system except this is going to be 0.9\n",
    "\"\"\""
   ]
  },
  {
   "cell_type": "markdown",
   "metadata": {},
   "source": [
    "## Challenge 2\n",
    "There is a box with 10 white balls, 12 red balls and 8 black balls. Calculate the probability of:\n",
    "* Taking a white ball out.\n",
    "* Taking a white ball out after taking a black ball out.\n",
    "* Taking a red ball out after taking a black and a red ball out.\n",
    "* Taking a red ball out after taking a black and a red ball out with reposition.\n",
    "\n",
    "**Hint**: Reposition means putting back the ball into the box after taking it out."
   ]
  },
  {
   "cell_type": "code",
   "execution_count": null,
   "metadata": {},
   "outputs": [],
   "source": [
    "\"\"\"\n",
    "The probability of taking a white ball out is going to be 10/30 = 1/3 = 0.3333 = 33.33%\n",
    "The probability of taking a black ball out and then a white ball out is 8/30 * 10/29 = 8/87 = 0.091954 = 9.20%\n",
    "The probability of taking a black ball, a red ball and a red ball again is 8/30 * 12/29 * 11/28 = 0.0433498 = 4.33%\n",
    "The probability of taking a black ball, a red ball and red ball with reposition is 8/30 * 12/30 * 12/30 = 0.0426667 = 4.27%\n",
    "\"\"\""
   ]
  },
  {
   "cell_type": "markdown",
   "metadata": {},
   "source": [
    "## Challenge 3\n",
    "\n",
    "You are planning to go on a picnic today but the morning is cloudy. You hate rain so you don't know whether to go out or stay home! To help you make a decision, you gather the following data about rainy days:\n",
    "\n",
    "* 50% of all rainy days start off cloudy!\n",
    "* Cloudy mornings are common. About 40% of days start cloudy. \n",
    "* This month is usually dry so only 3 of 30 days (10%) tend to be rainy. \n",
    "\n",
    "What is the chance of rain during the day?"
   ]
  },
  {
   "cell_type": "code",
   "execution_count": null,
   "metadata": {},
   "outputs": [],
   "source": [
    "\"\"\"\n",
    "A = R = 10% = 1/10\n",
    "B = C = 40% = 2/5\n",
    "P(R|C) = 50% = 1/2\n",
    "P(C|R) = 1/2 * 1/10\n",
    "         ----------  = 1/8 = 0.125 = 12.5%\n",
    "            2/5\n",
    "\"\"\""
   ]
  },
  {
   "cell_type": "markdown",
   "metadata": {},
   "source": [
    "## Challenge 4\n",
    "\n",
    "One thousand people were asked through a telephone survey whether they thought more street lighting is needed at night or not.\n",
    "\n",
    "Out of the 480 men that answered the survey, 324 said yes and 156 said no. On the other hand, out of the 520 women that answered, 351 said yes and 169 said no. \n",
    "\n",
    "We wonder if men and women have a different opinions about the street lighting matter. Is gender relevant or irrelevant to the question?\n",
    "\n",
    "Consider the following events:\n",
    "- The answer is yes, so the person that answered thinks that more street lighting is needed.\n",
    "- The person who answered is a man.\n",
    "\n",
    "We want to know if these events are independent, that is, if the fact of wanting more light depends on whether one is male or female. Are these events independent or not?\n",
    "\n",
    "**Hint**: To clearly compare the answers by gender, it is best to place the data in a table."
   ]
  },
  {
   "cell_type": "code",
   "execution_count": null,
   "metadata": {},
   "outputs": [],
   "source": [
    "\"\"\"\n",
    "       Yes    No    Total\n",
    "Men    324    156    480\n",
    "Women  351    169    520\n",
    "\"\"\""
   ]
  },
  {
   "cell_type": "code",
   "execution_count": 1,
   "metadata": {},
   "outputs": [
    {
     "name": "stdout",
     "output_type": "stream",
     "text": [
      "P(Yes) = (324 + 351)/1000 =  0.675\n",
      "P(man Yes) = 324/480 =  0.675\n",
      "P(woman Yes) = 351/520 =  0.675\n",
      "The probabilities are the same, so it does not really matter whether if the subject is male or female.\n"
     ]
    }
   ],
   "source": [
    "#probability of getting a yes \n",
    "print('P(Yes) = (324 + 351)/1000 = ', (324 + 351)/1000)\n",
    "print('P(man Yes) = 324/480 = ', 324/480)\n",
    "print('P(woman Yes) = 351/520 = ', 351/520)\n",
    "print('The probabilities are the same, so it does not really matter whether if the subject is male or female.')"
   ]
  },
  {
   "cell_type": "code",
   "execution_count": null,
   "metadata": {},
   "outputs": [],
   "source": []
  }
 ],
 "metadata": {
  "kernelspec": {
   "display_name": "Python 3",
   "language": "python",
   "name": "python3"
  },
  "language_info": {
   "codemirror_mode": {
    "name": "ipython",
    "version": 3
   },
   "file_extension": ".py",
   "mimetype": "text/x-python",
   "name": "python",
   "nbconvert_exporter": "python",
   "pygments_lexer": "ipython3",
   "version": "3.7.3"
  }
 },
 "nbformat": 4,
 "nbformat_minor": 2
}
