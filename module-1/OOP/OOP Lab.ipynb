{
 "cells": [
  {
   "cell_type": "code",
   "execution_count": 72,
   "metadata": {},
   "outputs": [],
   "source": [
    "class List:\n",
    "    def __init__(self, lst):\n",
    "        self.lst = lst\n",
    "        \n",
    "    def remove_(self, list1, list2):\n",
    "        resulting_list = [item for item in list1 if item not in list2]\n",
    "        return resulting_list\n",
    "    \n",
    "    def count_spec_digits(self, list1, list2):\n",
    "        list_values = [tuple((digit, list1.count(digit))) for digit in list2]\n",
    "        for item in list_values:\n",
    "            if ',' in item:\n",
    "                list_values.remove(item)\n",
    "        return list_values\n",
    "\n",
    "    def ordered_count(self, string):\n",
    "        ls_of_the_str = list(string)\n",
    "        not_rep_int = []\n",
    "        for i in ls_of_the_str: \n",
    "            if i not in not_rep_int: \n",
    "                not_rep_int.append(i)\n",
    "        counting = []\n",
    "        for item in not_rep_int:\n",
    "            counting.append(tuple((item, string.count(item))))\n",
    "        return counting        \n",
    "\n",
    "        \n",
    "    \n",
    "#for digit in set(list2):\n",
    "#    ocurrency = list1.count(digit)\n",
    "#    tup = tuple((digit, ocurrency))\n",
    "#    k.append(tup)"
   ]
  },
  {
   "cell_type": "code",
   "execution_count": 13,
   "metadata": {},
   "outputs": [
    {
     "name": "stdout",
     "output_type": "stream",
     "text": [
      "Enter the initial integers, separated only by a comma1,1,2,3,4,5,3,3\n",
      "Enter the integers you want to remove from, separated only by a comma1,3,5\n"
     ]
    },
    {
     "data": {
      "text/plain": [
       "['2', '4']"
      ]
     },
     "execution_count": 13,
     "metadata": {},
     "output_type": "execute_result"
    }
   ],
   "source": [
    "l = List(list)\n",
    "integer_list =  input(\"Enter the initial integers, separated only by a comma \")\n",
    "integer_list = integer_list.split(',')\n",
    "\n",
    "values_list =  input(\"Enter the integers you want to remove from, separated only by a comma \")\n",
    "values_list = values_list.split(',')\n",
    "\n",
    "l.remove_(integer_list, values_list)"
   ]
  },
  {
   "cell_type": "code",
   "execution_count": 32,
   "metadata": {},
   "outputs": [
    {
     "name": "stdout",
     "output_type": "stream",
     "text": [
      "Enter the integers, separated only by a comma 1,1,1,1,2,3,3,4,6,6,8,9,9,9\n",
      "Enter the integers you want to count, separated by a comma 1,4,6,9\n"
     ]
    },
    {
     "data": {
      "text/plain": [
       "[('1', 4), ('4', 1), ('6', 2), ('9', 3)]"
      ]
     },
     "execution_count": 32,
     "metadata": {},
     "output_type": "execute_result"
    }
   ],
   "source": [
    "l = List(list)\n",
    "integers_list = input(\"Enter the integers, separated only by a comma \")\n",
    "digits_list = input(\"Enter the integers you want to count, separated by a comma \")\n",
    "\n",
    "l.count_spec_digits(integers_list, digits_list)"
   ]
  },
  {
   "cell_type": "code",
   "execution_count": null,
   "metadata": {},
   "outputs": [],
   "source": [
    "l = List(list)\n",
    "string = input(\"Enter a string \")\n",
    "print(l.ordered_count(string))"
   ]
  },
  {
   "cell_type": "code",
   "execution_count": null,
   "metadata": {},
   "outputs": [],
   "source": []
  }
 ],
 "metadata": {
  "kernelspec": {
   "display_name": "Python 3",
   "language": "python",
   "name": "python3"
  },
  "language_info": {
   "codemirror_mode": {
    "name": "ipython",
    "version": 3
   },
   "file_extension": ".py",
   "mimetype": "text/x-python",
   "name": "python",
   "nbconvert_exporter": "python",
   "pygments_lexer": "ipython3",
   "version": "3.7.3"
  }
 },
 "nbformat": 4,
 "nbformat_minor": 2
}
