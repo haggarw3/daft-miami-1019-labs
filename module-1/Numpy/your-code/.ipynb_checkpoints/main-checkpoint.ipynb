{
 "cells": [
  {
   "cell_type": "markdown",
   "metadata": {},
   "source": [
    "# Intrduction to NumPy\n",
    "\n",
    "\n",
    "#### 1. Import NumPy under the name np."
   ]
  },
  {
   "cell_type": "code",
   "execution_count": 6,
   "metadata": {},
   "outputs": [],
   "source": [
    "# your code here\n",
    "import numpy as np"
   ]
  },
  {
   "cell_type": "markdown",
   "metadata": {},
   "source": [
    "#### 2. Print your NumPy version."
   ]
  },
  {
   "cell_type": "code",
   "execution_count": 7,
   "metadata": {},
   "outputs": [
    {
     "name": "stdout",
     "output_type": "stream",
     "text": [
      "1.17.3\n"
     ]
    }
   ],
   "source": [
    "# your code here\n",
    "import numpy as np\n",
    "print(np.version.version)"
   ]
  },
  {
   "cell_type": "markdown",
   "metadata": {},
   "source": [
    "#### 3. Generate a 2x3x5 3-dimensional array with random values. Assign the array to variable *a*.\n",
    "**Challenge**: there are at least three easy ways that use numpy to generate random arrays. How many ways can you find?"
   ]
  },
  {
   "cell_type": "code",
   "execution_count": 8,
   "metadata": {},
   "outputs": [],
   "source": [
    "# Method 1\n",
    "a =np.random.random((2, 3, 5))"
   ]
  },
  {
   "cell_type": "code",
   "execution_count": 9,
   "metadata": {},
   "outputs": [
    {
     "data": {
      "text/plain": [
       "array([[[0.67596722, 0.49034257, 0.57564837, 0.33207654, 0.99897176],\n",
       "        [0.00807182, 0.36635824, 0.49791481, 0.66183585, 0.41333544],\n",
       "        [0.61063232, 0.85704197, 0.07391362, 0.35721802, 0.77256743]],\n",
       "\n",
       "       [[0.19265408, 0.6418787 , 0.11116409, 0.09951631, 0.14427274],\n",
       "        [0.50495267, 0.37533392, 0.24487494, 0.50323407, 0.18037741],\n",
       "        [0.18314617, 0.26730641, 0.12816801, 0.38720774, 0.50321217]]])"
      ]
     },
     "execution_count": 9,
     "metadata": {},
     "output_type": "execute_result"
    }
   ],
   "source": [
    "np.random.rand(2, 3, 5)"
   ]
  },
  {
   "cell_type": "code",
   "execution_count": 10,
   "metadata": {},
   "outputs": [
    {
     "data": {
      "text/plain": [
       "array([[[ 0.17543564, -0.35610552,  0.58096801, -1.35472847,\n",
       "         -1.63976117],\n",
       "        [-1.7748    ,  0.99243743, -0.41568186,  0.99977609,\n",
       "          0.94121696],\n",
       "        [ 0.12938365,  1.5010994 , -0.258681  , -1.44874905,\n",
       "         -0.55135013]],\n",
       "\n",
       "       [[ 0.37507005,  1.18669137,  0.3566482 ,  1.30588021,\n",
       "         -0.97237512],\n",
       "        [-1.98195829, -0.63518031,  0.59744506,  0.13240033,\n",
       "         -0.78982389],\n",
       "        [ 0.9451556 ,  1.07546758, -1.37330516,  0.53807671,\n",
       "          0.55845984]]])"
      ]
     },
     "execution_count": 10,
     "metadata": {},
     "output_type": "execute_result"
    }
   ],
   "source": [
    "# Method 2\n",
    "np.random.randn(2, 3, 5)"
   ]
  },
  {
   "cell_type": "markdown",
   "metadata": {},
   "source": [
    "#### 4. Print *a*.\n"
   ]
  },
  {
   "cell_type": "code",
   "execution_count": 11,
   "metadata": {},
   "outputs": [
    {
     "name": "stdout",
     "output_type": "stream",
     "text": [
      "[[[0.1318539  0.99048291 0.77331695 0.08928956 0.21084328]\n",
      "  [0.35644236 0.34611389 0.82978904 0.0741347  0.34128445]\n",
      "  [0.26619101 0.89858119 0.36449039 0.77337365 0.29088363]]\n",
      "\n",
      " [[0.54131296 0.99603588 0.05847019 0.49133768 0.08232821]\n",
      "  [0.43967151 0.0467822  0.91622385 0.60927505 0.44906817]\n",
      "  [0.98231985 0.28392641 0.31153214 0.26694413 0.10097545]]]\n"
     ]
    }
   ],
   "source": [
    "# your code here\n",
    "print(a)"
   ]
  },
  {
   "cell_type": "code",
   "execution_count": 12,
   "metadata": {},
   "outputs": [
    {
     "data": {
      "text/plain": [
       "(2, 3, 5)"
      ]
     },
     "execution_count": 12,
     "metadata": {},
     "output_type": "execute_result"
    }
   ],
   "source": [
    "a.shape"
   ]
  },
  {
   "cell_type": "markdown",
   "metadata": {},
   "source": [
    "#### 5. Create a 5x3x2 3-dimensional array with all values equaling 1. Assign the array to variable *b*."
   ]
  },
  {
   "cell_type": "code",
   "execution_count": 13,
   "metadata": {},
   "outputs": [],
   "source": [
    "# your code here\n",
    "b = np.ones((5,3,2))"
   ]
  },
  {
   "cell_type": "markdown",
   "metadata": {},
   "source": [
    "#### 6. Print *b*.\n"
   ]
  },
  {
   "cell_type": "code",
   "execution_count": 14,
   "metadata": {},
   "outputs": [
    {
     "name": "stdout",
     "output_type": "stream",
     "text": [
      "[[[1. 1.]\n",
      "  [1. 1.]\n",
      "  [1. 1.]]\n",
      "\n",
      " [[1. 1.]\n",
      "  [1. 1.]\n",
      "  [1. 1.]]\n",
      "\n",
      " [[1. 1.]\n",
      "  [1. 1.]\n",
      "  [1. 1.]]\n",
      "\n",
      " [[1. 1.]\n",
      "  [1. 1.]\n",
      "  [1. 1.]]\n",
      "\n",
      " [[1. 1.]\n",
      "  [1. 1.]\n",
      "  [1. 1.]]]\n"
     ]
    }
   ],
   "source": [
    "# your code here\n",
    "print(b)"
   ]
  },
  {
   "cell_type": "markdown",
   "metadata": {},
   "source": [
    "#### 7. Do *a* and *b* have the same size? How do you prove that in Python code?"
   ]
  },
  {
   "cell_type": "code",
   "execution_count": 15,
   "metadata": {},
   "outputs": [
    {
     "name": "stdout",
     "output_type": "stream",
     "text": [
      "a and b have the same size\n"
     ]
    }
   ],
   "source": [
    "# your code here\n",
    "size_a = a.size\n",
    "size_b = b.size\n",
    "if size_a == size_b:\n",
    "    print(\"a and b have the same size\")\n",
    "else:\n",
    "    print(\"a and b do not have the same size\")"
   ]
  },
  {
   "cell_type": "markdown",
   "metadata": {},
   "source": [
    "#### 8. Are you able to add *a* and *b*? Why or why not?\n"
   ]
  },
  {
   "cell_type": "code",
   "execution_count": 16,
   "metadata": {},
   "outputs": [
    {
     "name": "stdout",
     "output_type": "stream",
     "text": [
      "No, because even if they are the same size, they have to have the same number of arrows and columns respectively\n"
     ]
    }
   ],
   "source": [
    "# No, because even if they are the same size, they have to have the same number of arrows and columns respectively\n",
    "print(\"No, because even if they are the same size, they have to have the same number of arrows and columns respectively\")"
   ]
  },
  {
   "cell_type": "markdown",
   "metadata": {},
   "source": [
    "#### 9. Transpose *b* so that it has the same structure of *a* (i.e. become a 2x3x5 array). Assign the transposed array to variable *c*."
   ]
  },
  {
   "cell_type": "code",
   "execution_count": 17,
   "metadata": {},
   "outputs": [
    {
     "data": {
      "text/plain": [
       "array([[[1., 1., 1., 1., 1.],\n",
       "        [1., 1., 1., 1., 1.],\n",
       "        [1., 1., 1., 1., 1.]],\n",
       "\n",
       "       [[1., 1., 1., 1., 1.],\n",
       "        [1., 1., 1., 1., 1.],\n",
       "        [1., 1., 1., 1., 1.]]])"
      ]
     },
     "execution_count": 17,
     "metadata": {},
     "output_type": "execute_result"
    }
   ],
   "source": [
    "# your code here\n",
    "c = np.transpose(b)\n",
    "c"
   ]
  },
  {
   "cell_type": "markdown",
   "metadata": {},
   "source": [
    "#### 10. Try to add *a* and *c*. Now it should work. Assign the sum to variable *d*. But why does it work now?"
   ]
  },
  {
   "cell_type": "code",
   "execution_count": 18,
   "metadata": {},
   "outputs": [
    {
     "data": {
      "text/plain": [
       "array([[[1.1318539 , 1.99048291, 1.77331695, 1.08928956, 1.21084328],\n",
       "        [1.35644236, 1.34611389, 1.82978904, 1.0741347 , 1.34128445],\n",
       "        [1.26619101, 1.89858119, 1.36449039, 1.77337365, 1.29088363]],\n",
       "\n",
       "       [[1.54131296, 1.99603588, 1.05847019, 1.49133768, 1.08232821],\n",
       "        [1.43967151, 1.0467822 , 1.91622385, 1.60927505, 1.44906817],\n",
       "        [1.98231985, 1.28392641, 1.31153214, 1.26694413, 1.10097545]]])"
      ]
     },
     "execution_count": 18,
     "metadata": {},
     "output_type": "execute_result"
    }
   ],
   "source": [
    "# your code/answer here\n",
    "d = np.add(a, c)\n",
    "d"
   ]
  },
  {
   "cell_type": "markdown",
   "metadata": {},
   "source": [
    "#### 11. Print *a* and *d*. Notice the difference and relation of the two array in terms of the values? Explain."
   ]
  },
  {
   "cell_type": "code",
   "execution_count": 19,
   "metadata": {},
   "outputs": [
    {
     "name": "stdout",
     "output_type": "stream",
     "text": [
      "[[[0.1318539  0.99048291 0.77331695 0.08928956 0.21084328]\n",
      "  [0.35644236 0.34611389 0.82978904 0.0741347  0.34128445]\n",
      "  [0.26619101 0.89858119 0.36449039 0.77337365 0.29088363]]\n",
      "\n",
      " [[0.54131296 0.99603588 0.05847019 0.49133768 0.08232821]\n",
      "  [0.43967151 0.0467822  0.91622385 0.60927505 0.44906817]\n",
      "  [0.98231985 0.28392641 0.31153214 0.26694413 0.10097545]]]\n",
      "[[[1.1318539  1.99048291 1.77331695 1.08928956 1.21084328]\n",
      "  [1.35644236 1.34611389 1.82978904 1.0741347  1.34128445]\n",
      "  [1.26619101 1.89858119 1.36449039 1.77337365 1.29088363]]\n",
      "\n",
      " [[1.54131296 1.99603588 1.05847019 1.49133768 1.08232821]\n",
      "  [1.43967151 1.0467822  1.91622385 1.60927505 1.44906817]\n",
      "  [1.98231985 1.28392641 1.31153214 1.26694413 1.10097545]]]\n"
     ]
    }
   ],
   "source": [
    "# your code/answer here\n",
    "print(a)\n",
    "print(d)"
   ]
  },
  {
   "cell_type": "markdown",
   "metadata": {},
   "source": [
    "#### 12. Multiply *a* and *c*. Assign the result to *e*."
   ]
  },
  {
   "cell_type": "code",
   "execution_count": 20,
   "metadata": {},
   "outputs": [
    {
     "data": {
      "text/plain": [
       "array([[[0.1318539 , 0.99048291, 0.77331695, 0.08928956, 0.21084328],\n",
       "        [0.35644236, 0.34611389, 0.82978904, 0.0741347 , 0.34128445],\n",
       "        [0.26619101, 0.89858119, 0.36449039, 0.77337365, 0.29088363]],\n",
       "\n",
       "       [[0.54131296, 0.99603588, 0.05847019, 0.49133768, 0.08232821],\n",
       "        [0.43967151, 0.0467822 , 0.91622385, 0.60927505, 0.44906817],\n",
       "        [0.98231985, 0.28392641, 0.31153214, 0.26694413, 0.10097545]]])"
      ]
     },
     "execution_count": 20,
     "metadata": {},
     "output_type": "execute_result"
    }
   ],
   "source": [
    "# your code here\n",
    "e = np.multiply(a, c)\n",
    "e"
   ]
  },
  {
   "cell_type": "markdown",
   "metadata": {},
   "source": [
    "#### 13. Does *e* equal to *a*? Why or why not?\n"
   ]
  },
  {
   "cell_type": "code",
   "execution_count": 23,
   "metadata": {},
   "outputs": [
    {
     "name": "stdout",
     "output_type": "stream",
     "text": [
      "They are the same!\n"
     ]
    }
   ],
   "source": [
    "# your code/answer here\n",
    "equal_items = [1 for m in range(2) for n in range(3) for p in range(5) if a[m][n][p] == e[m][n][p]]\n",
    "                \n",
    "if sum(equal_items) == len(equal_items):\n",
    "    print(\"They are the same!\")\n",
    "else:\n",
    "    print(\"They are different!\")"
   ]
  },
  {
   "cell_type": "markdown",
   "metadata": {},
   "source": [
    "#### 14. Identify the max, min, and mean values in *d*. Assign those values to variables *d_max*, *d_min* and *d_mean*."
   ]
  },
  {
   "cell_type": "code",
   "execution_count": 24,
   "metadata": {},
   "outputs": [
    {
     "name": "stdout",
     "output_type": "stream",
     "text": [
      "1.9960358814769128\n",
      "1.0467821990407842\n",
      "1.4437758186915193\n"
     ]
    }
   ],
   "source": [
    "# your code here\n",
    "d_max = np.max(d)\n",
    "print(d_max)\n",
    "\n",
    "d_min = np.min(d)\n",
    "print(d_min)\n",
    "\n",
    "d_mean = np.mean(d)\n",
    "print(d_mean)"
   ]
  },
  {
   "cell_type": "markdown",
   "metadata": {},
   "source": [
    "#### 15. Now we want to label the values in *d*. First create an empty array *f* with the same shape (i.e. 2x3x5) as *d* using `np.empty`.\n"
   ]
  },
  {
   "cell_type": "code",
   "execution_count": 25,
   "metadata": {},
   "outputs": [
    {
     "name": "stdout",
     "output_type": "stream",
     "text": [
      "[[[0.1318539  0.99048291 0.77331695 0.08928956 0.21084328]\n",
      "  [0.35644236 0.34611389 0.82978904 0.0741347  0.34128445]\n",
      "  [0.26619101 0.89858119 0.36449039 0.77337365 0.29088363]]\n",
      "\n",
      " [[0.54131296 0.99603588 0.05847019 0.49133768 0.08232821]\n",
      "  [0.43967151 0.0467822  0.91622385 0.60927505 0.44906817]\n",
      "  [0.98231985 0.28392641 0.31153214 0.26694413 0.10097545]]]\n"
     ]
    }
   ],
   "source": [
    "# your code here\n",
    "f = np.empty((2, 3, 5))\n",
    "print(f)"
   ]
  },
  {
   "cell_type": "markdown",
   "metadata": {},
   "source": [
    "#### 16. Populate the values in *f*. \n",
    "\n",
    "For each value in *d*, if it's larger than *d_min* but smaller than *d_mean*, assign 25 to the corresponding value in *f*. If a value in *d* is larger than *d_mean* but smaller than *d_max*, assign 75 to the corresponding value in *f*. If a value equals to *d_mean*, assign 50 to the corresponding value in *f*. Assign 0 to the corresponding value(s) in *f* for *d_min* in *d*. Assign 100 to the corresponding value(s) in *f* for *d_max* in *d*. In the end, f should have only the following values: 0, 25, 50, 75, and 100.\n",
    "\n",
    "**Note**: you don't have to use Numpy in this question."
   ]
  },
  {
   "cell_type": "code",
   "execution_count": 26,
   "metadata": {},
   "outputs": [
    {
     "name": "stdout",
     "output_type": "stream",
     "text": [
      "[[[ 25.  75.  75.  25.  25.]\n",
      "  [ 25.  25.  75.  25.  25.]\n",
      "  [ 25.  75.  25.  75.  25.]]\n",
      "\n",
      " [[ 75. 100.  25.  75.  25.]\n",
      "  [ 25.   0.  75.  75.  75.]\n",
      "  [ 75.  25.  25.  25.  25.]]]\n"
     ]
    }
   ],
   "source": [
    "# your code here\n",
    "for a in range(2):\n",
    "    for b in range(3):\n",
    "        for c in range(5):\n",
    "            if d[a][b][c] > d_min and d[a][b][c] < d_mean:\n",
    "                f[a][b][c] = 25\n",
    "            elif d[a][b][c] > d_mean and d[a][b][c] < d_max:\n",
    "                f[a][b][c] = 75\n",
    "            elif d[a][b][c] == d_mean:\n",
    "                f[a][b][c] = 50\n",
    "            elif d[a][b][c] == d_min:\n",
    "                f[a][b][c] = 0\n",
    "            elif d[a][b][c] == d_max:\n",
    "                f[a][b][c] = 100"
   ]
  },
  {
   "cell_type": "code",
   "execution_count": null,
   "metadata": {},
   "outputs": [],
   "source": [
    "# 17. Print *d* and *f*. Do you have your expected *f*?\n",
    "'''For instance, if your *d* is:\n",
    "```python\n",
    "[[[1.85836099, 1.67064465, 1.62576044, 1.40243961, 1.88454931],\n",
    "[1.75354326, 1.69403643, 1.36729252, 1.61415071, 1.12104981],\n",
    "[1.72201435, 1.1862918 , 1.87078449, 1.7726778 , 1.88180042]],\n",
    "[[1.44747908, 1.31673383, 1.02000951, 1.52218947, 1.97066381],\n",
    "[1.79129243, 1.74983003, 1.96028037, 1.85166831, 1.65450881],\n",
    "[1.18068344, 1.9587381 , 1.00656599, 1.93402165, 1.73514584]]]\n",
    "```\n",
    "Your *f* should be:\n",
    "```python\n",
    "[[[ 75.,  75.,  75.,  25.,  75.],\n",
    "[ 75.,  75.,  25.,  25.,  25.],\n",
    "[ 75.,  25.,  75.,  75.,  75.]],\n",
    "[[ 25.,  25.,  25.,  25., 100.],\n",
    "[ 75.,  75.,  75.,  75.,  75.],\n",
    "[ 25.,  75.,   0.,  75.,  75.]]]'''\n",
    "\n",
    "```"
   ]
  },
  {
   "cell_type": "code",
   "execution_count": 27,
   "metadata": {},
   "outputs": [
    {
     "name": "stdout",
     "output_type": "stream",
     "text": [
      "[[[1.1318539  1.99048291 1.77331695 1.08928956 1.21084328]\n",
      "  [1.35644236 1.34611389 1.82978904 1.0741347  1.34128445]\n",
      "  [1.26619101 1.89858119 1.36449039 1.77337365 1.29088363]]\n",
      "\n",
      " [[1.54131296 1.99603588 1.05847019 1.49133768 1.08232821]\n",
      "  [1.43967151 1.0467822  1.91622385 1.60927505 1.44906817]\n",
      "  [1.98231985 1.28392641 1.31153214 1.26694413 1.10097545]]]\n",
      "[[[ 25.  75.  75.  25.  25.]\n",
      "  [ 25.  25.  75.  25.  25.]\n",
      "  [ 25.  75.  25.  75.  25.]]\n",
      "\n",
      " [[ 75. 100.  25.  75.  25.]\n",
      "  [ 25.   0.  75.  75.  75.]\n",
      "  [ 75.  25.  25.  25.  25.]]]\n"
     ]
    }
   ],
   "source": [
    "# your code here\n",
    "print(d)\n",
    "print(f)"
   ]
  },
  {
   "cell_type": "markdown",
   "metadata": {},
   "source": [
    "#### 18. Bonus question: instead of using numbers (i.e. 0, 25, 50, 75, and 100), use string values  (\"A\", \"B\", \"C\", \"D\", and \"E\") to label the array elements. For the example above, the expected result is:\n",
    "\n",
    "```python\n",
    "[[[ 'D',  'D',  'D',  'B',  'D'],\n",
    "[ 'D',  'D',  'B',  'B',  'B'],\n",
    "[ 'D',  'B',  'D',  'D',  'D']],\n",
    "[[ 'B',  'B',  'B',  'B',  'E'],\n",
    "[ 'D',  'D',  'D',  'D',  'D'],\n",
    "[ 'B',  'D',   'A',  'D', 'D']]]\n",
    "```\n",
    "**Note**: you don't have to use Numpy in this question."
   ]
  },
  {
   "cell_type": "code",
   "execution_count": 59,
   "metadata": {},
   "outputs": [
    {
     "data": {
      "text/plain": [
       "[[['B', 'D', 'D', 'B', 'B'],\n",
       "  ['B', 'B', 'D', 'B', 'B'],\n",
       "  ['B', 'D', 'B', 'D', 'B']],\n",
       " [['D', 'E', 'B', 'D', 'B'],\n",
       "  ['B', 'A', 'D', 'D', 'D'],\n",
       "  ['D', 'B', 'B', 'B', 'B']]]"
      ]
     },
     "execution_count": 59,
     "metadata": {},
     "output_type": "execute_result"
    }
   ],
   "source": [
    "f = []\n",
    "for x in range(2):\n",
    "    list2 = []\n",
    "    for y in range(3):\n",
    "        list3 = [1, 2, 3, 4, 5]\n",
    "        for z in range(5):\n",
    "            if d[x][y][z] > d_min and d[x][y][z] < d_mean:\n",
    "                list3[z] = 'B'\n",
    "            elif d[x][y][z] > d_mean and d[x][y][z] < d_max:\n",
    "                list3[z] = \"D\"\n",
    "            elif d[x][y][z] == d_mean:\n",
    "                list3[z] = \"C\"\n",
    "            elif d[x][y][z] == d_min:\n",
    "                list3[z] = \"A\"\n",
    "            elif d[x][y][z] == d_max:\n",
    "                list3[z] = \"E\"\n",
    "        list2.append(list3)\n",
    "    f.append(list2)\n",
    "f"
   ]
  }
 ],
 "metadata": {
  "kernelspec": {
   "display_name": "Python 3",
   "language": "python",
   "name": "python3"
  },
  "language_info": {
   "codemirror_mode": {
    "name": "ipython",
    "version": 3
   },
   "file_extension": ".py",
   "mimetype": "text/x-python",
   "name": "python",
   "nbconvert_exporter": "python",
   "pygments_lexer": "ipython3",
   "version": "3.7.3"
  }
 },
 "nbformat": 4,
 "nbformat_minor": 2
}
