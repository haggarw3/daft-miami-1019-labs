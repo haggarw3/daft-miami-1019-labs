{
 "cells": [
  {
   "cell_type": "markdown",
   "metadata": {},
   "source": [
    "# Intrduction to NumPy\n",
    "\n",
    "\n",
    "#### 1. Import NumPy under the name np."
   ]
  },
  {
   "cell_type": "code",
   "execution_count": 4,
   "metadata": {},
   "outputs": [],
   "source": [
    "# your code here\n",
    "\n",
    "import numpy as np"
   ]
  },
  {
   "cell_type": "markdown",
   "metadata": {},
   "source": [
    "#### 2. Print your NumPy version."
   ]
  },
  {
   "cell_type": "code",
   "execution_count": 5,
   "metadata": {},
   "outputs": [
    {
     "name": "stdout",
     "output_type": "stream",
     "text": [
      "1.17.2\n"
     ]
    }
   ],
   "source": [
    "# your code here\n",
    "\n",
    "import numpy as np\n",
    "\n",
    "print(np.__version__)"
   ]
  },
  {
   "cell_type": "markdown",
   "metadata": {},
   "source": [
    "#### 3. Generate a 2x3x5 3-dimensional array with random values. Assign the array to variable *a*.\n",
    "**Challenge**: there are at least three easy ways that use numpy to generate random arrays. How many ways can you find?"
   ]
  },
  {
   "cell_type": "code",
   "execution_count": 7,
   "metadata": {},
   "outputs": [
    {
     "name": "stdout",
     "output_type": "stream",
     "text": [
      "[[[0.74069388 0.38433112 0.10397888 0.18478458 0.24673963]\n",
      "  [0.12190424 0.98033358 0.91607414 0.99717999 0.63584645]\n",
      "  [0.78128958 0.29689699 0.24975485 0.80531296 0.36142671]]\n",
      "\n",
      " [[0.47489462 0.28014345 0.20326961 0.03981962 0.434348  ]\n",
      "  [0.15400515 0.28338208 0.54666194 0.50196405 0.12947116]\n",
      "  [0.36442205 0.74571474 0.34583262 0.94909323 0.8217358 ]]]\n"
     ]
    }
   ],
   "source": [
    "# Method 1\n",
    "\n",
    "a = np.random.random((2,3,5))\n",
    "print(a)"
   ]
  },
  {
   "cell_type": "code",
   "execution_count": 8,
   "metadata": {},
   "outputs": [
    {
     "name": "stdout",
     "output_type": "stream",
     "text": [
      "[[[0.37674114 0.0727033  0.33013306 0.80704053 0.60145958]\n",
      "  [0.59951141 0.19418142 0.0668133  0.11934796 0.86970367]\n",
      "  [0.34859486 0.55737893 0.9986331  0.47554747 0.09247199]]\n",
      "\n",
      " [[0.45872451 0.66833235 0.39526661 0.24628942 0.14482382]\n",
      "  [0.36623609 0.43309124 0.52336101 0.38130475 0.33730227]\n",
      "  [0.68993293 0.74324204 0.60564764 0.46049014 0.22054047]]]\n"
     ]
    }
   ],
   "source": [
    "# Method 2\n",
    "\n",
    "a = np.random.rand(2,3,5)\n",
    "print(a)"
   ]
  },
  {
   "cell_type": "code",
   "execution_count": 11,
   "metadata": {
    "scrolled": true
   },
   "outputs": [
    {
     "data": {
      "text/plain": [
       "array([[[ 1.62434536, -0.61175641, -0.52817175, -1.07296862,\n",
       "          0.86540763],\n",
       "        [-2.3015387 ,  1.74481176, -0.7612069 ,  0.3190391 ,\n",
       "         -0.24937038],\n",
       "        [ 1.46210794, -2.06014071, -0.3224172 , -0.38405435,\n",
       "          1.13376944]],\n",
       "\n",
       "       [[-1.09989127, -0.17242821, -0.87785842,  0.04221375,\n",
       "          0.58281521],\n",
       "        [-1.10061918,  1.14472371,  0.90159072,  0.50249434,\n",
       "          0.90085595],\n",
       "        [-0.68372786, -0.12289023, -0.93576943, -0.26788808,\n",
       "          0.53035547]]])"
      ]
     },
     "execution_count": 11,
     "metadata": {},
     "output_type": "execute_result"
    }
   ],
   "source": [
    "# Method 3\n",
    "\n",
    "np.random.seed(1)\n",
    "np.random.randn(2,3,5)"
   ]
  },
  {
   "cell_type": "markdown",
   "metadata": {},
   "source": [
    "#### 4. Print *a*.\n"
   ]
  },
  {
   "cell_type": "code",
   "execution_count": null,
   "metadata": {},
   "outputs": [],
   "source": [
    "# your code here"
   ]
  },
  {
   "cell_type": "markdown",
   "metadata": {},
   "source": [
    "#### 5. Create a 5x2x3 3-dimensional array with all values equaling 1. Assign the array to variable *b*."
   ]
  },
  {
   "cell_type": "code",
   "execution_count": 12,
   "metadata": {},
   "outputs": [
    {
     "name": "stdout",
     "output_type": "stream",
     "text": [
      "[[[1 1]\n",
      "  [1 1]\n",
      "  [1 1]]\n",
      "\n",
      " [[1 1]\n",
      "  [1 1]\n",
      "  [1 1]]\n",
      "\n",
      " [[1 1]\n",
      "  [1 1]\n",
      "  [1 1]]\n",
      "\n",
      " [[1 1]\n",
      "  [1 1]\n",
      "  [1 1]]\n",
      "\n",
      " [[1 1]\n",
      "  [1 1]\n",
      "  [1 1]]]\n"
     ]
    }
   ],
   "source": [
    "# your code here\n",
    "\n",
    "#array should be 5x3x2\n",
    "\n",
    "b =  np.full((5,3,2),1)\n",
    "\n",
    "print(b)"
   ]
  },
  {
   "cell_type": "markdown",
   "metadata": {},
   "source": [
    "#### 6. Print *b*.\n"
   ]
  },
  {
   "cell_type": "code",
   "execution_count": null,
   "metadata": {},
   "outputs": [],
   "source": [
    "# your code here"
   ]
  },
  {
   "cell_type": "markdown",
   "metadata": {},
   "source": [
    "#### 7. Do *a* and *b* have the same size? How do you prove that in Python code?"
   ]
  },
  {
   "cell_type": "code",
   "execution_count": 13,
   "metadata": {},
   "outputs": [
    {
     "name": "stdout",
     "output_type": "stream",
     "text": [
      "30\n",
      "30\n",
      "a and b are same size\n"
     ]
    }
   ],
   "source": [
    "# your code here\n",
    "\n",
    "print(a.size)\n",
    "print(b.size)\n",
    "\n",
    "if a.size == b.size:\n",
    "    print(\"a and b are same size\")\n",
    "else:\n",
    "    print(\"a and b not same size\")"
   ]
  },
  {
   "cell_type": "markdown",
   "metadata": {},
   "source": [
    "#### 8. Are you able to add *a* and *b*? Why or why not?\n"
   ]
  },
  {
   "cell_type": "code",
   "execution_count": 14,
   "metadata": {},
   "outputs": [
    {
     "name": "stdout",
     "output_type": "stream",
     "text": [
      "(2, 3, 5)\n",
      "(5, 3, 2)\n",
      "FALSE\n"
     ]
    }
   ],
   "source": [
    "print(a.shape)\n",
    "print(b.shape)\n",
    "\n",
    "\n",
    "if a.shape == b.shape:\n",
    "    print('TRUE')\n",
    "else:\n",
    "    print('FALSE')"
   ]
  },
  {
   "cell_type": "code",
   "execution_count": null,
   "metadata": {},
   "outputs": [],
   "source": [
    "# your answer here\n",
    "\n",
    "no because they have a different shape"
   ]
  },
  {
   "cell_type": "markdown",
   "metadata": {},
   "source": [
    "#### 9. Transpose *b* so that it has the same structure of *a* (i.e. become a 2x3x5 array). Assign the transposed array to variable *c*."
   ]
  },
  {
   "cell_type": "code",
   "execution_count": 15,
   "metadata": {},
   "outputs": [
    {
     "name": "stdout",
     "output_type": "stream",
     "text": [
      "[[[1 1 1 1 1]\n",
      "  [1 1 1 1 1]\n",
      "  [1 1 1 1 1]]\n",
      "\n",
      " [[1 1 1 1 1]\n",
      "  [1 1 1 1 1]\n",
      "  [1 1 1 1 1]]]\n",
      "(2, 3, 5)\n"
     ]
    }
   ],
   "source": [
    "# your code here\n",
    "\n",
    "c = b.transpose()\n",
    "\n",
    "print(c)\n",
    "print(c.shape)"
   ]
  },
  {
   "cell_type": "markdown",
   "metadata": {},
   "source": [
    "#### 10. Try to add *a* and *c*. Now it should work. Assign the sum to variable *d*. But why does it work now?"
   ]
  },
  {
   "cell_type": "code",
   "execution_count": 34,
   "metadata": {},
   "outputs": [
    {
     "name": "stdout",
     "output_type": "stream",
     "text": [
      "[[[1.37674114 1.0727033  1.33013306 1.80704053 1.60145958]\n",
      "  [1.59951141 1.19418142 1.0668133  1.11934796 1.86970367]\n",
      "  [1.34859486 1.55737893 1.9986331  1.47554747 1.09247199]]\n",
      "\n",
      " [[1.45872451 1.66833235 1.39526661 1.24628942 1.14482382]\n",
      "  [1.36623609 1.43309124 1.52336101 1.38130475 1.33730227]\n",
      "  [1.68993293 1.74324204 1.60564764 1.46049014 1.22054047]]]\n",
      "(2, 3, 5)\n"
     ]
    }
   ],
   "source": [
    "# your code/answer here\n",
    "\n",
    "d = a + c\n",
    "\n",
    "print(d)\n",
    "\n",
    "print(d.shape)"
   ]
  },
  {
   "cell_type": "markdown",
   "metadata": {},
   "source": [
    "#### 11. Print *a* and *d*. Notice the difference and relation of the two array in terms of the values? Explain."
   ]
  },
  {
   "cell_type": "code",
   "execution_count": 17,
   "metadata": {},
   "outputs": [
    {
     "name": "stdout",
     "output_type": "stream",
     "text": [
      "[[[0.37674114 0.0727033  0.33013306 0.80704053 0.60145958]\n",
      "  [0.59951141 0.19418142 0.0668133  0.11934796 0.86970367]\n",
      "  [0.34859486 0.55737893 0.9986331  0.47554747 0.09247199]]\n",
      "\n",
      " [[0.45872451 0.66833235 0.39526661 0.24628942 0.14482382]\n",
      "  [0.36623609 0.43309124 0.52336101 0.38130475 0.33730227]\n",
      "  [0.68993293 0.74324204 0.60564764 0.46049014 0.22054047]]]\n",
      "[[[1.37674114 1.0727033  1.33013306 1.80704053 1.60145958]\n",
      "  [1.59951141 1.19418142 1.0668133  1.11934796 1.86970367]\n",
      "  [1.34859486 1.55737893 1.9986331  1.47554747 1.09247199]]\n",
      "\n",
      " [[1.45872451 1.66833235 1.39526661 1.24628942 1.14482382]\n",
      "  [1.36623609 1.43309124 1.52336101 1.38130475 1.33730227]\n",
      "  [1.68993293 1.74324204 1.60564764 1.46049014 1.22054047]]]\n"
     ]
    }
   ],
   "source": [
    "# your code/answer here\n",
    "\n",
    "#a is 2x3x5\n",
    "# d is 2x3x5\n",
    "\n",
    "print(a)\n",
    "print(d)\n",
    "\n",
    "#the relation in arrays is the same, two sets of 3 rows and 5 columns"
   ]
  },
  {
   "cell_type": "markdown",
   "metadata": {},
   "source": [
    "#### 12. Multiply *a* and *c*. Assign the result to *e*."
   ]
  },
  {
   "cell_type": "code",
   "execution_count": 18,
   "metadata": {},
   "outputs": [
    {
     "name": "stdout",
     "output_type": "stream",
     "text": [
      "[[[0.37674114 0.0727033  0.33013306 0.80704053 0.60145958]\n",
      "  [0.59951141 0.19418142 0.0668133  0.11934796 0.86970367]\n",
      "  [0.34859486 0.55737893 0.9986331  0.47554747 0.09247199]]\n",
      "\n",
      " [[0.45872451 0.66833235 0.39526661 0.24628942 0.14482382]\n",
      "  [0.36623609 0.43309124 0.52336101 0.38130475 0.33730227]\n",
      "  [0.68993293 0.74324204 0.60564764 0.46049014 0.22054047]]]\n"
     ]
    }
   ],
   "source": [
    "# your code here\n",
    "\n",
    "e = a*c\n",
    "\n",
    "print(e)"
   ]
  },
  {
   "cell_type": "markdown",
   "metadata": {},
   "source": [
    "#### 13. Does *e* equal to *a*? Why or why not?\n"
   ]
  },
  {
   "cell_type": "code",
   "execution_count": 19,
   "metadata": {},
   "outputs": [
    {
     "name": "stdout",
     "output_type": "stream",
     "text": [
      "TRUE\n"
     ]
    }
   ],
   "source": [
    "# your code/answer here\n",
    "\n",
    "if e.any() == a.any():\n",
    "    print('TRUE')\n",
    "else:\n",
    "    print('FALSE')"
   ]
  },
  {
   "cell_type": "markdown",
   "metadata": {},
   "source": [
    "#### 14. Identify the max, min, and mean values in *d*. Assign those values to variables *d_max*, *d_min* and *d_mean*."
   ]
  },
  {
   "cell_type": "code",
   "execution_count": 20,
   "metadata": {},
   "outputs": [
    {
     "name": "stdout",
     "output_type": "stream",
     "text": [
      "1.998633096835238\n",
      "1.0668133014962284\n",
      "1.4394949010265254\n"
     ]
    }
   ],
   "source": [
    "# your code here\n",
    "\n",
    "d_max = np.max(d)\n",
    "\n",
    "d_min = np.min(d)\n",
    "\n",
    "d_mean = np.mean(d)\n",
    "\n",
    "print(d_max)\n",
    "print(d_min)\n",
    "print(d_mean)"
   ]
  },
  {
   "cell_type": "markdown",
   "metadata": {},
   "source": [
    "#### 15. Now we want to label the values in *d*. First create an empty array *f* with the same shape (i.e. 2x3x5) as *d* using `np.empty`.\n"
   ]
  },
  {
   "cell_type": "code",
   "execution_count": 22,
   "metadata": {},
   "outputs": [
    {
     "name": "stdout",
     "output_type": "stream",
     "text": [
      "[[[0.37674114 0.0727033  0.33013306 0.80704053 0.60145958]\n",
      "  [0.59951141 0.19418142 0.0668133  0.11934796 0.86970367]\n",
      "  [0.34859486 0.55737893 0.9986331  0.47554747 0.09247199]]\n",
      "\n",
      " [[0.45872451 0.66833235 0.39526661 0.24628942 0.14482382]\n",
      "  [0.36623609 0.43309124 0.52336101 0.38130475 0.33730227]\n",
      "  [0.68993293 0.74324204 0.60564764 0.46049014 0.22054047]]]\n"
     ]
    }
   ],
   "source": [
    "# your code here\n",
    "\n",
    "f = np.empty((2,3,5))\n",
    "\n",
    "print(f)"
   ]
  },
  {
   "cell_type": "markdown",
   "metadata": {},
   "source": [
    "#### 16. Populate the values in *f*. \n",
    "\n",
    "For each value in *d*, if it's larger than *d_min* but smaller than *d_mean*, assign 25 to the corresponding value in *f*. If a value in *d* is larger than *d_mean* but smaller than *d_max*, assign 75 to the corresponding value in *f*. If a value equals to *d_mean*, assign 50 to the corresponding value in *f*. Assign 0 to the corresponding value(s) in *f* for *d_min* in *d*. Assign 100 to the corresponding value(s) in *f* for *d_max* in *d*. In the end, f should have only the following values: 0, 25, 50, 75, and 100.\n",
    "\n",
    "**Note**: you don't have to use Numpy in this question."
   ]
  },
  {
   "cell_type": "code",
   "execution_count": 35,
   "metadata": {},
   "outputs": [
    {
     "ename": "ValueError",
     "evalue": "The truth value of an array with more than one element is ambiguous. Use a.any() or a.all()",
     "output_type": "error",
     "traceback": [
      "\u001b[0;31m---------------------------------------------------------------------------\u001b[0m",
      "\u001b[0;31mValueError\u001b[0m                                Traceback (most recent call last)",
      "\u001b[0;32m<ipython-input-35-dd1310496330>\u001b[0m in \u001b[0;36m<module>\u001b[0;34m\u001b[0m\n\u001b[1;32m     13\u001b[0m             \u001b[0mf\u001b[0m \u001b[0;34m=\u001b[0m \u001b[0;36m100\u001b[0m\u001b[0;34m\u001b[0m\u001b[0;34m\u001b[0m\u001b[0m\n\u001b[1;32m     14\u001b[0m \u001b[0;34m\u001b[0m\u001b[0m\n\u001b[0;32m---> 15\u001b[0;31m \u001b[0mfunc\u001b[0m\u001b[0;34m(\u001b[0m\u001b[0;34m)\u001b[0m\u001b[0;34m\u001b[0m\u001b[0;34m\u001b[0m\u001b[0m\n\u001b[0m\u001b[1;32m     16\u001b[0m \u001b[0;34m\u001b[0m\u001b[0m\n\u001b[1;32m     17\u001b[0m \u001b[0;34m\u001b[0m\u001b[0m\n",
      "\u001b[0;32m<ipython-input-35-dd1310496330>\u001b[0m in \u001b[0;36mfunc\u001b[0;34m()\u001b[0m\n\u001b[1;32m      2\u001b[0m \u001b[0;32mdef\u001b[0m \u001b[0mfunc\u001b[0m\u001b[0;34m(\u001b[0m\u001b[0;34m)\u001b[0m\u001b[0;34m:\u001b[0m\u001b[0;34m\u001b[0m\u001b[0;34m\u001b[0m\u001b[0m\n\u001b[1;32m      3\u001b[0m     \u001b[0;32mfor\u001b[0m \u001b[0mi\u001b[0m \u001b[0;32min\u001b[0m \u001b[0md\u001b[0m\u001b[0;34m:\u001b[0m\u001b[0;34m\u001b[0m\u001b[0;34m\u001b[0m\u001b[0m\n\u001b[0;32m----> 4\u001b[0;31m         \u001b[0;32mif\u001b[0m \u001b[0md_mean\u001b[0m \u001b[0;34m<\u001b[0m \u001b[0mi\u001b[0m \u001b[0;34m>\u001b[0m \u001b[0md_min\u001b[0m\u001b[0;34m:\u001b[0m\u001b[0;34m\u001b[0m\u001b[0;34m\u001b[0m\u001b[0m\n\u001b[0m\u001b[1;32m      5\u001b[0m             \u001b[0mf\u001b[0m \u001b[0;34m=\u001b[0m \u001b[0;36m25\u001b[0m\u001b[0;34m\u001b[0m\u001b[0;34m\u001b[0m\u001b[0m\n\u001b[1;32m      6\u001b[0m         \u001b[0;32mif\u001b[0m \u001b[0md_mean\u001b[0m \u001b[0;34m<\u001b[0m \u001b[0mi\u001b[0m \u001b[0;34m>\u001b[0m \u001b[0md_max\u001b[0m\u001b[0;34m:\u001b[0m\u001b[0;34m\u001b[0m\u001b[0;34m\u001b[0m\u001b[0m\n",
      "\u001b[0;31mValueError\u001b[0m: The truth value of an array with more than one element is ambiguous. Use a.any() or a.all()"
     ]
    }
   ],
   "source": [
    "# your code here\n",
    "def func():\n",
    "    for i in d:\n",
    "        if d_mean < i > d_min:\n",
    "            f = 25\n",
    "        if d_mean < i > d_max:\n",
    "            f = 75\n",
    "        if d_mean == i:\n",
    "            f = 50\n",
    "        if d_min == i:\n",
    "            f = 0\n",
    "        if d_max == i:\n",
    "            f = 100\n",
    "            \n",
    "func()\n",
    "\n",
    "    "
   ]
  },
  {
   "cell_type": "code",
   "execution_count": 52,
   "metadata": {},
   "outputs": [],
   "source": [
    "    for i,array1 in enumerate(d):\n",
    "        for x,array2 in enumerate(array1):\n",
    "            for y,array3 in enumerate(array2):\n",
    "                if array3 > d_min and array3 < d_mean:\n",
    "                    f[i][x][y] = 25\n",
    "                if array3 > d_mean and array3 < d_max:\n",
    "                    f[i][x][y] = 75\n",
    "                if d_mean == array3:\n",
    "                     f[i][x][y] = 50\n",
    "                if d_min == array3:\n",
    "                     f[i][x][y] = 0\n",
    "                if d_max == array3:\n",
    "                     f[i][x][y] = 100    \n",
    "        "
   ]
  },
  {
   "cell_type": "code",
   "execution_count": 53,
   "metadata": {},
   "outputs": [
    {
     "data": {
      "text/plain": [
       "array([[[ 25.,  25.,  25.,  75.,  75.],\n",
       "        [ 75.,  25.,   0.,  25.,  75.],\n",
       "        [ 25.,  75., 100.,  75.,  25.]],\n",
       "\n",
       "       [[ 75.,  75.,  25.,  25.,  25.],\n",
       "        [ 25.,  25.,  75.,  25.,  25.],\n",
       "        [ 75.,  75.,  75.,  75.,  25.]]])"
      ]
     },
     "execution_count": 53,
     "metadata": {},
     "output_type": "execute_result"
    }
   ],
   "source": [
    "f"
   ]
  },
  {
   "cell_type": "code",
   "execution_count": 58,
   "metadata": {},
   "outputs": [
    {
     "name": "stdout",
     "output_type": "stream",
     "text": [
      "0 10\n",
      "1 434\n",
      "2 343\n",
      "3 452\n",
      "4 5252\n"
     ]
    }
   ],
   "source": [
    "x = [10,434,343,452,5252]\n",
    "\n",
    "#for index, value in enumerate(list)\n",
    "\n",
    "for i, m in enumerate(x):\n",
    "    print(i,m)"
   ]
  },
  {
   "cell_type": "markdown",
   "metadata": {},
   "source": [
    "#### 17. Print *d* and *f*. Do you have your expected *f*?\n",
    "For instance, if your *d* is:\n",
    "```python\n",
    "[[[1.85836099, 1.67064465, 1.62576044, 1.40243961, 1.88454931],\n",
    "[1.75354326, 1.69403643, 1.36729252, 1.61415071, 1.12104981],\n",
    "[1.72201435, 1.1862918 , 1.87078449, 1.7726778 , 1.88180042]],\n",
    "[[1.44747908, 1.31673383, 1.02000951, 1.52218947, 1.97066381],\n",
    "[1.79129243, 1.74983003, 1.96028037, 1.85166831, 1.65450881],\n",
    "[1.18068344, 1.9587381 , 1.00656599, 1.93402165, 1.73514584]]]\n",
    "```\n",
    "Your *f* should be:\n",
    "```python\n",
    "[[[ 75.,  75.,  75.,  25.,  75.],\n",
    "[ 75.,  75.,  25.,  25.,  25.],\n",
    "[ 75.,  25.,  75.,  75.,  75.]],\n",
    "[[ 25.,  25.,  25.,  25., 100.],\n",
    "[ 75.,  75.,  75.,  75.,  75.],\n",
    "[ 25.,  75.,   0.,  75.,  75.]]]\n",
    "```"
   ]
  },
  {
   "cell_type": "code",
   "execution_count": null,
   "metadata": {},
   "outputs": [],
   "source": [
    "# your code here"
   ]
  },
  {
   "cell_type": "markdown",
   "metadata": {},
   "source": [
    "#### 18. Bonus question: instead of using numbers (i.e. 0, 25, 50, 75, and 100), use string values  (\"A\", \"B\", \"C\", \"D\", and \"E\") to label the array elements. For the example above, the expected result is:\n",
    "\n",
    "```python\n",
    "[[[ 'D',  'D',  'D',  'B',  'D'],\n",
    "[ 'D',  'D',  'B',  'B',  'B'],\n",
    "[ 'D',  'B',  'D',  'D',  'D']],\n",
    "[[ 'B',  'B',  'B',  'B',  'E'],\n",
    "[ 'D',  'D',  'D',  'D',  'D'],\n",
    "[ 'B',  'D',   'A',  'D', 'D']]]\n",
    "```\n",
    "**Note**: you don't have to use Numpy in this question."
   ]
  },
  {
   "cell_type": "code",
   "execution_count": null,
   "metadata": {},
   "outputs": [],
   "source": [
    "# your code here\n",
    "\n",
    "# "
   ]
  }
 ],
 "metadata": {
  "kernelspec": {
   "display_name": "Python 3",
   "language": "python",
   "name": "python3"
  },
  "language_info": {
   "codemirror_mode": {
    "name": "ipython",
    "version": 3
   },
   "file_extension": ".py",
   "mimetype": "text/x-python",
   "name": "python",
   "nbconvert_exporter": "python",
   "pygments_lexer": "ipython3",
   "version": "3.7.4"
  }
 },
 "nbformat": 4,
 "nbformat_minor": 2
}
