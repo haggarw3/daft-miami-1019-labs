{
 "cells": [
  {
   "cell_type": "code",
   "execution_count": 21,
   "metadata": {},
   "outputs": [
    {
     "ename": "SyntaxError",
     "evalue": "invalid syntax (<ipython-input-21-40729c45c86e>, line 25)",
     "output_type": "error",
     "traceback": [
      "\u001b[0;36m  File \u001b[0;32m\"<ipython-input-21-40729c45c86e>\"\u001b[0;36m, line \u001b[0;32m25\u001b[0m\n\u001b[0;31m    \"\"\"\u001b[0m\n\u001b[0m       \n^\u001b[0m\n\u001b[0;31mSyntaxError\u001b[0m\u001b[0;31m:\u001b[0m invalid syntax\n"
     ]
    }
   ],
   "source": [
    "# Importing Libraries\n",
    "\n",
    "import os\n",
    "import time\n",
    "import random\n",
    "\n",
    "# Defining Board Set-Up\n",
    "\n",
    "board = [\" \", \" \", \" \", \" \", \" \", \" \", \" \", \" \", \" \"]\n",
    "\n",
    "# Print Header\n",
    "\n",
    "def print_header():\n",
    "    print\"\"\"\n",
    "    \n",
    " _____   _   ____      _____    ___     ____      _____  ___   ___   \n",
    "/__ __\\ / \\ /   _\\    /__ __\\  /   \\   /   _\\    /__ __\\/   \\ /  _\\\n",
    "  | |   | | |  /  ____  | |   /  |  \\  |  /  ____  | |  | | | |  \\\n",
    "  | |   | | |  \\_ \\___\\ | |  /  /\\   \\ |  \\_ \\___\\ | |  | | | |  /_\n",
    "  |_|   \\_/ \\____/      \\_/ /__/  \\___\\\\____/      |_|  \\___/ \\___/\n",
    "\n",
    "How to win: you need to get three in a row.   1 | 2 | 3\n",
    "Your choices: numbers 1 through 9.            4 | 5 | 6 \n",
    "                                              7 | 8 | 9\n",
    "\"\"\"\n",
    "\n",
    "    "
   ]
  },
  {
   "cell_type": "code",
   "execution_count": 38,
   "metadata": {},
   "outputs": [
    {
     "ename": "SyntaxError",
     "evalue": "Missing parentheses in call to 'print'. Did you mean print(\"   |   |   \")? (<ipython-input-38-1187d8146f8f>, line 4)",
     "output_type": "error",
     "traceback": [
      "\u001b[0;36m  File \u001b[0;32m\"<ipython-input-38-1187d8146f8f>\"\u001b[0;36m, line \u001b[0;32m4\u001b[0m\n\u001b[0;31m    print \"   |   |   \"\u001b[0m\n\u001b[0m                      ^\u001b[0m\n\u001b[0;31mSyntaxError\u001b[0m\u001b[0;31m:\u001b[0m Missing parentheses in call to 'print'. Did you mean print(\"   |   |   \")?\n"
     ]
    }
   ],
   "source": [
    "# Defining print_board function\n",
    "\n",
    "def print_board():\n",
    "    print \"   |   |   \"\n",
    "    print \"   |   |   \"\n",
    "    print \"  \"+board[1]+\" |  \"+board[1]+\" |  \"+board[1]+\" \"\n",
    "    print \"   |   |   \"\n",
    "    print \"___|___|___\"\n",
    "    print \"   |   |   \"    \n",
    "    print \"  \"+board[4]+\" |  \"+board[5]+\" |  \"+board[6]+\" \"\n",
    "    print \"   |   |   \"\n",
    "    print \"___|___|___\"\n",
    "    print \"   |   |   \"\n",
    "    print \"  \"+board[7]+\" |  \"+board[8]+\" |  \"+board[9]+\" \"\n",
    "    print \"   |   |   \"\n",
    "    print \"   |   |   \""
   ]
  },
  {
   "cell_type": "code",
   "execution_count": null,
   "metadata": {},
   "outputs": [],
   "source": []
  },
  {
   "cell_type": "code",
   "execution_count": null,
   "metadata": {},
   "outputs": [],
   "source": []
  },
  {
   "cell_type": "code",
   "execution_count": 34,
   "metadata": {
    "scrolled": true
   },
   "outputs": [
    {
     "name": "stdout",
     "output_type": "stream",
     "text": [
      "\n",
      "    \n",
      " _____   _   ____      _____    ___     ____      _____  ___   ___   \n",
      "/__ __\\ / \\ /   _\\    /__ __\\  /   \\   /   _\\    /__ __\\/   \\ /  _  | |   | | |  /  ____  | |   /  |  \\  |  /  ____  | |  | | | |    | |   | | |  \\_ \\___\\ | |  /  /\\   \\ |  \\_ \\___\\ | |  | | | |  /_\n",
      "  |_|   \\_/ \\____/      \\_/ /__/  \\___\\____/      |_|  \\___/ \\___/\n",
      "\n",
      "How to win: you need to get three in a row.   1 | 2 | 3\n",
      "Your choices: numbers 1 through 9.            4 | 5 | 6 \n",
      "                                              7 | 8 | 9\n",
      "\n",
      "  |  |  \n",
      "    |    |    \n",
      "  |  |  \n",
      "___|___|___\n",
      "  |  |  \n",
      "    |    |    \n",
      "  |  |  \n",
      "___|___|___\n",
      "  |  |  \n"
     ]
    },
    {
     "ename": "IndexError",
     "evalue": "list index out of range",
     "output_type": "error",
     "traceback": [
      "\u001b[0;31m---------------------------------------------------------------------------\u001b[0m",
      "\u001b[0;31mIndexError\u001b[0m                                Traceback (most recent call last)",
      "\u001b[0;32m<ipython-input-34-d2703e5f4cbe>\u001b[0m in \u001b[0;36m<module>\u001b[0;34m\u001b[0m\n\u001b[1;32m      2\u001b[0m     \u001b[0mos\u001b[0m\u001b[0;34m.\u001b[0m\u001b[0msystem\u001b[0m\u001b[0;34m(\u001b[0m\u001b[0;34m\"clear\"\u001b[0m\u001b[0;34m)\u001b[0m\u001b[0;34m\u001b[0m\u001b[0;34m\u001b[0m\u001b[0m\n\u001b[1;32m      3\u001b[0m     \u001b[0mprint_header\u001b[0m\u001b[0;34m(\u001b[0m\u001b[0;34m)\u001b[0m\u001b[0;34m\u001b[0m\u001b[0;34m\u001b[0m\u001b[0m\n\u001b[0;32m----> 4\u001b[0;31m     \u001b[0mprint_board\u001b[0m\u001b[0;34m(\u001b[0m\u001b[0;34m)\u001b[0m\u001b[0;34m\u001b[0m\u001b[0;34m\u001b[0m\u001b[0m\n\u001b[0m\u001b[1;32m      5\u001b[0m \u001b[0;34m\u001b[0m\u001b[0m\n\u001b[1;32m      6\u001b[0m     \u001b[0mchoice\u001b[0m \u001b[0;34m=\u001b[0m \u001b[0mraw_input\u001b[0m\u001b[0;34m(\u001b[0m\u001b[0;34m\"Please choose an empty space for X\"\u001b[0m\u001b[0;34m)\u001b[0m\u001b[0;34m\u001b[0m\u001b[0;34m\u001b[0m\u001b[0m\n",
      "\u001b[0;32m<ipython-input-29-c3f6030c63b6>\u001b[0m in \u001b[0;36mprint_board\u001b[0;34m()\u001b[0m\n\u001b[1;32m     11\u001b[0m     \u001b[0mprint\u001b[0m \u001b[0;34m(\u001b[0m\u001b[0;34m\"___|___|___\"\u001b[0m\u001b[0;34m)\u001b[0m\u001b[0;34m\u001b[0m\u001b[0;34m\u001b[0m\u001b[0m\n\u001b[1;32m     12\u001b[0m     \u001b[0mprint\u001b[0m \u001b[0;34m(\u001b[0m\u001b[0;34m\"  |  |  \"\u001b[0m\u001b[0;34m)\u001b[0m\u001b[0;34m\u001b[0m\u001b[0;34m\u001b[0m\u001b[0m\n\u001b[0;32m---> 13\u001b[0;31m     \u001b[0mprint\u001b[0m \u001b[0;34m(\u001b[0m\u001b[0;34m\"  \"\u001b[0m\u001b[0;34m+\u001b[0m\u001b[0mboard\u001b[0m\u001b[0;34m[\u001b[0m\u001b[0;36m7\u001b[0m\u001b[0;34m]\u001b[0m\u001b[0;34m+\u001b[0m\u001b[0;34m\" |  \"\u001b[0m\u001b[0;34m+\u001b[0m\u001b[0mboard\u001b[0m\u001b[0;34m[\u001b[0m\u001b[0;36m8\u001b[0m\u001b[0;34m]\u001b[0m\u001b[0;34m+\u001b[0m\u001b[0;34m\" |  \"\u001b[0m\u001b[0;34m+\u001b[0m\u001b[0mboard\u001b[0m\u001b[0;34m[\u001b[0m\u001b[0;36m9\u001b[0m\u001b[0;34m]\u001b[0m\u001b[0;34m+\u001b[0m\u001b[0;34m\" \"\u001b[0m\u001b[0;34m)\u001b[0m\u001b[0;34m\u001b[0m\u001b[0;34m\u001b[0m\u001b[0m\n\u001b[0m\u001b[1;32m     14\u001b[0m     \u001b[0mprint\u001b[0m \u001b[0;34m(\u001b[0m\u001b[0;34m\"  |  |  \"\u001b[0m\u001b[0;34m)\u001b[0m\u001b[0;34m\u001b[0m\u001b[0;34m\u001b[0m\u001b[0m\n",
      "\u001b[0;31mIndexError\u001b[0m: list index out of range"
     ]
    }
   ],
   "source": [
    "while True:\n",
    "    os.system(\"clear\")\n",
    "    print_header()\n",
    "    print_board()\n",
    "    \n",
    "    choice = raw_input(\"Please choose an empty space for X\")\n",
    "    choice = int(choice)\n",
    "    \n",
    "    board[choice] = \"X\""
   ]
  },
  {
   "cell_type": "code",
   "execution_count": null,
   "metadata": {},
   "outputs": [],
   "source": []
  },
  {
   "cell_type": "code",
   "execution_count": null,
   "metadata": {},
   "outputs": [],
   "source": []
  },
  {
   "cell_type": "code",
   "execution_count": null,
   "metadata": {},
   "outputs": [],
   "source": [
    "# Defining print_board function\n",
    "\n",
    "def print_board():\n",
    "    print (\"  |  |  \")\n",
    "    print (\"  \"+board[1]+\" |  \"+board[1]+\" |  \"+board[1]+\" \")\n",
    "    print (\"  |  |  \")\n",
    "    print (\"___|___|___\")\n",
    "    print (\"  |  |  \"    )\n",
    "    print (\"  \"+board[4]+\" |  \"+board[5]+\" |  \"+board[6]+\" \")\n",
    "    print (\"  |  |  \")\n",
    "    print (\"___|___|___\")\n",
    "    print (\"  |  |  \")\n",
    "    print (\"  \"+board[7]+\" |  \"+board[8]+\" |  \"+board[9]+\" \")\n",
    "    print (\"  |  |  \")"
   ]
  }
 ],
 "metadata": {
  "kernelspec": {
   "display_name": "Python 3",
   "language": "python",
   "name": "python3"
  },
  "language_info": {
   "codemirror_mode": {
    "name": "ipython",
    "version": 3
   },
   "file_extension": ".py",
   "mimetype": "text/x-python",
   "name": "python",
   "nbconvert_exporter": "python",
   "pygments_lexer": "ipython3",
   "version": "3.7.4"
  }
 },
 "nbformat": 4,
 "nbformat_minor": 2
}
