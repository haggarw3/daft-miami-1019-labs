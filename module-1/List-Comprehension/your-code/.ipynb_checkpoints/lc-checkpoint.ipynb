{
 "cells": [
  {
   "cell_type": "markdown",
   "metadata": {},
   "source": [
    "# List Comprehensions\n",
    "\n",
    "Complete the following set of exercises to solidify your knowledge of list comprehensions."
   ]
  },
  {
   "cell_type": "code",
   "execution_count": null,
   "metadata": {},
   "outputs": [],
   "source": [
    "import os;"
   ]
  },
  {
   "cell_type": "markdown",
   "metadata": {},
   "source": [
    "#### 1. Use a list comprehension to create and print a list of consecutive integers starting with 1 and ending with 50."
   ]
  },
  {
   "cell_type": "code",
   "execution_count": null,
   "metadata": {},
   "outputs": [],
   "source": [
    "consecutive_integers = [x for x in range(1, 51)]\n",
    "print(consecutive_integers)"
   ]
  },
  {
   "cell_type": "markdown",
   "metadata": {},
   "source": [
    "#### 2. Use a list comprehension to create and print a list of even numbers starting with 2 and ending with 200."
   ]
  },
  {
   "cell_type": "code",
   "execution_count": null,
   "metadata": {},
   "outputs": [],
   "source": [
    "even_numbers = [e for e in range(2, 201) if e % 2 == 0]\n",
    "print(even_numbers)"
   ]
  },
  {
   "cell_type": "markdown",
   "metadata": {},
   "source": [
    "#### 3. Use a list comprehension to create and print a list containing all elements of the 10 x 4 array below."
   ]
  },
  {
   "cell_type": "code",
   "execution_count": null,
   "metadata": {},
   "outputs": [],
   "source": [
    "a = [[0.84062117, 0.48006452, 0.7876326 , 0.77109654],\n",
    "       [0.44409793, 0.09014516, 0.81835917, 0.87645456],\n",
    "       [0.7066597 , 0.09610873, 0.41247947, 0.57433389],\n",
    "       [0.29960807, 0.42315023, 0.34452557, 0.4751035 ],\n",
    "       [0.17003563, 0.46843998, 0.92796258, 0.69814654],\n",
    "       [0.41290051, 0.19561071, 0.16284783, 0.97016248],\n",
    "       [0.71725408, 0.87702738, 0.31244595, 0.76615487],\n",
    "       [0.20754036, 0.57871812, 0.07214068, 0.40356048],\n",
    "       [0.12149553, 0.53222417, 0.9976855 , 0.12536346],\n",
    "       [0.80930099, 0.50962849, 0.94555126, 0.33364763]];\n",
    "\n",
    "b = [v for u in a for v in u]\n",
    "print(b)"
   ]
  },
  {
   "cell_type": "markdown",
   "metadata": {},
   "source": [
    "#### 4. Add a condition to the list comprehension above so that only values greater than or equal to 0.5 are printed."
   ]
  },
  {
   "cell_type": "code",
   "execution_count": null,
   "metadata": {},
   "outputs": [],
   "source": [
    "b = [v for u in a for v in u if v >= 0.5]\n",
    "print(b)"
   ]
  },
  {
   "cell_type": "markdown",
   "metadata": {},
   "source": [
    "#### 5. Use a list comprehension to create and print a list containing all elements of the 5 x 2 x 3 array below."
   ]
  },
  {
   "cell_type": "code",
   "execution_count": null,
   "metadata": {},
   "outputs": [],
   "source": [
    "b = [[[0.55867166, 0.06210792, 0.08147297],\n",
    "        [0.82579068, 0.91512478, 0.06833034]],\n",
    "\n",
    "       [[0.05440634, 0.65857693, 0.30296619],\n",
    "        [0.06769833, 0.96031863, 0.51293743]],\n",
    "\n",
    "       [[0.09143215, 0.71893382, 0.45850679],\n",
    "        [0.58256464, 0.59005654, 0.56266457]],\n",
    "\n",
    "       [[0.71600294, 0.87392666, 0.11434044],\n",
    "        [0.8694668 , 0.65669313, 0.10708681]],\n",
    "\n",
    "       [[0.07529684, 0.46470767, 0.47984544],\n",
    "        [0.65368638, 0.14901286, 0.23760688]]];\n",
    "\n",
    "list_comp = [z for first in b for second in first for z in second]\n",
    "print(list_comp)"
   ]
  },
  {
   "cell_type": "markdown",
   "metadata": {},
   "source": [
    "#### 6. Add a condition to the list comprehension above so that the last value in each subarray is printed, but only if it is less than or equal to 0.5."
   ]
  },
  {
   "cell_type": "code",
   "execution_count": null,
   "metadata": {},
   "outputs": [],
   "source": [
    "subarrays_list = [y[2] for x in b for y in x if y[2] <= 0.5]\n",
    "print(subarrays_list)"
   ]
  },
  {
   "cell_type": "code",
   "execution_count": null,
   "metadata": {},
   "outputs": [],
   "source": [
    "os.getcwd()"
   ]
  },
  {
   "cell_type": "markdown",
   "metadata": {},
   "source": [
    "#### 7. Use a list comprehension to select and print the names of all CSV files in the */data* directory."
   ]
  },
  {
   "cell_type": "code",
   "execution_count": null,
   "metadata": {},
   "outputs": [],
   "source": [
    "import os\n",
    "csv_files = [file for file in os.listdir('C:\\\\Users\\\\aleja\\\\daft-miami-1019-labs\\\\module-1\\\\List-Comprehension\\\\data') if file.endswith(\".csv\")]\n",
    "print(csv_files)"
   ]
  },
  {
   "cell_type": "markdown",
   "metadata": {},
   "source": [
    "### Bonus"
   ]
  },
  {
   "cell_type": "markdown",
   "metadata": {},
   "source": [
    "Try to solve these katas using list comprehensions."
   ]
  },
  {
   "cell_type": "markdown",
   "metadata": {},
   "source": [
    "**Easy**\n",
    "- [Insert values](https://www.codewars.com/kata/invert-values)\n",
    "- [Sum Square(n)](https://www.codewars.com/kata/square-n-sum)\n",
    "- [Digitize](https://www.codewars.com/kata/digitize)\n",
    "- [List filtering](https://www.codewars.com/kata/list-filtering)\n",
    "- [Arithmetic list](https://www.codewars.com/kata/541da001259d9ca85d000688)\n",
    "\n",
    "**Medium**\n",
    "- [Multiples of 3 or 5](https://www.codewars.com/kata/514b92a657cdc65150000006)\n",
    "- [Count of positives / sum of negatives](https://www.codewars.com/kata/count-of-positives-slash-sum-of-negatives)\n",
    "- [Categorize new member](https://www.codewars.com/kata/5502c9e7b3216ec63c0001aa)\n",
    "\n",
    "**Advanced**\n",
    "- [Queue time counter](https://www.codewars.com/kata/queue-time-counter)"
   ]
  },
  {
   "cell_type": "code",
   "execution_count": null,
   "metadata": {},
   "outputs": [],
   "source": [
    "#INSERT VALUES\n",
    "numbers = [1, 2, 3, 4, 5]\n",
    "\n",
    "inverted = [(-1)*n for n in numbers]\n",
    "print(inverted)"
   ]
  },
  {
   "cell_type": "code",
   "execution_count": null,
   "metadata": {},
   "outputs": [],
   "source": [
    "#SUM SQUARE(n)\n",
    "set = [1, 2, 2]\n",
    "\n",
    "sum_of_squares = [s**2 for s in set]\n",
    "print(sum(sum_of_squares))"
   ]
  },
  {
   "cell_type": "code",
   "execution_count": null,
   "metadata": {},
   "outputs": [],
   "source": [
    "#DIGITIZE\n",
    "num = \"3625463295493\"\n",
    "\n",
    "list_of_digits = [num[k] for k in range(len(num))]\n",
    "print(list_of_digits)"
   ]
  },
  {
   "cell_type": "code",
   "execution_count": null,
   "metadata": {},
   "outputs": [],
   "source": [
    "#LIST FILTERING\n",
    "strs_and_ints_list = [1, 'wrgwr', 5, 6, 'qwfregtrnyr', 3, 8, 'h', 9, '1']\n",
    "\n",
    "filter_list = [l for l in strs_and_ints_list if type(l) == int]\n",
    "print(filter_list)"
   ]
  },
  {
   "cell_type": "code",
   "execution_count": null,
   "metadata": {},
   "outputs": [],
   "source": [
    "#ARITHMETIC LIST\n",
    "first_term = int(input(\"Enter the first term of the sequence\\n\"))\n",
    "c = int(input(\"Enter the constant that you are going to add to each term\\n\"))\n",
    "n = int(input(\"Enter the number of terms of the sequence wanted\\n\"))\n",
    "arithmetic_sequence = [x for x in range(first_term, (first_term+(n)*c), c)]\n",
    "print(arithmetic_sequence)"
   ]
  },
  {
   "cell_type": "code",
   "execution_count": null,
   "metadata": {},
   "outputs": [],
   "source": [
    "#MULTIPLES OF 3 AND 5\n",
    "delimiter_number = int(input(\"Enter a delimiter number\\n\"))\n",
    "\n",
    "multiples_of_3_and_5 = [m for m in range(delimiter_number) if m % 3 == 0 or m % 5 == 0]\n",
    "print(multiples_of_3_and_5)"
   ]
  },
  {
   "cell_type": "code",
   "execution_count": null,
   "metadata": {},
   "outputs": [],
   "source": [
    "#COUNT OF POSITIVES/SUM OF NEGATIVES\n",
    "input_string = input(\"Enter a list\")\n",
    "\n",
    "input_list = input_string.split(\", \")\n",
    "\n",
    "int_input_list = []\n",
    "for x in input_list:\n",
    "    y = int(x)\n",
    "    int_input_list.append(y)\n",
    "\n",
    "if input_list is not None:\n",
    "    positives_list = [p for p in int_input_list if p >= 0]\n",
    "    negatives_list = [n for n in int_input_list if n < 0]\n",
    "    output_list = [len(positives_list), sum(negatives_list)]\n",
    "    print(output_list)\n",
    "else:\n",
    "    empty_list = []\n",
    "    print(empty_list)"
   ]
  },
  {
   "cell_type": "code",
   "execution_count": null,
   "metadata": {},
   "outputs": [],
   "source": [
    "#CATEGORIZE NEW MEMBER\n",
    "data_input = input(\"Enter the age and handicap of the member as lists (in brackets with an intermediate space)\\n\")\n",
    "print(data_input.split())\n",
    "\n",
    "data_updated = []\n",
    "for item in data_input:\n",
    "    it = item.split(',')\n",
    "    data_updated.append(it)\n",
    "print(data_updated)\n",
    "'''\n",
    "memberships = []\n",
    "for lst in data_input:\n",
    "    if int(lst[0]) >= 55 and int(lst[2]) > 7:\n",
    "        member = \"senior\"\n",
    "        memberships.append(member)\n",
    "    else:\n",
    "        member = 'open'\n",
    "        memberships.append(member)\n",
    "print(memberships)'''"
   ]
  },
  {
   "cell_type": "code",
   "execution_count": 6,
   "metadata": {},
   "outputs": [
    {
     "name": "stdout",
     "output_type": "stream",
     "text": [
      "How many members to analyze?\n",
      "3\n",
      "Enter the age and the handicap separated by a comma and space\n",
      "45, 6\n",
      "Enter the age and the handicap separated by a comma and space\n",
      "67, 13\n",
      "Enter the age and the handicap separated by a comma and space\n",
      "65, 8\n",
      "[['45', '6'], ['67', '13'], ['65', '8']]\n",
      "['open', 'senior', 'senior']\n"
     ]
    }
   ],
   "source": [
    "number_of_members = int(input(\"How many members to analyze?\\n\"))\n",
    "\n",
    "members_data = []\n",
    "for times in range(number_of_members):\n",
    "    age_handicap = input(\"Enter the age and the handicap separated by a comma and space\\n\")\n",
    "    lst = age_handicap.split(\", \")\n",
    "    members_data.append(lst)\n",
    "\n",
    "memberships = []\n",
    "for item in members_data:\n",
    "    age = int(item[0])\n",
    "    handicap = int(item[1])\n",
    "    if age >= 55 and handicap > 7:\n",
    "        membership = \"senior\"\n",
    "        memberships.append(membership)\n",
    "    else:\n",
    "        membership = \"open\"\n",
    "        memberships.append(membership)\n",
    "print(memberships)\n"
   ]
  },
  {
   "cell_type": "code",
   "execution_count": null,
   "metadata": {},
   "outputs": [],
   "source": []
  }
 ],
 "metadata": {
  "kernelspec": {
   "display_name": "Python 3",
   "language": "python",
   "name": "python3"
  },
  "language_info": {
   "codemirror_mode": {
    "name": "ipython",
    "version": 3
   },
   "file_extension": ".py",
   "mimetype": "text/x-python",
   "name": "python",
   "nbconvert_exporter": "python",
   "pygments_lexer": "ipython3",
   "version": "3.7.3"
  }
 },
 "nbformat": 4,
 "nbformat_minor": 2
}
