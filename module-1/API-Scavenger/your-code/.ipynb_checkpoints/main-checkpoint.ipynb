{
 "cells": [
  {
   "cell_type": "markdown",
   "metadata": {},
   "source": [
    "# API Scavenger Game\n",
    "\n",
    "## Challenge 1: Fork Languages\n",
    "\n",
    "You will find out how many programming languages are used among all the forks created from the main lab repo of your bootcamp."
   ]
  },
  {
   "cell_type": "code",
   "execution_count": 64,
   "metadata": {},
   "outputs": [],
   "source": [
    "# import libraries here\n",
    "\n",
    "import requests\n",
    "import json\n",
    "import pandas as pd\n"
   ]
  },
  {
   "cell_type": "code",
   "execution_count": null,
   "metadata": {},
   "outputs": [],
   "source": []
  },
  {
   "cell_type": "markdown",
   "metadata": {},
   "source": [
    "Assuming the main lab repo is ironhack-datalabs/madrid-oct-2018, you will:\n",
    "\n",
    "#### 1. Obtain the full list of forks created from the main lab repo via Github API."
   ]
  },
  {
   "cell_type": "markdown",
   "metadata": {},
   "source": [
    "To list forks, we can use the GET method. As explained in the GitHub API documentation, we need to make the request to: GET /repos/:owner/:repo/forks."
   ]
  },
  {
   "cell_type": "code",
   "execution_count": 29,
   "metadata": {},
   "outputs": [
    {
     "name": "stdout",
     "output_type": "stream",
     "text": [
      "[{'id': 220066216, 'node_id': 'MDEwOlJlcG9zaXRvcnkyMjAwNjYyMTY=', 'name': 'mad-oct-2018', 'full_name': 'ToniPons97/mad-oct-2018', 'private': False, 'owner': {'login': 'ToniPons97', 'id': 45130294, 'node_id': 'MDQ6VXNlcjQ1MTMwMjk0', 'avatar_url': 'https://avatars3.githubusercontent.com/u/45130294?v=4', 'gravatar_id': '', 'url': 'https://api.github.com/users/ToniPons97', 'html_url': 'https://github.com/ToniPons97', 'followers_url': 'https://api.github.com/users/ToniPons97/followers', 'following_url': 'https://api.github.com/users/ToniPons97/following{/other_user}', 'gists_url': 'https://api.github.com/users/ToniPons97/gists{/gist_id}', 'starred_url': 'https://api.github.com/users/ToniPons97/starred{/owner}{/repo}', 'subscriptions_url': 'https://api.github.com/users/ToniPons97/subscriptions', 'organizations_url': 'https://api.github.com/users/ToniPons97/orgs', 'repos_url': 'https://api.github.com/users/ToniPons97/repos', 'events_url': 'https://api.github.com/users/ToniPons97/events{/privacy}', 'received_events_url': 'https://api.github.com/users/ToniPons97/received_events', 'type': 'User', 'site_admin': False}, 'html_url': 'https://github.com/ToniPons97/mad-oct-2018', 'description': 'Student labs for Ironhack data analytics bootcamp', 'fork': True, 'url': 'https://api.github.com/repos/ToniPons97/mad-oct-2018', 'forks_url': 'https://api.github.com/repos/ToniPons97/mad-oct-2018/forks', 'keys_url': 'https://api.github.com/repos/ToniPons97/mad-oct-2018/keys{/key_id}', 'collaborators_url': 'https://api.github.com/repos/ToniPons97/mad-oct-2018/collaborators{/collaborator}', 'teams_url': 'https://api.github.com/repos/ToniPons97/mad-oct-2018/teams', 'hooks_url': 'https://api.github.com/repos/ToniPons97/mad-oct-2018/hooks', 'issue_events_url': 'https://api.github.com/repos/ToniPons97/mad-oct-2018/issues/events{/number}', 'events_url': 'https://api.github.com/repos/ToniPons97/mad-oct-2018/events', 'assignees_url': 'https://api.github.com/repos/ToniPons97/mad-oct-2018/assignees{/user}', 'branches_url': 'https://api.github.com/repos/ToniPons97/mad-oct-2018/branches{/branch}', 'tags_url': 'https://api.github.com/repos/ToniPons97/mad-oct-2018/tags', 'blobs_url': 'https://api.github.com/repos/ToniPons97/mad-oct-2018/git/blobs{/sha}', 'git_tags_url': 'https://api.github.com/repos/ToniPons97/mad-oct-2018/git/tags{/sha}', 'git_refs_url': 'https://api.github.com/repos/ToniPons97/mad-oct-2018/git/refs{/sha}', 'trees_url': 'https://api.github.com/repos/ToniPons97/mad-oct-2018/git/trees{/sha}', 'statuses_url': 'https://api.github.com/repos/ToniPons97/mad-oct-2018/statuses/{sha}', 'languages_url': 'https://api.github.com/repos/ToniPons97/mad-oct-2018/languages', 'stargazers_url': 'https://api.github.com/repos/ToniPons97/mad-oct-2018/stargazers', 'contributors_url': 'https://api.github.com/repos/ToniPons97/mad-oct-2018/contributors', 'subscribers_url': 'https://api.github.com/repos/ToniPons97/mad-oct-2018/subscribers', 'subscription_url': 'https://api.github.com/repos/ToniPons97/mad-oct-2018/subscription', 'commits_url': 'https://api.github.com/repos/ToniPons97/mad-oct-2018/commits{/sha}', 'git_commits_url': 'https://api.github.com/repos/ToniPons97/mad-oct-2018/git/commits{/sha}', 'comments_url': 'https://api.github.com/repos/ToniPons97/mad-oct-2018/comments{/number}', 'issue_comment_url': 'https://api.github.com/repos/ToniPons97/mad-oct-2018/issues/comments{/number}', 'contents_url': 'https://api.github.com/repos/ToniPons97/mad-oct-2018/contents/{+path}', 'compare_url': 'https://api.github.com/repos/ToniPons97/mad-oct-2018/compare/{base}...{head}', 'merges_url': 'https://api.github.com/repos/ToniPons97/mad-oct-2018/merges', 'archive_url': 'https://api.github.com/repos/ToniPons97/mad-oct-2018/{archive_format}{/ref}', 'downloads_url': 'https://api.github.com/repos/ToniPons97/mad-oct-2018/downloads', 'issues_url': 'https://api.github.com/repos/ToniPons97/mad-oct-2018/issues{/number}', 'pulls_url': 'https://api.github.com/repos/ToniPons97/mad-oct-2018/pulls{/number}', 'milestones_url': 'https://api.github.com/repos/ToniPons97/mad-oct-2018/milestones{/number}', 'notifications_url': 'https://api.github.com/repos/ToniPons97/mad-oct-2018/notifications{?since,all,participating}', 'labels_url': 'https://api.github.com/repos/ToniPons97/mad-oct-2018/labels{/name}', 'releases_url': 'https://api.github.com/repos/ToniPons97/mad-oct-2018/releases{/id}', 'deployments_url': 'https://api.github.com/repos/ToniPons97/mad-oct-2018/deployments', 'created_at': '2019-11-06T18:44:51Z', 'updated_at': '2019-11-06T18:44:52Z', 'pushed_at': '2019-08-19T11:16:55Z', 'git_url': 'git://github.com/ToniPons97/mad-oct-2018.git', 'ssh_url': 'git@github.com:ToniPons97/mad-oct-2018.git', 'clone_url': 'https://github.com/ToniPons97/mad-oct-2018.git', 'svn_url': 'https://github.com/ToniPons97/mad-oct-2018', 'homepage': '', 'size': 116995, 'stargazers_count': 0, 'watchers_count': 0, 'language': None, 'has_issues': False, 'has_projects': True, 'has_downloads': True, 'has_wiki': True, 'has_pages': False, 'forks_count': 0, 'mirror_url': None, 'archived': False, 'disabled': False, 'open_issues_count': 0, 'license': {'key': 'unlicense', 'name': 'The Unlicense', 'spdx_id': 'Unlicense', 'url': 'https://api.github.com/licenses/unlicense', 'node_id': 'MDc6TGljZW5zZTE1'}, 'forks': 0, 'open_issues': 0, 'watchers': 0, 'default_branch': 'master', 'permissions': {'admin': False, 'push': False, 'pull': True}}, {'id': 204100911, 'node_id': 'MDEwOlJlcG9zaXRvcnkyMDQxMDA5MTE=', 'name': 'mad-oct-2018', 'full_name': 'rsennes/mad-oct-2018', 'private': False, 'owner': {'login': 'rsennes', 'id': 34886384, 'node_id': 'MDQ6VXNlcjM0ODg2Mzg0', 'avatar_url': 'https://avatars1.githubusercontent.com/u/34886384?v=4', 'gravatar_id': '', 'url': 'https://api.github.com/users/rsennes', 'html_url': 'https://github.com/rsennes', 'followers_url': 'https://api.github.com/users/rsennes/followers', 'following_url': 'https://api.github.com/users/rsennes/following{/other_user}', 'gists_url': 'https://api.github.com/users/rsennes/gists{/gist_id}', 'starred_url': 'https://api.github.com/users/rsennes/starred{/owner}{/repo}', 'subscriptions_url': 'https://api.github.com/users/rsennes/subscriptions', 'organizations_url': 'https://api.github.com/users/rsennes/orgs', 'repos_url': 'https://api.github.com/users/rsennes/repos', 'events_url': 'https://api.github.com/users/rsennes/events{/privacy}', 'received_events_url': 'https://api.github.com/users/rsennes/received_events', 'type': 'User', 'site_admin': False}, 'html_url': 'https://github.com/rsennes/mad-oct-2018', 'description': 'Student labs for Ironhack data analytics bootcamp', 'fork': True, 'url': 'https://api.github.com/repos/rsennes/mad-oct-2018', 'forks_url': 'https://api.github.com/repos/rsennes/mad-oct-2018/forks', 'keys_url': 'https://api.github.com/repos/rsennes/mad-oct-2018/keys{/key_id}', 'collaborators_url': 'https://api.github.com/repos/rsennes/mad-oct-2018/collaborators{/collaborator}', 'teams_url': 'https://api.github.com/repos/rsennes/mad-oct-2018/teams', 'hooks_url': 'https://api.github.com/repos/rsennes/mad-oct-2018/hooks', 'issue_events_url': 'https://api.github.com/repos/rsennes/mad-oct-2018/issues/events{/number}', 'events_url': 'https://api.github.com/repos/rsennes/mad-oct-2018/events', 'assignees_url': 'https://api.github.com/repos/rsennes/mad-oct-2018/assignees{/user}', 'branches_url': 'https://api.github.com/repos/rsennes/mad-oct-2018/branches{/branch}', 'tags_url': 'https://api.github.com/repos/rsennes/mad-oct-2018/tags', 'blobs_url': 'https://api.github.com/repos/rsennes/mad-oct-2018/git/blobs{/sha}', 'git_tags_url': 'https://api.github.com/repos/rsennes/mad-oct-2018/git/tags{/sha}', 'git_refs_url': 'https://api.github.com/repos/rsennes/mad-oct-2018/git/refs{/sha}', 'trees_url': 'https://api.github.com/repos/rsennes/mad-oct-2018/git/trees{/sha}', 'statuses_url': 'https://api.github.com/repos/rsennes/mad-oct-2018/statuses/{sha}', 'languages_url': 'https://api.github.com/repos/rsennes/mad-oct-2018/languages', 'stargazers_url': 'https://api.github.com/repos/rsennes/mad-oct-2018/stargazers', 'contributors_url': 'https://api.github.com/repos/rsennes/mad-oct-2018/contributors', 'subscribers_url': 'https://api.github.com/repos/rsennes/mad-oct-2018/subscribers', 'subscription_url': 'https://api.github.com/repos/rsennes/mad-oct-2018/subscription', 'commits_url': 'https://api.github.com/repos/rsennes/mad-oct-2018/commits{/sha}', 'git_commits_url': 'https://api.github.com/repos/rsennes/mad-oct-2018/git/commits{/sha}', 'comments_url': 'https://api.github.com/repos/rsennes/mad-oct-2018/comments{/number}', 'issue_comment_url': 'https://api.github.com/repos/rsennes/mad-oct-2018/issues/comments{/number}', 'contents_url': 'https://api.github.com/repos/rsennes/mad-oct-2018/contents/{+path}', 'compare_url': 'https://api.github.com/repos/rsennes/mad-oct-2018/compare/{base}...{head}', 'merges_url': 'https://api.github.com/repos/rsennes/mad-oct-2018/merges', 'archive_url': 'https://api.github.com/repos/rsennes/mad-oct-2018/{archive_format}{/ref}', 'downloads_url': 'https://api.github.com/repos/rsennes/mad-oct-2018/downloads', 'issues_url': 'https://api.github.com/repos/rsennes/mad-oct-2018/issues{/number}', 'pulls_url': 'https://api.github.com/repos/rsennes/mad-oct-2018/pulls{/number}', 'milestones_url': 'https://api.github.com/repos/rsennes/mad-oct-2018/milestones{/number}', 'notifications_url': 'https://api.github.com/repos/rsennes/mad-oct-2018/notifications{?since,all,participating}', 'labels_url': 'https://api.github.com/repos/rsennes/mad-oct-2018/labels{/name}', 'releases_url': 'https://api.github.com/repos/rsennes/mad-oct-2018/releases{/id}', 'deployments_url': 'https://api.github.com/repos/rsennes/mad-oct-2018/deployments', 'created_at': '2019-08-24T03:04:02Z', 'updated_at': '2019-08-24T03:04:04Z', 'pushed_at': '2019-08-19T11:16:55Z', 'git_url': 'git://github.com/rsennes/mad-oct-2018.git', 'ssh_url': 'git@github.com:rsennes/mad-oct-2018.git', 'clone_url': 'https://github.com/rsennes/mad-oct-2018.git', 'svn_url': 'https://github.com/rsennes/mad-oct-2018', 'homepage': '', 'size': 116995, 'stargazers_count': 0, 'watchers_count': 0, 'language': 'Jupyter Notebook', 'has_issues': False, 'has_projects': True, 'has_downloads': True, 'has_wiki': True, 'has_pages': False, 'forks_count': 0, 'mirror_url': None, 'archived': False, 'disabled': False, 'open_issues_count': 0, 'license': {'key': 'unlicense', 'name': 'The Unlicense', 'spdx_id': 'Unlicense', 'url': 'https://api.github.com/licenses/unlicense', 'node_id': 'MDc6TGljZW5zZTE1'}, 'forks': 0, 'open_issues': 0, 'watchers': 0, 'default_branch': 'master', 'permissions': {'admin': False, 'push': False, 'pull': True}}, {'id': 200138127, 'node_id': 'MDEwOlJlcG9zaXRvcnkyMDAxMzgxMjc=', 'name': 'mad-oct-2018', 'full_name': 'gggfaria/mad-oct-2018', 'private': False, 'owner': {'login': 'gggfaria', 'id': 13389357, 'node_id': 'MDQ6VXNlcjEzMzg5MzU3', 'avatar_url': 'https://avatars0.githubusercontent.com/u/13389357?v=4', 'gravatar_id': '', 'url': 'https://api.github.com/users/gggfaria', 'html_url': 'https://github.com/gggfaria', 'followers_url': 'https://api.github.com/users/gggfaria/followers', 'following_url': 'https://api.github.com/users/gggfaria/following{/other_user}', 'gists_url': 'https://api.github.com/users/gggfaria/gists{/gist_id}', 'starred_url': 'https://api.github.com/users/gggfaria/starred{/owner}{/repo}', 'subscriptions_url': 'https://api.github.com/users/gggfaria/subscriptions', 'organizations_url': 'https://api.github.com/users/gggfaria/orgs', 'repos_url': 'https://api.github.com/users/gggfaria/repos', 'events_url': 'https://api.github.com/users/gggfaria/events{/privacy}', 'received_events_url': 'https://api.github.com/users/gggfaria/received_events', 'type': 'User', 'site_admin': False}, 'html_url': 'https://github.com/gggfaria/mad-oct-2018', 'description': 'Student labs for Ironhack data analytics bootcamp', 'fork': True, 'url': 'https://api.github.com/repos/gggfaria/mad-oct-2018', 'forks_url': 'https://api.github.com/repos/gggfaria/mad-oct-2018/forks', 'keys_url': 'https://api.github.com/repos/gggfaria/mad-oct-2018/keys{/key_id}', 'collaborators_url': 'https://api.github.com/repos/gggfaria/mad-oct-2018/collaborators{/collaborator}', 'teams_url': 'https://api.github.com/repos/gggfaria/mad-oct-2018/teams', 'hooks_url': 'https://api.github.com/repos/gggfaria/mad-oct-2018/hooks', 'issue_events_url': 'https://api.github.com/repos/gggfaria/mad-oct-2018/issues/events{/number}', 'events_url': 'https://api.github.com/repos/gggfaria/mad-oct-2018/events', 'assignees_url': 'https://api.github.com/repos/gggfaria/mad-oct-2018/assignees{/user}', 'branches_url': 'https://api.github.com/repos/gggfaria/mad-oct-2018/branches{/branch}', 'tags_url': 'https://api.github.com/repos/gggfaria/mad-oct-2018/tags', 'blobs_url': 'https://api.github.com/repos/gggfaria/mad-oct-2018/git/blobs{/sha}', 'git_tags_url': 'https://api.github.com/repos/gggfaria/mad-oct-2018/git/tags{/sha}', 'git_refs_url': 'https://api.github.com/repos/gggfaria/mad-oct-2018/git/refs{/sha}', 'trees_url': 'https://api.github.com/repos/gggfaria/mad-oct-2018/git/trees{/sha}', 'statuses_url': 'https://api.github.com/repos/gggfaria/mad-oct-2018/statuses/{sha}', 'languages_url': 'https://api.github.com/repos/gggfaria/mad-oct-2018/languages', 'stargazers_url': 'https://api.github.com/repos/gggfaria/mad-oct-2018/stargazers', 'contributors_url': 'https://api.github.com/repos/gggfaria/mad-oct-2018/contributors', 'subscribers_url': 'https://api.github.com/repos/gggfaria/mad-oct-2018/subscribers', 'subscription_url': 'https://api.github.com/repos/gggfaria/mad-oct-2018/subscription', 'commits_url': 'https://api.github.com/repos/gggfaria/mad-oct-2018/commits{/sha}', 'git_commits_url': 'https://api.github.com/repos/gggfaria/mad-oct-2018/git/commits{/sha}', 'comments_url': 'https://api.github.com/repos/gggfaria/mad-oct-2018/comments{/number}', 'issue_comment_url': 'https://api.github.com/repos/gggfaria/mad-oct-2018/issues/comments{/number}', 'contents_url': 'https://api.github.com/repos/gggfaria/mad-oct-2018/contents/{+path}', 'compare_url': 'https://api.github.com/repos/gggfaria/mad-oct-2018/compare/{base}...{head}', 'merges_url': 'https://api.github.com/repos/gggfaria/mad-oct-2018/merges', 'archive_url': 'https://api.github.com/repos/gggfaria/mad-oct-2018/{archive_format}{/ref}', 'downloads_url': 'https://api.github.com/repos/gggfaria/mad-oct-2018/downloads', 'issues_url': 'https://api.github.com/repos/gggfaria/mad-oct-2018/issues{/number}', 'pulls_url': 'https://api.github.com/repos/gggfaria/mad-oct-2018/pulls{/number}', 'milestones_url': 'https://api.github.com/repos/gggfaria/mad-oct-2018/milestones{/number}', 'notifications_url': 'https://api.github.com/repos/gggfaria/mad-oct-2018/notifications{?since,all,participating}', 'labels_url': 'https://api.github.com/repos/gggfaria/mad-oct-2018/labels{/name}', 'releases_url': 'https://api.github.com/repos/gggfaria/mad-oct-2018/releases{/id}', 'deployments_url': 'https://api.github.com/repos/gggfaria/mad-oct-2018/deployments', 'created_at': '2019-08-02T00:46:50Z', 'updated_at': '2019-08-02T00:46:54Z', 'pushed_at': '2019-03-07T15:49:17Z', 'git_url': 'git://github.com/gggfaria/mad-oct-2018.git', 'ssh_url': 'git@github.com:gggfaria/mad-oct-2018.git', 'clone_url': 'https://github.com/gggfaria/mad-oct-2018.git', 'svn_url': 'https://github.com/gggfaria/mad-oct-2018', 'homepage': '', 'size': 117003, 'stargazers_count': 0, 'watchers_count': 0, 'language': 'Jupyter Notebook', 'has_issues': False, 'has_projects': True, 'has_downloads': True, 'has_wiki': True, 'has_pages': False, 'forks_count': 0, 'mirror_url': None, 'archived': False, 'disabled': False, 'open_issues_count': 0, 'license': {'key': 'unlicense', 'name': 'The Unlicense', 'spdx_id': 'Unlicense', 'url': 'https://api.github.com/licenses/unlicense', 'node_id': 'MDc6TGljZW5zZTE1'}, 'forks': 0, 'open_issues': 0, 'watchers': 0, 'default_branch': 'master', 'permissions': {'admin': False, 'push': False, 'pull': True}}, {'id': 198273438, 'node_id': 'MDEwOlJlcG9zaXRvcnkxOTgyNzM0Mzg=', 'name': 'mad-oct-2018', 'full_name': 'nancyulric/mad-oct-2018', 'private': False, 'owner': {'login': 'nancyulric', 'id': 50028113, 'node_id': 'MDQ6VXNlcjUwMDI4MTEz', 'avatar_url': 'https://avatars2.githubusercontent.com/u/50028113?v=4', 'gravatar_id': '', 'url': 'https://api.github.com/users/nancyulric', 'html_url': 'https://github.com/nancyulric', 'followers_url': 'https://api.github.com/users/nancyulric/followers', 'following_url': 'https://api.github.com/users/nancyulric/following{/other_user}', 'gists_url': 'https://api.github.com/users/nancyulric/gists{/gist_id}', 'starred_url': 'https://api.github.com/users/nancyulric/starred{/owner}{/repo}', 'subscriptions_url': 'https://api.github.com/users/nancyulric/subscriptions', 'organizations_url': 'https://api.github.com/users/nancyulric/orgs', 'repos_url': 'https://api.github.com/users/nancyulric/repos', 'events_url': 'https://api.github.com/users/nancyulric/events{/privacy}', 'received_events_url': 'https://api.github.com/users/nancyulric/received_events', 'type': 'User', 'site_admin': False}, 'html_url': 'https://github.com/nancyulric/mad-oct-2018', 'description': 'Student labs for Ironhack data analytics bootcamp', 'fork': True, 'url': 'https://api.github.com/repos/nancyulric/mad-oct-2018', 'forks_url': 'https://api.github.com/repos/nancyulric/mad-oct-2018/forks', 'keys_url': 'https://api.github.com/repos/nancyulric/mad-oct-2018/keys{/key_id}', 'collaborators_url': 'https://api.github.com/repos/nancyulric/mad-oct-2018/collaborators{/collaborator}', 'teams_url': 'https://api.github.com/repos/nancyulric/mad-oct-2018/teams', 'hooks_url': 'https://api.github.com/repos/nancyulric/mad-oct-2018/hooks', 'issue_events_url': 'https://api.github.com/repos/nancyulric/mad-oct-2018/issues/events{/number}', 'events_url': 'https://api.github.com/repos/nancyulric/mad-oct-2018/events', 'assignees_url': 'https://api.github.com/repos/nancyulric/mad-oct-2018/assignees{/user}', 'branches_url': 'https://api.github.com/repos/nancyulric/mad-oct-2018/branches{/branch}', 'tags_url': 'https://api.github.com/repos/nancyulric/mad-oct-2018/tags', 'blobs_url': 'https://api.github.com/repos/nancyulric/mad-oct-2018/git/blobs{/sha}', 'git_tags_url': 'https://api.github.com/repos/nancyulric/mad-oct-2018/git/tags{/sha}', 'git_refs_url': 'https://api.github.com/repos/nancyulric/mad-oct-2018/git/refs{/sha}', 'trees_url': 'https://api.github.com/repos/nancyulric/mad-oct-2018/git/trees{/sha}', 'statuses_url': 'https://api.github.com/repos/nancyulric/mad-oct-2018/statuses/{sha}', 'languages_url': 'https://api.github.com/repos/nancyulric/mad-oct-2018/languages', 'stargazers_url': 'https://api.github.com/repos/nancyulric/mad-oct-2018/stargazers', 'contributors_url': 'https://api.github.com/repos/nancyulric/mad-oct-2018/contributors', 'subscribers_url': 'https://api.github.com/repos/nancyulric/mad-oct-2018/subscribers', 'subscription_url': 'https://api.github.com/repos/nancyulric/mad-oct-2018/subscription', 'commits_url': 'https://api.github.com/repos/nancyulric/mad-oct-2018/commits{/sha}', 'git_commits_url': 'https://api.github.com/repos/nancyulric/mad-oct-2018/git/commits{/sha}', 'comments_url': 'https://api.github.com/repos/nancyulric/mad-oct-2018/comments{/number}', 'issue_comment_url': 'https://api.github.com/repos/nancyulric/mad-oct-2018/issues/comments{/number}', 'contents_url': 'https://api.github.com/repos/nancyulric/mad-oct-2018/contents/{+path}', 'compare_url': 'https://api.github.com/repos/nancyulric/mad-oct-2018/compare/{base}...{head}', 'merges_url': 'https://api.github.com/repos/nancyulric/mad-oct-2018/merges', 'archive_url': 'https://api.github.com/repos/nancyulric/mad-oct-2018/{archive_format}{/ref}', 'downloads_url': 'https://api.github.com/repos/nancyulric/mad-oct-2018/downloads', 'issues_url': 'https://api.github.com/repos/nancyulric/mad-oct-2018/issues{/number}', 'pulls_url': 'https://api.github.com/repos/nancyulric/mad-oct-2018/pulls{/number}', 'milestones_url': 'https://api.github.com/repos/nancyulric/mad-oct-2018/milestones{/number}', 'notifications_url': 'https://api.github.com/repos/nancyulric/mad-oct-2018/notifications{?since,all,participating}', 'labels_url': 'https://api.github.com/repos/nancyulric/mad-oct-2018/labels{/name}', 'releases_url': 'https://api.github.com/repos/nancyulric/mad-oct-2018/releases{/id}', 'deployments_url': 'https://api.github.com/repos/nancyulric/mad-oct-2018/deployments', 'created_at': '2019-07-22T17:41:08Z', 'updated_at': '2019-07-22T17:41:13Z', 'pushed_at': '2019-03-07T15:49:17Z', 'git_url': 'git://github.com/nancyulric/mad-oct-2018.git', 'ssh_url': 'git@github.com:nancyulric/mad-oct-2018.git', 'clone_url': 'https://github.com/nancyulric/mad-oct-2018.git', 'svn_url': 'https://github.com/nancyulric/mad-oct-2018', 'homepage': '', 'size': 117003, 'stargazers_count': 0, 'watchers_count': 0, 'language': 'Jupyter Notebook', 'has_issues': False, 'has_projects': True, 'has_downloads': True, 'has_wiki': True, 'has_pages': False, 'forks_count': 0, 'mirror_url': None, 'archived': False, 'disabled': False, 'open_issues_count': 0, 'license': {'key': 'unlicense', 'name': 'The Unlicense', 'spdx_id': 'Unlicense', 'url': 'https://api.github.com/licenses/unlicense', 'node_id': 'MDc6TGljZW5zZTE1'}, 'forks': 0, 'open_issues': 0, 'watchers': 0, 'default_branch': 'master', 'permissions': {'admin': False, 'push': False, 'pull': True}}, {'id': 167001044, 'node_id': 'MDEwOlJlcG9zaXRvcnkxNjcwMDEwNDQ=', 'name': 'datamad0119', 'full_name': 'lmartinezruizit/datamad0119', 'private': False, 'owner': {'login': 'lmartinezruizit', 'id': 25184023, 'node_id': 'MDQ6VXNlcjI1MTg0MDIz', 'avatar_url': 'https://avatars2.githubusercontent.com/u/25184023?v=4', 'gravatar_id': '', 'url': 'https://api.github.com/users/lmartinezruizit', 'html_url': 'https://github.com/lmartinezruizit', 'followers_url': 'https://api.github.com/users/lmartinezruizit/followers', 'following_url': 'https://api.github.com/users/lmartinezruizit/following{/other_user}', 'gists_url': 'https://api.github.com/users/lmartinezruizit/gists{/gist_id}', 'starred_url': 'https://api.github.com/users/lmartinezruizit/starred{/owner}{/repo}', 'subscriptions_url': 'https://api.github.com/users/lmartinezruizit/subscriptions', 'organizations_url': 'https://api.github.com/users/lmartinezruizit/orgs', 'repos_url': 'https://api.github.com/users/lmartinezruizit/repos', 'events_url': 'https://api.github.com/users/lmartinezruizit/events{/privacy}', 'received_events_url': 'https://api.github.com/users/lmartinezruizit/received_events', 'type': 'User', 'site_admin': False}, 'html_url': 'https://github.com/lmartinezruizit/datamad0119', 'description': 'Student labs for Ironhack data analytics bootcamp', 'fork': True, 'url': 'https://api.github.com/repos/lmartinezruizit/datamad0119', 'forks_url': 'https://api.github.com/repos/lmartinezruizit/datamad0119/forks', 'keys_url': 'https://api.github.com/repos/lmartinezruizit/datamad0119/keys{/key_id}', 'collaborators_url': 'https://api.github.com/repos/lmartinezruizit/datamad0119/collaborators{/collaborator}', 'teams_url': 'https://api.github.com/repos/lmartinezruizit/datamad0119/teams', 'hooks_url': 'https://api.github.com/repos/lmartinezruizit/datamad0119/hooks', 'issue_events_url': 'https://api.github.com/repos/lmartinezruizit/datamad0119/issues/events{/number}', 'events_url': 'https://api.github.com/repos/lmartinezruizit/datamad0119/events', 'assignees_url': 'https://api.github.com/repos/lmartinezruizit/datamad0119/assignees{/user}', 'branches_url': 'https://api.github.com/repos/lmartinezruizit/datamad0119/branches{/branch}', 'tags_url': 'https://api.github.com/repos/lmartinezruizit/datamad0119/tags', 'blobs_url': 'https://api.github.com/repos/lmartinezruizit/datamad0119/git/blobs{/sha}', 'git_tags_url': 'https://api.github.com/repos/lmartinezruizit/datamad0119/git/tags{/sha}', 'git_refs_url': 'https://api.github.com/repos/lmartinezruizit/datamad0119/git/refs{/sha}', 'trees_url': 'https://api.github.com/repos/lmartinezruizit/datamad0119/git/trees{/sha}', 'statuses_url': 'https://api.github.com/repos/lmartinezruizit/datamad0119/statuses/{sha}', 'languages_url': 'https://api.github.com/repos/lmartinezruizit/datamad0119/languages', 'stargazers_url': 'https://api.github.com/repos/lmartinezruizit/datamad0119/stargazers', 'contributors_url': 'https://api.github.com/repos/lmartinezruizit/datamad0119/contributors', 'subscribers_url': 'https://api.github.com/repos/lmartinezruizit/datamad0119/subscribers', 'subscription_url': 'https://api.github.com/repos/lmartinezruizit/datamad0119/subscription', 'commits_url': 'https://api.github.com/repos/lmartinezruizit/datamad0119/commits{/sha}', 'git_commits_url': 'https://api.github.com/repos/lmartinezruizit/datamad0119/git/commits{/sha}', 'comments_url': 'https://api.github.com/repos/lmartinezruizit/datamad0119/comments{/number}', 'issue_comment_url': 'https://api.github.com/repos/lmartinezruizit/datamad0119/issues/comments{/number}', 'contents_url': 'https://api.github.com/repos/lmartinezruizit/datamad0119/contents/{+path}', 'compare_url': 'https://api.github.com/repos/lmartinezruizit/datamad0119/compare/{base}...{head}', 'merges_url': 'https://api.github.com/repos/lmartinezruizit/datamad0119/merges', 'archive_url': 'https://api.github.com/repos/lmartinezruizit/datamad0119/{archive_format}{/ref}', 'downloads_url': 'https://api.github.com/repos/lmartinezruizit/datamad0119/downloads', 'issues_url': 'https://api.github.com/repos/lmartinezruizit/datamad0119/issues{/number}', 'pulls_url': 'https://api.github.com/repos/lmartinezruizit/datamad0119/pulls{/number}', 'milestones_url': 'https://api.github.com/repos/lmartinezruizit/datamad0119/milestones{/number}', 'notifications_url': 'https://api.github.com/repos/lmartinezruizit/datamad0119/notifications{?since,all,participating}', 'labels_url': 'https://api.github.com/repos/lmartinezruizit/datamad0119/labels{/name}', 'releases_url': 'https://api.github.com/repos/lmartinezruizit/datamad0119/releases{/id}', 'deployments_url': 'https://api.github.com/repos/lmartinezruizit/datamad0119/deployments', 'created_at': '2019-01-22T13:42:30Z', 'updated_at': '2019-01-22T13:42:33Z', 'pushed_at': '2019-01-22T08:34:08Z', 'git_url': 'git://github.com/lmartinezruizit/datamad0119.git', 'ssh_url': 'git@github.com:lmartinezruizit/datamad0119.git', 'clone_url': 'https://github.com/lmartinezruizit/datamad0119.git', 'svn_url': 'https://github.com/lmartinezruizit/datamad0119', 'homepage': '', 'size': 116993, 'stargazers_count': 0, 'watchers_count': 0, 'language': 'Jupyter Notebook', 'has_issues': False, 'has_projects': True, 'has_downloads': True, 'has_wiki': True, 'has_pages': False, 'forks_count': 0, 'mirror_url': None, 'archived': False, 'disabled': False, 'open_issues_count': 0, 'license': {'key': 'unlicense', 'name': 'The Unlicense', 'spdx_id': 'Unlicense', 'url': 'https://api.github.com/licenses/unlicense', 'node_id': 'MDc6TGljZW5zZTE1'}, 'forks': 0, 'open_issues': 0, 'watchers': 0, 'default_branch': 'master', 'permissions': {'admin': False, 'push': False, 'pull': True}}, {'id': 162498469, 'node_id': 'MDEwOlJlcG9zaXRvcnkxNjI0OTg0Njk=', 'name': 'madrid-oct-2018', 'full_name': 'eye8/madrid-oct-2018', 'private': False, 'owner': {'login': 'eye8', 'id': 1659798, 'node_id': 'MDQ6VXNlcjE2NTk3OTg=', 'avatar_url': 'https://avatars3.githubusercontent.com/u/1659798?v=4', 'gravatar_id': '', 'url': 'https://api.github.com/users/eye8', 'html_url': 'https://github.com/eye8', 'followers_url': 'https://api.github.com/users/eye8/followers', 'following_url': 'https://api.github.com/users/eye8/following{/other_user}', 'gists_url': 'https://api.github.com/users/eye8/gists{/gist_id}', 'starred_url': 'https://api.github.com/users/eye8/starred{/owner}{/repo}', 'subscriptions_url': 'https://api.github.com/users/eye8/subscriptions', 'organizations_url': 'https://api.github.com/users/eye8/orgs', 'repos_url': 'https://api.github.com/users/eye8/repos', 'events_url': 'https://api.github.com/users/eye8/events{/privacy}', 'received_events_url': 'https://api.github.com/users/eye8/received_events', 'type': 'User', 'site_admin': False}, 'html_url': 'https://github.com/eye8/madrid-oct-2018', 'description': \"Student labs for Ironhack's very first Data Analytics bootcamp!\", 'fork': True, 'url': 'https://api.github.com/repos/eye8/madrid-oct-2018', 'forks_url': 'https://api.github.com/repos/eye8/madrid-oct-2018/forks', 'keys_url': 'https://api.github.com/repos/eye8/madrid-oct-2018/keys{/key_id}', 'collaborators_url': 'https://api.github.com/repos/eye8/madrid-oct-2018/collaborators{/collaborator}', 'teams_url': 'https://api.github.com/repos/eye8/madrid-oct-2018/teams', 'hooks_url': 'https://api.github.com/repos/eye8/madrid-oct-2018/hooks', 'issue_events_url': 'https://api.github.com/repos/eye8/madrid-oct-2018/issues/events{/number}', 'events_url': 'https://api.github.com/repos/eye8/madrid-oct-2018/events', 'assignees_url': 'https://api.github.com/repos/eye8/madrid-oct-2018/assignees{/user}', 'branches_url': 'https://api.github.com/repos/eye8/madrid-oct-2018/branches{/branch}', 'tags_url': 'https://api.github.com/repos/eye8/madrid-oct-2018/tags', 'blobs_url': 'https://api.github.com/repos/eye8/madrid-oct-2018/git/blobs{/sha}', 'git_tags_url': 'https://api.github.com/repos/eye8/madrid-oct-2018/git/tags{/sha}', 'git_refs_url': 'https://api.github.com/repos/eye8/madrid-oct-2018/git/refs{/sha}', 'trees_url': 'https://api.github.com/repos/eye8/madrid-oct-2018/git/trees{/sha}', 'statuses_url': 'https://api.github.com/repos/eye8/madrid-oct-2018/statuses/{sha}', 'languages_url': 'https://api.github.com/repos/eye8/madrid-oct-2018/languages', 'stargazers_url': 'https://api.github.com/repos/eye8/madrid-oct-2018/stargazers', 'contributors_url': 'https://api.github.com/repos/eye8/madrid-oct-2018/contributors', 'subscribers_url': 'https://api.github.com/repos/eye8/madrid-oct-2018/subscribers', 'subscription_url': 'https://api.github.com/repos/eye8/madrid-oct-2018/subscription', 'commits_url': 'https://api.github.com/repos/eye8/madrid-oct-2018/commits{/sha}', 'git_commits_url': 'https://api.github.com/repos/eye8/madrid-oct-2018/git/commits{/sha}', 'comments_url': 'https://api.github.com/repos/eye8/madrid-oct-2018/comments{/number}', 'issue_comment_url': 'https://api.github.com/repos/eye8/madrid-oct-2018/issues/comments{/number}', 'contents_url': 'https://api.github.com/repos/eye8/madrid-oct-2018/contents/{+path}', 'compare_url': 'https://api.github.com/repos/eye8/madrid-oct-2018/compare/{base}...{head}', 'merges_url': 'https://api.github.com/repos/eye8/madrid-oct-2018/merges', 'archive_url': 'https://api.github.com/repos/eye8/madrid-oct-2018/{archive_format}{/ref}', 'downloads_url': 'https://api.github.com/repos/eye8/madrid-oct-2018/downloads', 'issues_url': 'https://api.github.com/repos/eye8/madrid-oct-2018/issues{/number}', 'pulls_url': 'https://api.github.com/repos/eye8/madrid-oct-2018/pulls{/number}', 'milestones_url': 'https://api.github.com/repos/eye8/madrid-oct-2018/milestones{/number}', 'notifications_url': 'https://api.github.com/repos/eye8/madrid-oct-2018/notifications{?since,all,participating}', 'labels_url': 'https://api.github.com/repos/eye8/madrid-oct-2018/labels{/name}', 'releases_url': 'https://api.github.com/repos/eye8/madrid-oct-2018/releases{/id}', 'deployments_url': 'https://api.github.com/repos/eye8/madrid-oct-2018/deployments', 'created_at': '2018-12-19T22:40:28Z', 'updated_at': '2018-12-19T22:40:32Z', 'pushed_at': '2018-12-19T22:45:49Z', 'git_url': 'git://github.com/eye8/madrid-oct-2018.git', 'ssh_url': 'git@github.com:eye8/madrid-oct-2018.git', 'clone_url': 'https://github.com/eye8/madrid-oct-2018.git', 'svn_url': 'https://github.com/eye8/madrid-oct-2018', 'homepage': '', 'size': 140237, 'stargazers_count': 0, 'watchers_count': 0, 'language': 'Jupyter Notebook', 'has_issues': False, 'has_projects': True, 'has_downloads': True, 'has_wiki': True, 'has_pages': False, 'forks_count': 0, 'mirror_url': None, 'archived': False, 'disabled': False, 'open_issues_count': 0, 'license': {'key': 'unlicense', 'name': 'The Unlicense', 'spdx_id': 'Unlicense', 'url': 'https://api.github.com/licenses/unlicense', 'node_id': 'MDc6TGljZW5zZTE1'}, 'forks': 0, 'open_issues': 0, 'watchers': 0, 'default_branch': 'master', 'permissions': {'admin': False, 'push': False, 'pull': True}}, {'id': 154625001, 'node_id': 'MDEwOlJlcG9zaXRvcnkxNTQ2MjUwMDE=', 'name': 'madrid-oct-2018', 'full_name': 'ArieHassan/madrid-oct-2018', 'private': False, 'owner': {'login': 'ArieHassan', 'id': 43290133, 'node_id': 'MDQ6VXNlcjQzMjkwMTMz', 'avatar_url': 'https://avatars2.githubusercontent.com/u/43290133?v=4', 'gravatar_id': '', 'url': 'https://api.github.com/users/ArieHassan', 'html_url': 'https://github.com/ArieHassan', 'followers_url': 'https://api.github.com/users/ArieHassan/followers', 'following_url': 'https://api.github.com/users/ArieHassan/following{/other_user}', 'gists_url': 'https://api.github.com/users/ArieHassan/gists{/gist_id}', 'starred_url': 'https://api.github.com/users/ArieHassan/starred{/owner}{/repo}', 'subscriptions_url': 'https://api.github.com/users/ArieHassan/subscriptions', 'organizations_url': 'https://api.github.com/users/ArieHassan/orgs', 'repos_url': 'https://api.github.com/users/ArieHassan/repos', 'events_url': 'https://api.github.com/users/ArieHassan/events{/privacy}', 'received_events_url': 'https://api.github.com/users/ArieHassan/received_events', 'type': 'User', 'site_admin': False}, 'html_url': 'https://github.com/ArieHassan/madrid-oct-2018', 'description': \"Student labs for Ironhack's very first Data Analytics bootcamp!\", 'fork': True, 'url': 'https://api.github.com/repos/ArieHassan/madrid-oct-2018', 'forks_url': 'https://api.github.com/repos/ArieHassan/madrid-oct-2018/forks', 'keys_url': 'https://api.github.com/repos/ArieHassan/madrid-oct-2018/keys{/key_id}', 'collaborators_url': 'https://api.github.com/repos/ArieHassan/madrid-oct-2018/collaborators{/collaborator}', 'teams_url': 'https://api.github.com/repos/ArieHassan/madrid-oct-2018/teams', 'hooks_url': 'https://api.github.com/repos/ArieHassan/madrid-oct-2018/hooks', 'issue_events_url': 'https://api.github.com/repos/ArieHassan/madrid-oct-2018/issues/events{/number}', 'events_url': 'https://api.github.com/repos/ArieHassan/madrid-oct-2018/events', 'assignees_url': 'https://api.github.com/repos/ArieHassan/madrid-oct-2018/assignees{/user}', 'branches_url': 'https://api.github.com/repos/ArieHassan/madrid-oct-2018/branches{/branch}', 'tags_url': 'https://api.github.com/repos/ArieHassan/madrid-oct-2018/tags', 'blobs_url': 'https://api.github.com/repos/ArieHassan/madrid-oct-2018/git/blobs{/sha}', 'git_tags_url': 'https://api.github.com/repos/ArieHassan/madrid-oct-2018/git/tags{/sha}', 'git_refs_url': 'https://api.github.com/repos/ArieHassan/madrid-oct-2018/git/refs{/sha}', 'trees_url': 'https://api.github.com/repos/ArieHassan/madrid-oct-2018/git/trees{/sha}', 'statuses_url': 'https://api.github.com/repos/ArieHassan/madrid-oct-2018/statuses/{sha}', 'languages_url': 'https://api.github.com/repos/ArieHassan/madrid-oct-2018/languages', 'stargazers_url': 'https://api.github.com/repos/ArieHassan/madrid-oct-2018/stargazers', 'contributors_url': 'https://api.github.com/repos/ArieHassan/madrid-oct-2018/contributors', 'subscribers_url': 'https://api.github.com/repos/ArieHassan/madrid-oct-2018/subscribers', 'subscription_url': 'https://api.github.com/repos/ArieHassan/madrid-oct-2018/subscription', 'commits_url': 'https://api.github.com/repos/ArieHassan/madrid-oct-2018/commits{/sha}', 'git_commits_url': 'https://api.github.com/repos/ArieHassan/madrid-oct-2018/git/commits{/sha}', 'comments_url': 'https://api.github.com/repos/ArieHassan/madrid-oct-2018/comments{/number}', 'issue_comment_url': 'https://api.github.com/repos/ArieHassan/madrid-oct-2018/issues/comments{/number}', 'contents_url': 'https://api.github.com/repos/ArieHassan/madrid-oct-2018/contents/{+path}', 'compare_url': 'https://api.github.com/repos/ArieHassan/madrid-oct-2018/compare/{base}...{head}', 'merges_url': 'https://api.github.com/repos/ArieHassan/madrid-oct-2018/merges', 'archive_url': 'https://api.github.com/repos/ArieHassan/madrid-oct-2018/{archive_format}{/ref}', 'downloads_url': 'https://api.github.com/repos/ArieHassan/madrid-oct-2018/downloads', 'issues_url': 'https://api.github.com/repos/ArieHassan/madrid-oct-2018/issues{/number}', 'pulls_url': 'https://api.github.com/repos/ArieHassan/madrid-oct-2018/pulls{/number}', 'milestones_url': 'https://api.github.com/repos/ArieHassan/madrid-oct-2018/milestones{/number}', 'notifications_url': 'https://api.github.com/repos/ArieHassan/madrid-oct-2018/notifications{?since,all,participating}', 'labels_url': 'https://api.github.com/repos/ArieHassan/madrid-oct-2018/labels{/name}', 'releases_url': 'https://api.github.com/repos/ArieHassan/madrid-oct-2018/releases{/id}', 'deployments_url': 'https://api.github.com/repos/ArieHassan/madrid-oct-2018/deployments', 'created_at': '2018-10-25T07:02:32Z', 'updated_at': '2018-10-31T11:39:38Z', 'pushed_at': '2018-12-10T16:51:00Z', 'git_url': 'git://github.com/ArieHassan/madrid-oct-2018.git', 'ssh_url': 'git@github.com:ArieHassan/madrid-oct-2018.git', 'clone_url': 'https://github.com/ArieHassan/madrid-oct-2018.git', 'svn_url': 'https://github.com/ArieHassan/madrid-oct-2018', 'homepage': '', 'size': 69773, 'stargazers_count': 0, 'watchers_count': 0, 'language': 'HTML', 'has_issues': False, 'has_projects': True, 'has_downloads': True, 'has_wiki': True, 'has_pages': False, 'forks_count': 0, 'mirror_url': None, 'archived': False, 'disabled': False, 'open_issues_count': 0, 'license': {'key': 'unlicense', 'name': 'The Unlicense', 'spdx_id': 'Unlicense', 'url': 'https://api.github.com/licenses/unlicense', 'node_id': 'MDc6TGljZW5zZTE1'}, 'forks': 0, 'open_issues': 0, 'watchers': 0, 'default_branch': 'master', 'permissions': {'admin': False, 'push': False, 'pull': True}}, {'id': 154291113, 'node_id': 'MDEwOlJlcG9zaXRvcnkxNTQyOTExMTM=', 'name': 'madrid-oct-2018', 'full_name': 'cmvalma/madrid-oct-2018', 'private': False, 'owner': {'login': 'cmvalma', 'id': 44215634, 'node_id': 'MDQ6VXNlcjQ0MjE1NjM0', 'avatar_url': 'https://avatars3.githubusercontent.com/u/44215634?v=4', 'gravatar_id': '', 'url': 'https://api.github.com/users/cmvalma', 'html_url': 'https://github.com/cmvalma', 'followers_url': 'https://api.github.com/users/cmvalma/followers', 'following_url': 'https://api.github.com/users/cmvalma/following{/other_user}', 'gists_url': 'https://api.github.com/users/cmvalma/gists{/gist_id}', 'starred_url': 'https://api.github.com/users/cmvalma/starred{/owner}{/repo}', 'subscriptions_url': 'https://api.github.com/users/cmvalma/subscriptions', 'organizations_url': 'https://api.github.com/users/cmvalma/orgs', 'repos_url': 'https://api.github.com/users/cmvalma/repos', 'events_url': 'https://api.github.com/users/cmvalma/events{/privacy}', 'received_events_url': 'https://api.github.com/users/cmvalma/received_events', 'type': 'User', 'site_admin': False}, 'html_url': 'https://github.com/cmvalma/madrid-oct-2018', 'description': None, 'fork': True, 'url': 'https://api.github.com/repos/cmvalma/madrid-oct-2018', 'forks_url': 'https://api.github.com/repos/cmvalma/madrid-oct-2018/forks', 'keys_url': 'https://api.github.com/repos/cmvalma/madrid-oct-2018/keys{/key_id}', 'collaborators_url': 'https://api.github.com/repos/cmvalma/madrid-oct-2018/collaborators{/collaborator}', 'teams_url': 'https://api.github.com/repos/cmvalma/madrid-oct-2018/teams', 'hooks_url': 'https://api.github.com/repos/cmvalma/madrid-oct-2018/hooks', 'issue_events_url': 'https://api.github.com/repos/cmvalma/madrid-oct-2018/issues/events{/number}', 'events_url': 'https://api.github.com/repos/cmvalma/madrid-oct-2018/events', 'assignees_url': 'https://api.github.com/repos/cmvalma/madrid-oct-2018/assignees{/user}', 'branches_url': 'https://api.github.com/repos/cmvalma/madrid-oct-2018/branches{/branch}', 'tags_url': 'https://api.github.com/repos/cmvalma/madrid-oct-2018/tags', 'blobs_url': 'https://api.github.com/repos/cmvalma/madrid-oct-2018/git/blobs{/sha}', 'git_tags_url': 'https://api.github.com/repos/cmvalma/madrid-oct-2018/git/tags{/sha}', 'git_refs_url': 'https://api.github.com/repos/cmvalma/madrid-oct-2018/git/refs{/sha}', 'trees_url': 'https://api.github.com/repos/cmvalma/madrid-oct-2018/git/trees{/sha}', 'statuses_url': 'https://api.github.com/repos/cmvalma/madrid-oct-2018/statuses/{sha}', 'languages_url': 'https://api.github.com/repos/cmvalma/madrid-oct-2018/languages', 'stargazers_url': 'https://api.github.com/repos/cmvalma/madrid-oct-2018/stargazers', 'contributors_url': 'https://api.github.com/repos/cmvalma/madrid-oct-2018/contributors', 'subscribers_url': 'https://api.github.com/repos/cmvalma/madrid-oct-2018/subscribers', 'subscription_url': 'https://api.github.com/repos/cmvalma/madrid-oct-2018/subscription', 'commits_url': 'https://api.github.com/repos/cmvalma/madrid-oct-2018/commits{/sha}', 'git_commits_url': 'https://api.github.com/repos/cmvalma/madrid-oct-2018/git/commits{/sha}', 'comments_url': 'https://api.github.com/repos/cmvalma/madrid-oct-2018/comments{/number}', 'issue_comment_url': 'https://api.github.com/repos/cmvalma/madrid-oct-2018/issues/comments{/number}', 'contents_url': 'https://api.github.com/repos/cmvalma/madrid-oct-2018/contents/{+path}', 'compare_url': 'https://api.github.com/repos/cmvalma/madrid-oct-2018/compare/{base}...{head}', 'merges_url': 'https://api.github.com/repos/cmvalma/madrid-oct-2018/merges', 'archive_url': 'https://api.github.com/repos/cmvalma/madrid-oct-2018/{archive_format}{/ref}', 'downloads_url': 'https://api.github.com/repos/cmvalma/madrid-oct-2018/downloads', 'issues_url': 'https://api.github.com/repos/cmvalma/madrid-oct-2018/issues{/number}', 'pulls_url': 'https://api.github.com/repos/cmvalma/madrid-oct-2018/pulls{/number}', 'milestones_url': 'https://api.github.com/repos/cmvalma/madrid-oct-2018/milestones{/number}', 'notifications_url': 'https://api.github.com/repos/cmvalma/madrid-oct-2018/notifications{?since,all,participating}', 'labels_url': 'https://api.github.com/repos/cmvalma/madrid-oct-2018/labels{/name}', 'releases_url': 'https://api.github.com/repos/cmvalma/madrid-oct-2018/releases{/id}', 'deployments_url': 'https://api.github.com/repos/cmvalma/madrid-oct-2018/deployments', 'created_at': '2018-10-23T08:27:10Z', 'updated_at': '2019-05-07T20:07:26Z', 'pushed_at': '2019-05-07T20:07:20Z', 'git_url': 'git://github.com/cmvalma/madrid-oct-2018.git', 'ssh_url': 'git@github.com:cmvalma/madrid-oct-2018.git', 'clone_url': 'https://github.com/cmvalma/madrid-oct-2018.git', 'svn_url': 'https://github.com/cmvalma/madrid-oct-2018', 'homepage': None, 'size': 222202, 'stargazers_count': 0, 'watchers_count': 0, 'language': 'Jupyter Notebook', 'has_issues': False, 'has_projects': True, 'has_downloads': True, 'has_wiki': True, 'has_pages': False, 'forks_count': 0, 'mirror_url': None, 'archived': False, 'disabled': False, 'open_issues_count': 0, 'license': {'key': 'unlicense', 'name': 'The Unlicense', 'spdx_id': 'Unlicense', 'url': 'https://api.github.com/licenses/unlicense', 'node_id': 'MDc6TGljZW5zZTE1'}, 'forks': 0, 'open_issues': 0, 'watchers': 0, 'default_branch': 'master', 'permissions': {'admin': False, 'push': False, 'pull': True}}, {'id': 154191482, 'node_id': 'MDEwOlJlcG9zaXRvcnkxNTQxOTE0ODI=', 'name': 'madrid-oct-2018', 'full_name': 'criraca/madrid-oct-2018', 'private': False, 'owner': {'login': 'criraca', 'id': 43931837, 'node_id': 'MDQ6VXNlcjQzOTMxODM3', 'avatar_url': 'https://avatars2.githubusercontent.com/u/43931837?v=4', 'gravatar_id': '', 'url': 'https://api.github.com/users/criraca', 'html_url': 'https://github.com/criraca', 'followers_url': 'https://api.github.com/users/criraca/followers', 'following_url': 'https://api.github.com/users/criraca/following{/other_user}', 'gists_url': 'https://api.github.com/users/criraca/gists{/gist_id}', 'starred_url': 'https://api.github.com/users/criraca/starred{/owner}{/repo}', 'subscriptions_url': 'https://api.github.com/users/criraca/subscriptions', 'organizations_url': 'https://api.github.com/users/criraca/orgs', 'repos_url': 'https://api.github.com/users/criraca/repos', 'events_url': 'https://api.github.com/users/criraca/events{/privacy}', 'received_events_url': 'https://api.github.com/users/criraca/received_events', 'type': 'User', 'site_admin': False}, 'html_url': 'https://github.com/criraca/madrid-oct-2018', 'description': None, 'fork': True, 'url': 'https://api.github.com/repos/criraca/madrid-oct-2018', 'forks_url': 'https://api.github.com/repos/criraca/madrid-oct-2018/forks', 'keys_url': 'https://api.github.com/repos/criraca/madrid-oct-2018/keys{/key_id}', 'collaborators_url': 'https://api.github.com/repos/criraca/madrid-oct-2018/collaborators{/collaborator}', 'teams_url': 'https://api.github.com/repos/criraca/madrid-oct-2018/teams', 'hooks_url': 'https://api.github.com/repos/criraca/madrid-oct-2018/hooks', 'issue_events_url': 'https://api.github.com/repos/criraca/madrid-oct-2018/issues/events{/number}', 'events_url': 'https://api.github.com/repos/criraca/madrid-oct-2018/events', 'assignees_url': 'https://api.github.com/repos/criraca/madrid-oct-2018/assignees{/user}', 'branches_url': 'https://api.github.com/repos/criraca/madrid-oct-2018/branches{/branch}', 'tags_url': 'https://api.github.com/repos/criraca/madrid-oct-2018/tags', 'blobs_url': 'https://api.github.com/repos/criraca/madrid-oct-2018/git/blobs{/sha}', 'git_tags_url': 'https://api.github.com/repos/criraca/madrid-oct-2018/git/tags{/sha}', 'git_refs_url': 'https://api.github.com/repos/criraca/madrid-oct-2018/git/refs{/sha}', 'trees_url': 'https://api.github.com/repos/criraca/madrid-oct-2018/git/trees{/sha}', 'statuses_url': 'https://api.github.com/repos/criraca/madrid-oct-2018/statuses/{sha}', 'languages_url': 'https://api.github.com/repos/criraca/madrid-oct-2018/languages', 'stargazers_url': 'https://api.github.com/repos/criraca/madrid-oct-2018/stargazers', 'contributors_url': 'https://api.github.com/repos/criraca/madrid-oct-2018/contributors', 'subscribers_url': 'https://api.github.com/repos/criraca/madrid-oct-2018/subscribers', 'subscription_url': 'https://api.github.com/repos/criraca/madrid-oct-2018/subscription', 'commits_url': 'https://api.github.com/repos/criraca/madrid-oct-2018/commits{/sha}', 'git_commits_url': 'https://api.github.com/repos/criraca/madrid-oct-2018/git/commits{/sha}', 'comments_url': 'https://api.github.com/repos/criraca/madrid-oct-2018/comments{/number}', 'issue_comment_url': 'https://api.github.com/repos/criraca/madrid-oct-2018/issues/comments{/number}', 'contents_url': 'https://api.github.com/repos/criraca/madrid-oct-2018/contents/{+path}', 'compare_url': 'https://api.github.com/repos/criraca/madrid-oct-2018/compare/{base}...{head}', 'merges_url': 'https://api.github.com/repos/criraca/madrid-oct-2018/merges', 'archive_url': 'https://api.github.com/repos/criraca/madrid-oct-2018/{archive_format}{/ref}', 'downloads_url': 'https://api.github.com/repos/criraca/madrid-oct-2018/downloads', 'issues_url': 'https://api.github.com/repos/criraca/madrid-oct-2018/issues{/number}', 'pulls_url': 'https://api.github.com/repos/criraca/madrid-oct-2018/pulls{/number}', 'milestones_url': 'https://api.github.com/repos/criraca/madrid-oct-2018/milestones{/number}', 'notifications_url': 'https://api.github.com/repos/criraca/madrid-oct-2018/notifications{?since,all,participating}', 'labels_url': 'https://api.github.com/repos/criraca/madrid-oct-2018/labels{/name}', 'releases_url': 'https://api.github.com/repos/criraca/madrid-oct-2018/releases{/id}', 'deployments_url': 'https://api.github.com/repos/criraca/madrid-oct-2018/deployments', 'created_at': '2018-10-22T18:04:20Z', 'updated_at': '2018-12-05T14:18:02Z', 'pushed_at': '2018-12-08T20:38:41Z', 'git_url': 'git://github.com/criraca/madrid-oct-2018.git', 'ssh_url': 'git@github.com:criraca/madrid-oct-2018.git', 'clone_url': 'https://github.com/criraca/madrid-oct-2018.git', 'svn_url': 'https://github.com/criraca/madrid-oct-2018', 'homepage': None, 'size': 59188, 'stargazers_count': 0, 'watchers_count': 0, 'language': 'Jupyter Notebook', 'has_issues': False, 'has_projects': True, 'has_downloads': True, 'has_wiki': True, 'has_pages': False, 'forks_count': 0, 'mirror_url': None, 'archived': False, 'disabled': False, 'open_issues_count': 0, 'license': {'key': 'unlicense', 'name': 'The Unlicense', 'spdx_id': 'Unlicense', 'url': 'https://api.github.com/licenses/unlicense', 'node_id': 'MDc6TGljZW5zZTE1'}, 'forks': 0, 'open_issues': 0, 'watchers': 0, 'default_branch': 'master', 'permissions': {'admin': False, 'push': False, 'pull': True}}, {'id': 154163166, 'node_id': 'MDEwOlJlcG9zaXRvcnkxNTQxNjMxNjY=', 'name': 'madrid-oct-2018', 'full_name': 'boyander/madrid-oct-2018', 'private': False, 'owner': {'login': 'boyander', 'id': 568638, 'node_id': 'MDQ6VXNlcjU2ODYzOA==', 'avatar_url': 'https://avatars1.githubusercontent.com/u/568638?v=4', 'gravatar_id': '', 'url': 'https://api.github.com/users/boyander', 'html_url': 'https://github.com/boyander', 'followers_url': 'https://api.github.com/users/boyander/followers', 'following_url': 'https://api.github.com/users/boyander/following{/other_user}', 'gists_url': 'https://api.github.com/users/boyander/gists{/gist_id}', 'starred_url': 'https://api.github.com/users/boyander/starred{/owner}{/repo}', 'subscriptions_url': 'https://api.github.com/users/boyander/subscriptions', 'organizations_url': 'https://api.github.com/users/boyander/orgs', 'repos_url': 'https://api.github.com/users/boyander/repos', 'events_url': 'https://api.github.com/users/boyander/events{/privacy}', 'received_events_url': 'https://api.github.com/users/boyander/received_events', 'type': 'User', 'site_admin': False}, 'html_url': 'https://github.com/boyander/madrid-oct-2018', 'description': None, 'fork': True, 'url': 'https://api.github.com/repos/boyander/madrid-oct-2018', 'forks_url': 'https://api.github.com/repos/boyander/madrid-oct-2018/forks', 'keys_url': 'https://api.github.com/repos/boyander/madrid-oct-2018/keys{/key_id}', 'collaborators_url': 'https://api.github.com/repos/boyander/madrid-oct-2018/collaborators{/collaborator}', 'teams_url': 'https://api.github.com/repos/boyander/madrid-oct-2018/teams', 'hooks_url': 'https://api.github.com/repos/boyander/madrid-oct-2018/hooks', 'issue_events_url': 'https://api.github.com/repos/boyander/madrid-oct-2018/issues/events{/number}', 'events_url': 'https://api.github.com/repos/boyander/madrid-oct-2018/events', 'assignees_url': 'https://api.github.com/repos/boyander/madrid-oct-2018/assignees{/user}', 'branches_url': 'https://api.github.com/repos/boyander/madrid-oct-2018/branches{/branch}', 'tags_url': 'https://api.github.com/repos/boyander/madrid-oct-2018/tags', 'blobs_url': 'https://api.github.com/repos/boyander/madrid-oct-2018/git/blobs{/sha}', 'git_tags_url': 'https://api.github.com/repos/boyander/madrid-oct-2018/git/tags{/sha}', 'git_refs_url': 'https://api.github.com/repos/boyander/madrid-oct-2018/git/refs{/sha}', 'trees_url': 'https://api.github.com/repos/boyander/madrid-oct-2018/git/trees{/sha}', 'statuses_url': 'https://api.github.com/repos/boyander/madrid-oct-2018/statuses/{sha}', 'languages_url': 'https://api.github.com/repos/boyander/madrid-oct-2018/languages', 'stargazers_url': 'https://api.github.com/repos/boyander/madrid-oct-2018/stargazers', 'contributors_url': 'https://api.github.com/repos/boyander/madrid-oct-2018/contributors', 'subscribers_url': 'https://api.github.com/repos/boyander/madrid-oct-2018/subscribers', 'subscription_url': 'https://api.github.com/repos/boyander/madrid-oct-2018/subscription', 'commits_url': 'https://api.github.com/repos/boyander/madrid-oct-2018/commits{/sha}', 'git_commits_url': 'https://api.github.com/repos/boyander/madrid-oct-2018/git/commits{/sha}', 'comments_url': 'https://api.github.com/repos/boyander/madrid-oct-2018/comments{/number}', 'issue_comment_url': 'https://api.github.com/repos/boyander/madrid-oct-2018/issues/comments{/number}', 'contents_url': 'https://api.github.com/repos/boyander/madrid-oct-2018/contents/{+path}', 'compare_url': 'https://api.github.com/repos/boyander/madrid-oct-2018/compare/{base}...{head}', 'merges_url': 'https://api.github.com/repos/boyander/madrid-oct-2018/merges', 'archive_url': 'https://api.github.com/repos/boyander/madrid-oct-2018/{archive_format}{/ref}', 'downloads_url': 'https://api.github.com/repos/boyander/madrid-oct-2018/downloads', 'issues_url': 'https://api.github.com/repos/boyander/madrid-oct-2018/issues{/number}', 'pulls_url': 'https://api.github.com/repos/boyander/madrid-oct-2018/pulls{/number}', 'milestones_url': 'https://api.github.com/repos/boyander/madrid-oct-2018/milestones{/number}', 'notifications_url': 'https://api.github.com/repos/boyander/madrid-oct-2018/notifications{?since,all,participating}', 'labels_url': 'https://api.github.com/repos/boyander/madrid-oct-2018/labels{/name}', 'releases_url': 'https://api.github.com/repos/boyander/madrid-oct-2018/releases{/id}', 'deployments_url': 'https://api.github.com/repos/boyander/madrid-oct-2018/deployments', 'created_at': '2018-10-22T14:58:12Z', 'updated_at': '2019-08-23T13:02:51Z', 'pushed_at': '2019-08-19T11:14:08Z', 'git_url': 'git://github.com/boyander/madrid-oct-2018.git', 'ssh_url': 'git@github.com:boyander/madrid-oct-2018.git', 'clone_url': 'https://github.com/boyander/madrid-oct-2018.git', 'svn_url': 'https://github.com/boyander/madrid-oct-2018', 'homepage': None, 'size': 33829, 'stargazers_count': 0, 'watchers_count': 0, 'language': 'Python', 'has_issues': False, 'has_projects': True, 'has_downloads': True, 'has_wiki': True, 'has_pages': False, 'forks_count': 0, 'mirror_url': None, 'archived': False, 'disabled': False, 'open_issues_count': 0, 'license': {'key': 'unlicense', 'name': 'The Unlicense', 'spdx_id': 'Unlicense', 'url': 'https://api.github.com/licenses/unlicense', 'node_id': 'MDc6TGljZW5zZTE1'}, 'forks': 0, 'open_issues': 0, 'watchers': 0, 'default_branch': 'master', 'permissions': {'admin': False, 'push': False, 'pull': True}}, {'id': 154105473, 'node_id': 'MDEwOlJlcG9zaXRvcnkxNTQxMDU0NzM=', 'name': 'madrid-oct-2018', 'full_name': 'AlbertoCastellanos/madrid-oct-2018', 'private': False, 'owner': {'login': 'AlbertoCastellanos', 'id': 43521577, 'node_id': 'MDQ6VXNlcjQzNTIxNTc3', 'avatar_url': 'https://avatars1.githubusercontent.com/u/43521577?v=4', 'gravatar_id': '', 'url': 'https://api.github.com/users/AlbertoCastellanos', 'html_url': 'https://github.com/AlbertoCastellanos', 'followers_url': 'https://api.github.com/users/AlbertoCastellanos/followers', 'following_url': 'https://api.github.com/users/AlbertoCastellanos/following{/other_user}', 'gists_url': 'https://api.github.com/users/AlbertoCastellanos/gists{/gist_id}', 'starred_url': 'https://api.github.com/users/AlbertoCastellanos/starred{/owner}{/repo}', 'subscriptions_url': 'https://api.github.com/users/AlbertoCastellanos/subscriptions', 'organizations_url': 'https://api.github.com/users/AlbertoCastellanos/orgs', 'repos_url': 'https://api.github.com/users/AlbertoCastellanos/repos', 'events_url': 'https://api.github.com/users/AlbertoCastellanos/events{/privacy}', 'received_events_url': 'https://api.github.com/users/AlbertoCastellanos/received_events', 'type': 'User', 'site_admin': False}, 'html_url': 'https://github.com/AlbertoCastellanos/madrid-oct-2018', 'description': None, 'fork': True, 'url': 'https://api.github.com/repos/AlbertoCastellanos/madrid-oct-2018', 'forks_url': 'https://api.github.com/repos/AlbertoCastellanos/madrid-oct-2018/forks', 'keys_url': 'https://api.github.com/repos/AlbertoCastellanos/madrid-oct-2018/keys{/key_id}', 'collaborators_url': 'https://api.github.com/repos/AlbertoCastellanos/madrid-oct-2018/collaborators{/collaborator}', 'teams_url': 'https://api.github.com/repos/AlbertoCastellanos/madrid-oct-2018/teams', 'hooks_url': 'https://api.github.com/repos/AlbertoCastellanos/madrid-oct-2018/hooks', 'issue_events_url': 'https://api.github.com/repos/AlbertoCastellanos/madrid-oct-2018/issues/events{/number}', 'events_url': 'https://api.github.com/repos/AlbertoCastellanos/madrid-oct-2018/events', 'assignees_url': 'https://api.github.com/repos/AlbertoCastellanos/madrid-oct-2018/assignees{/user}', 'branches_url': 'https://api.github.com/repos/AlbertoCastellanos/madrid-oct-2018/branches{/branch}', 'tags_url': 'https://api.github.com/repos/AlbertoCastellanos/madrid-oct-2018/tags', 'blobs_url': 'https://api.github.com/repos/AlbertoCastellanos/madrid-oct-2018/git/blobs{/sha}', 'git_tags_url': 'https://api.github.com/repos/AlbertoCastellanos/madrid-oct-2018/git/tags{/sha}', 'git_refs_url': 'https://api.github.com/repos/AlbertoCastellanos/madrid-oct-2018/git/refs{/sha}', 'trees_url': 'https://api.github.com/repos/AlbertoCastellanos/madrid-oct-2018/git/trees{/sha}', 'statuses_url': 'https://api.github.com/repos/AlbertoCastellanos/madrid-oct-2018/statuses/{sha}', 'languages_url': 'https://api.github.com/repos/AlbertoCastellanos/madrid-oct-2018/languages', 'stargazers_url': 'https://api.github.com/repos/AlbertoCastellanos/madrid-oct-2018/stargazers', 'contributors_url': 'https://api.github.com/repos/AlbertoCastellanos/madrid-oct-2018/contributors', 'subscribers_url': 'https://api.github.com/repos/AlbertoCastellanos/madrid-oct-2018/subscribers', 'subscription_url': 'https://api.github.com/repos/AlbertoCastellanos/madrid-oct-2018/subscription', 'commits_url': 'https://api.github.com/repos/AlbertoCastellanos/madrid-oct-2018/commits{/sha}', 'git_commits_url': 'https://api.github.com/repos/AlbertoCastellanos/madrid-oct-2018/git/commits{/sha}', 'comments_url': 'https://api.github.com/repos/AlbertoCastellanos/madrid-oct-2018/comments{/number}', 'issue_comment_url': 'https://api.github.com/repos/AlbertoCastellanos/madrid-oct-2018/issues/comments{/number}', 'contents_url': 'https://api.github.com/repos/AlbertoCastellanos/madrid-oct-2018/contents/{+path}', 'compare_url': 'https://api.github.com/repos/AlbertoCastellanos/madrid-oct-2018/compare/{base}...{head}', 'merges_url': 'https://api.github.com/repos/AlbertoCastellanos/madrid-oct-2018/merges', 'archive_url': 'https://api.github.com/repos/AlbertoCastellanos/madrid-oct-2018/{archive_format}{/ref}', 'downloads_url': 'https://api.github.com/repos/AlbertoCastellanos/madrid-oct-2018/downloads', 'issues_url': 'https://api.github.com/repos/AlbertoCastellanos/madrid-oct-2018/issues{/number}', 'pulls_url': 'https://api.github.com/repos/AlbertoCastellanos/madrid-oct-2018/pulls{/number}', 'milestones_url': 'https://api.github.com/repos/AlbertoCastellanos/madrid-oct-2018/milestones{/number}', 'notifications_url': 'https://api.github.com/repos/AlbertoCastellanos/madrid-oct-2018/notifications{?since,all,participating}', 'labels_url': 'https://api.github.com/repos/AlbertoCastellanos/madrid-oct-2018/labels{/name}', 'releases_url': 'https://api.github.com/repos/AlbertoCastellanos/madrid-oct-2018/releases{/id}', 'deployments_url': 'https://api.github.com/repos/AlbertoCastellanos/madrid-oct-2018/deployments', 'created_at': '2018-10-22T07:50:41Z', 'updated_at': '2018-12-03T14:18:22Z', 'pushed_at': '2018-12-09T18:51:54Z', 'git_url': 'git://github.com/AlbertoCastellanos/madrid-oct-2018.git', 'ssh_url': 'git@github.com:AlbertoCastellanos/madrid-oct-2018.git', 'clone_url': 'https://github.com/AlbertoCastellanos/madrid-oct-2018.git', 'svn_url': 'https://github.com/AlbertoCastellanos/madrid-oct-2018', 'homepage': None, 'size': 93337, 'stargazers_count': 0, 'watchers_count': 0, 'language': 'Jupyter Notebook', 'has_issues': False, 'has_projects': True, 'has_downloads': True, 'has_wiki': True, 'has_pages': False, 'forks_count': 0, 'mirror_url': None, 'archived': False, 'disabled': False, 'open_issues_count': 0, 'license': None, 'forks': 0, 'open_issues': 0, 'watchers': 0, 'default_branch': 'master', 'permissions': {'admin': False, 'push': False, 'pull': True}}, {'id': 153788059, 'node_id': 'MDEwOlJlcG9zaXRvcnkxNTM3ODgwNTk=', 'name': 'madrid-oct-2018', 'full_name': 'elenajpp/madrid-oct-2018', 'private': False, 'owner': {'login': 'elenajpp', 'id': 44167409, 'node_id': 'MDQ6VXNlcjQ0MTY3NDA5', 'avatar_url': 'https://avatars2.githubusercontent.com/u/44167409?v=4', 'gravatar_id': '', 'url': 'https://api.github.com/users/elenajpp', 'html_url': 'https://github.com/elenajpp', 'followers_url': 'https://api.github.com/users/elenajpp/followers', 'following_url': 'https://api.github.com/users/elenajpp/following{/other_user}', 'gists_url': 'https://api.github.com/users/elenajpp/gists{/gist_id}', 'starred_url': 'https://api.github.com/users/elenajpp/starred{/owner}{/repo}', 'subscriptions_url': 'https://api.github.com/users/elenajpp/subscriptions', 'organizations_url': 'https://api.github.com/users/elenajpp/orgs', 'repos_url': 'https://api.github.com/users/elenajpp/repos', 'events_url': 'https://api.github.com/users/elenajpp/events{/privacy}', 'received_events_url': 'https://api.github.com/users/elenajpp/received_events', 'type': 'User', 'site_admin': False}, 'html_url': 'https://github.com/elenajpp/madrid-oct-2018', 'description': None, 'fork': True, 'url': 'https://api.github.com/repos/elenajpp/madrid-oct-2018', 'forks_url': 'https://api.github.com/repos/elenajpp/madrid-oct-2018/forks', 'keys_url': 'https://api.github.com/repos/elenajpp/madrid-oct-2018/keys{/key_id}', 'collaborators_url': 'https://api.github.com/repos/elenajpp/madrid-oct-2018/collaborators{/collaborator}', 'teams_url': 'https://api.github.com/repos/elenajpp/madrid-oct-2018/teams', 'hooks_url': 'https://api.github.com/repos/elenajpp/madrid-oct-2018/hooks', 'issue_events_url': 'https://api.github.com/repos/elenajpp/madrid-oct-2018/issues/events{/number}', 'events_url': 'https://api.github.com/repos/elenajpp/madrid-oct-2018/events', 'assignees_url': 'https://api.github.com/repos/elenajpp/madrid-oct-2018/assignees{/user}', 'branches_url': 'https://api.github.com/repos/elenajpp/madrid-oct-2018/branches{/branch}', 'tags_url': 'https://api.github.com/repos/elenajpp/madrid-oct-2018/tags', 'blobs_url': 'https://api.github.com/repos/elenajpp/madrid-oct-2018/git/blobs{/sha}', 'git_tags_url': 'https://api.github.com/repos/elenajpp/madrid-oct-2018/git/tags{/sha}', 'git_refs_url': 'https://api.github.com/repos/elenajpp/madrid-oct-2018/git/refs{/sha}', 'trees_url': 'https://api.github.com/repos/elenajpp/madrid-oct-2018/git/trees{/sha}', 'statuses_url': 'https://api.github.com/repos/elenajpp/madrid-oct-2018/statuses/{sha}', 'languages_url': 'https://api.github.com/repos/elenajpp/madrid-oct-2018/languages', 'stargazers_url': 'https://api.github.com/repos/elenajpp/madrid-oct-2018/stargazers', 'contributors_url': 'https://api.github.com/repos/elenajpp/madrid-oct-2018/contributors', 'subscribers_url': 'https://api.github.com/repos/elenajpp/madrid-oct-2018/subscribers', 'subscription_url': 'https://api.github.com/repos/elenajpp/madrid-oct-2018/subscription', 'commits_url': 'https://api.github.com/repos/elenajpp/madrid-oct-2018/commits{/sha}', 'git_commits_url': 'https://api.github.com/repos/elenajpp/madrid-oct-2018/git/commits{/sha}', 'comments_url': 'https://api.github.com/repos/elenajpp/madrid-oct-2018/comments{/number}', 'issue_comment_url': 'https://api.github.com/repos/elenajpp/madrid-oct-2018/issues/comments{/number}', 'contents_url': 'https://api.github.com/repos/elenajpp/madrid-oct-2018/contents/{+path}', 'compare_url': 'https://api.github.com/repos/elenajpp/madrid-oct-2018/compare/{base}...{head}', 'merges_url': 'https://api.github.com/repos/elenajpp/madrid-oct-2018/merges', 'archive_url': 'https://api.github.com/repos/elenajpp/madrid-oct-2018/{archive_format}{/ref}', 'downloads_url': 'https://api.github.com/repos/elenajpp/madrid-oct-2018/downloads', 'issues_url': 'https://api.github.com/repos/elenajpp/madrid-oct-2018/issues{/number}', 'pulls_url': 'https://api.github.com/repos/elenajpp/madrid-oct-2018/pulls{/number}', 'milestones_url': 'https://api.github.com/repos/elenajpp/madrid-oct-2018/milestones{/number}', 'notifications_url': 'https://api.github.com/repos/elenajpp/madrid-oct-2018/notifications{?since,all,participating}', 'labels_url': 'https://api.github.com/repos/elenajpp/madrid-oct-2018/labels{/name}', 'releases_url': 'https://api.github.com/repos/elenajpp/madrid-oct-2018/releases{/id}', 'deployments_url': 'https://api.github.com/repos/elenajpp/madrid-oct-2018/deployments', 'created_at': '2018-10-19T13:35:55Z', 'updated_at': '2018-12-05T15:59:58Z', 'pushed_at': '2018-12-10T15:52:37Z', 'git_url': 'git://github.com/elenajpp/madrid-oct-2018.git', 'ssh_url': 'git@github.com:elenajpp/madrid-oct-2018.git', 'clone_url': 'https://github.com/elenajpp/madrid-oct-2018.git', 'svn_url': 'https://github.com/elenajpp/madrid-oct-2018', 'homepage': None, 'size': 172434, 'stargazers_count': 0, 'watchers_count': 0, 'language': 'Jupyter Notebook', 'has_issues': False, 'has_projects': True, 'has_downloads': True, 'has_wiki': True, 'has_pages': False, 'forks_count': 0, 'mirror_url': None, 'archived': False, 'disabled': False, 'open_issues_count': 0, 'license': {'key': 'unlicense', 'name': 'The Unlicense', 'spdx_id': 'Unlicense', 'url': 'https://api.github.com/licenses/unlicense', 'node_id': 'MDc6TGljZW5zZTE1'}, 'forks': 0, 'open_issues': 0, 'watchers': 0, 'default_branch': 'master', 'permissions': {'admin': False, 'push': False, 'pull': True}}, {'id': 153787890, 'node_id': 'MDEwOlJlcG9zaXRvcnkxNTM3ODc4OTA=', 'name': 'madrid-oct-2018', 'full_name': 'pablobarrio/madrid-oct-2018', 'private': False, 'owner': {'login': 'pablobarrio', 'id': 44111839, 'node_id': 'MDQ6VXNlcjQ0MTExODM5', 'avatar_url': 'https://avatars2.githubusercontent.com/u/44111839?v=4', 'gravatar_id': '', 'url': 'https://api.github.com/users/pablobarrio', 'html_url': 'https://github.com/pablobarrio', 'followers_url': 'https://api.github.com/users/pablobarrio/followers', 'following_url': 'https://api.github.com/users/pablobarrio/following{/other_user}', 'gists_url': 'https://api.github.com/users/pablobarrio/gists{/gist_id}', 'starred_url': 'https://api.github.com/users/pablobarrio/starred{/owner}{/repo}', 'subscriptions_url': 'https://api.github.com/users/pablobarrio/subscriptions', 'organizations_url': 'https://api.github.com/users/pablobarrio/orgs', 'repos_url': 'https://api.github.com/users/pablobarrio/repos', 'events_url': 'https://api.github.com/users/pablobarrio/events{/privacy}', 'received_events_url': 'https://api.github.com/users/pablobarrio/received_events', 'type': 'User', 'site_admin': False}, 'html_url': 'https://github.com/pablobarrio/madrid-oct-2018', 'description': None, 'fork': True, 'url': 'https://api.github.com/repos/pablobarrio/madrid-oct-2018', 'forks_url': 'https://api.github.com/repos/pablobarrio/madrid-oct-2018/forks', 'keys_url': 'https://api.github.com/repos/pablobarrio/madrid-oct-2018/keys{/key_id}', 'collaborators_url': 'https://api.github.com/repos/pablobarrio/madrid-oct-2018/collaborators{/collaborator}', 'teams_url': 'https://api.github.com/repos/pablobarrio/madrid-oct-2018/teams', 'hooks_url': 'https://api.github.com/repos/pablobarrio/madrid-oct-2018/hooks', 'issue_events_url': 'https://api.github.com/repos/pablobarrio/madrid-oct-2018/issues/events{/number}', 'events_url': 'https://api.github.com/repos/pablobarrio/madrid-oct-2018/events', 'assignees_url': 'https://api.github.com/repos/pablobarrio/madrid-oct-2018/assignees{/user}', 'branches_url': 'https://api.github.com/repos/pablobarrio/madrid-oct-2018/branches{/branch}', 'tags_url': 'https://api.github.com/repos/pablobarrio/madrid-oct-2018/tags', 'blobs_url': 'https://api.github.com/repos/pablobarrio/madrid-oct-2018/git/blobs{/sha}', 'git_tags_url': 'https://api.github.com/repos/pablobarrio/madrid-oct-2018/git/tags{/sha}', 'git_refs_url': 'https://api.github.com/repos/pablobarrio/madrid-oct-2018/git/refs{/sha}', 'trees_url': 'https://api.github.com/repos/pablobarrio/madrid-oct-2018/git/trees{/sha}', 'statuses_url': 'https://api.github.com/repos/pablobarrio/madrid-oct-2018/statuses/{sha}', 'languages_url': 'https://api.github.com/repos/pablobarrio/madrid-oct-2018/languages', 'stargazers_url': 'https://api.github.com/repos/pablobarrio/madrid-oct-2018/stargazers', 'contributors_url': 'https://api.github.com/repos/pablobarrio/madrid-oct-2018/contributors', 'subscribers_url': 'https://api.github.com/repos/pablobarrio/madrid-oct-2018/subscribers', 'subscription_url': 'https://api.github.com/repos/pablobarrio/madrid-oct-2018/subscription', 'commits_url': 'https://api.github.com/repos/pablobarrio/madrid-oct-2018/commits{/sha}', 'git_commits_url': 'https://api.github.com/repos/pablobarrio/madrid-oct-2018/git/commits{/sha}', 'comments_url': 'https://api.github.com/repos/pablobarrio/madrid-oct-2018/comments{/number}', 'issue_comment_url': 'https://api.github.com/repos/pablobarrio/madrid-oct-2018/issues/comments{/number}', 'contents_url': 'https://api.github.com/repos/pablobarrio/madrid-oct-2018/contents/{+path}', 'compare_url': 'https://api.github.com/repos/pablobarrio/madrid-oct-2018/compare/{base}...{head}', 'merges_url': 'https://api.github.com/repos/pablobarrio/madrid-oct-2018/merges', 'archive_url': 'https://api.github.com/repos/pablobarrio/madrid-oct-2018/{archive_format}{/ref}', 'downloads_url': 'https://api.github.com/repos/pablobarrio/madrid-oct-2018/downloads', 'issues_url': 'https://api.github.com/repos/pablobarrio/madrid-oct-2018/issues{/number}', 'pulls_url': 'https://api.github.com/repos/pablobarrio/madrid-oct-2018/pulls{/number}', 'milestones_url': 'https://api.github.com/repos/pablobarrio/madrid-oct-2018/milestones{/number}', 'notifications_url': 'https://api.github.com/repos/pablobarrio/madrid-oct-2018/notifications{?since,all,participating}', 'labels_url': 'https://api.github.com/repos/pablobarrio/madrid-oct-2018/labels{/name}', 'releases_url': 'https://api.github.com/repos/pablobarrio/madrid-oct-2018/releases{/id}', 'deployments_url': 'https://api.github.com/repos/pablobarrio/madrid-oct-2018/deployments', 'created_at': '2018-10-19T13:34:59Z', 'updated_at': '2018-10-23T15:37:48Z', 'pushed_at': '2018-11-26T08:05:58Z', 'git_url': 'git://github.com/pablobarrio/madrid-oct-2018.git', 'ssh_url': 'git@github.com:pablobarrio/madrid-oct-2018.git', 'clone_url': 'https://github.com/pablobarrio/madrid-oct-2018.git', 'svn_url': 'https://github.com/pablobarrio/madrid-oct-2018', 'homepage': None, 'size': 78142, 'stargazers_count': 0, 'watchers_count': 0, 'language': 'Jupyter Notebook', 'has_issues': False, 'has_projects': True, 'has_downloads': True, 'has_wiki': True, 'has_pages': False, 'forks_count': 0, 'mirror_url': None, 'archived': False, 'disabled': False, 'open_issues_count': 0, 'license': {'key': 'unlicense', 'name': 'The Unlicense', 'spdx_id': 'Unlicense', 'url': 'https://api.github.com/licenses/unlicense', 'node_id': 'MDc6TGljZW5zZTE1'}, 'forks': 0, 'open_issues': 0, 'watchers': 0, 'default_branch': 'master', 'permissions': {'admin': False, 'push': False, 'pull': True}}, {'id': 153787814, 'node_id': 'MDEwOlJlcG9zaXRvcnkxNTM3ODc4MTQ=', 'name': 'madrid-oct-2018', 'full_name': 'miriammg/madrid-oct-2018', 'private': False, 'owner': {'login': 'miriammg', 'id': 43962086, 'node_id': 'MDQ6VXNlcjQzOTYyMDg2', 'avatar_url': 'https://avatars2.githubusercontent.com/u/43962086?v=4', 'gravatar_id': '', 'url': 'https://api.github.com/users/miriammg', 'html_url': 'https://github.com/miriammg', 'followers_url': 'https://api.github.com/users/miriammg/followers', 'following_url': 'https://api.github.com/users/miriammg/following{/other_user}', 'gists_url': 'https://api.github.com/users/miriammg/gists{/gist_id}', 'starred_url': 'https://api.github.com/users/miriammg/starred{/owner}{/repo}', 'subscriptions_url': 'https://api.github.com/users/miriammg/subscriptions', 'organizations_url': 'https://api.github.com/users/miriammg/orgs', 'repos_url': 'https://api.github.com/users/miriammg/repos', 'events_url': 'https://api.github.com/users/miriammg/events{/privacy}', 'received_events_url': 'https://api.github.com/users/miriammg/received_events', 'type': 'User', 'site_admin': False}, 'html_url': 'https://github.com/miriammg/madrid-oct-2018', 'description': None, 'fork': True, 'url': 'https://api.github.com/repos/miriammg/madrid-oct-2018', 'forks_url': 'https://api.github.com/repos/miriammg/madrid-oct-2018/forks', 'keys_url': 'https://api.github.com/repos/miriammg/madrid-oct-2018/keys{/key_id}', 'collaborators_url': 'https://api.github.com/repos/miriammg/madrid-oct-2018/collaborators{/collaborator}', 'teams_url': 'https://api.github.com/repos/miriammg/madrid-oct-2018/teams', 'hooks_url': 'https://api.github.com/repos/miriammg/madrid-oct-2018/hooks', 'issue_events_url': 'https://api.github.com/repos/miriammg/madrid-oct-2018/issues/events{/number}', 'events_url': 'https://api.github.com/repos/miriammg/madrid-oct-2018/events', 'assignees_url': 'https://api.github.com/repos/miriammg/madrid-oct-2018/assignees{/user}', 'branches_url': 'https://api.github.com/repos/miriammg/madrid-oct-2018/branches{/branch}', 'tags_url': 'https://api.github.com/repos/miriammg/madrid-oct-2018/tags', 'blobs_url': 'https://api.github.com/repos/miriammg/madrid-oct-2018/git/blobs{/sha}', 'git_tags_url': 'https://api.github.com/repos/miriammg/madrid-oct-2018/git/tags{/sha}', 'git_refs_url': 'https://api.github.com/repos/miriammg/madrid-oct-2018/git/refs{/sha}', 'trees_url': 'https://api.github.com/repos/miriammg/madrid-oct-2018/git/trees{/sha}', 'statuses_url': 'https://api.github.com/repos/miriammg/madrid-oct-2018/statuses/{sha}', 'languages_url': 'https://api.github.com/repos/miriammg/madrid-oct-2018/languages', 'stargazers_url': 'https://api.github.com/repos/miriammg/madrid-oct-2018/stargazers', 'contributors_url': 'https://api.github.com/repos/miriammg/madrid-oct-2018/contributors', 'subscribers_url': 'https://api.github.com/repos/miriammg/madrid-oct-2018/subscribers', 'subscription_url': 'https://api.github.com/repos/miriammg/madrid-oct-2018/subscription', 'commits_url': 'https://api.github.com/repos/miriammg/madrid-oct-2018/commits{/sha}', 'git_commits_url': 'https://api.github.com/repos/miriammg/madrid-oct-2018/git/commits{/sha}', 'comments_url': 'https://api.github.com/repos/miriammg/madrid-oct-2018/comments{/number}', 'issue_comment_url': 'https://api.github.com/repos/miriammg/madrid-oct-2018/issues/comments{/number}', 'contents_url': 'https://api.github.com/repos/miriammg/madrid-oct-2018/contents/{+path}', 'compare_url': 'https://api.github.com/repos/miriammg/madrid-oct-2018/compare/{base}...{head}', 'merges_url': 'https://api.github.com/repos/miriammg/madrid-oct-2018/merges', 'archive_url': 'https://api.github.com/repos/miriammg/madrid-oct-2018/{archive_format}{/ref}', 'downloads_url': 'https://api.github.com/repos/miriammg/madrid-oct-2018/downloads', 'issues_url': 'https://api.github.com/repos/miriammg/madrid-oct-2018/issues{/number}', 'pulls_url': 'https://api.github.com/repos/miriammg/madrid-oct-2018/pulls{/number}', 'milestones_url': 'https://api.github.com/repos/miriammg/madrid-oct-2018/milestones{/number}', 'notifications_url': 'https://api.github.com/repos/miriammg/madrid-oct-2018/notifications{?since,all,participating}', 'labels_url': 'https://api.github.com/repos/miriammg/madrid-oct-2018/labels{/name}', 'releases_url': 'https://api.github.com/repos/miriammg/madrid-oct-2018/releases{/id}', 'deployments_url': 'https://api.github.com/repos/miriammg/madrid-oct-2018/deployments', 'created_at': '2018-10-19T13:34:25Z', 'updated_at': '2018-12-07T09:57:15Z', 'pushed_at': '2018-12-09T10:29:50Z', 'git_url': 'git://github.com/miriammg/madrid-oct-2018.git', 'ssh_url': 'git@github.com:miriammg/madrid-oct-2018.git', 'clone_url': 'https://github.com/miriammg/madrid-oct-2018.git', 'svn_url': 'https://github.com/miriammg/madrid-oct-2018', 'homepage': None, 'size': 77320, 'stargazers_count': 0, 'watchers_count': 0, 'language': 'Jupyter Notebook', 'has_issues': False, 'has_projects': True, 'has_downloads': True, 'has_wiki': True, 'has_pages': False, 'forks_count': 0, 'mirror_url': None, 'archived': False, 'disabled': False, 'open_issues_count': 0, 'license': {'key': 'unlicense', 'name': 'The Unlicense', 'spdx_id': 'Unlicense', 'url': 'https://api.github.com/licenses/unlicense', 'node_id': 'MDc6TGljZW5zZTE1'}, 'forks': 0, 'open_issues': 0, 'watchers': 0, 'default_branch': 'master', 'permissions': {'admin': False, 'push': False, 'pull': True}}, {'id': 153787806, 'node_id': 'MDEwOlJlcG9zaXRvcnkxNTM3ODc4MDY=', 'name': 'madrid-oct-2018', 'full_name': 'albertogcmr/madrid-oct-2018', 'private': False, 'owner': {'login': 'albertogcmr', 'id': 35075785, 'node_id': 'MDQ6VXNlcjM1MDc1Nzg1', 'avatar_url': 'https://avatars0.githubusercontent.com/u/35075785?v=4', 'gravatar_id': '', 'url': 'https://api.github.com/users/albertogcmr', 'html_url': 'https://github.com/albertogcmr', 'followers_url': 'https://api.github.com/users/albertogcmr/followers', 'following_url': 'https://api.github.com/users/albertogcmr/following{/other_user}', 'gists_url': 'https://api.github.com/users/albertogcmr/gists{/gist_id}', 'starred_url': 'https://api.github.com/users/albertogcmr/starred{/owner}{/repo}', 'subscriptions_url': 'https://api.github.com/users/albertogcmr/subscriptions', 'organizations_url': 'https://api.github.com/users/albertogcmr/orgs', 'repos_url': 'https://api.github.com/users/albertogcmr/repos', 'events_url': 'https://api.github.com/users/albertogcmr/events{/privacy}', 'received_events_url': 'https://api.github.com/users/albertogcmr/received_events', 'type': 'User', 'site_admin': False}, 'html_url': 'https://github.com/albertogcmr/madrid-oct-2018', 'description': None, 'fork': True, 'url': 'https://api.github.com/repos/albertogcmr/madrid-oct-2018', 'forks_url': 'https://api.github.com/repos/albertogcmr/madrid-oct-2018/forks', 'keys_url': 'https://api.github.com/repos/albertogcmr/madrid-oct-2018/keys{/key_id}', 'collaborators_url': 'https://api.github.com/repos/albertogcmr/madrid-oct-2018/collaborators{/collaborator}', 'teams_url': 'https://api.github.com/repos/albertogcmr/madrid-oct-2018/teams', 'hooks_url': 'https://api.github.com/repos/albertogcmr/madrid-oct-2018/hooks', 'issue_events_url': 'https://api.github.com/repos/albertogcmr/madrid-oct-2018/issues/events{/number}', 'events_url': 'https://api.github.com/repos/albertogcmr/madrid-oct-2018/events', 'assignees_url': 'https://api.github.com/repos/albertogcmr/madrid-oct-2018/assignees{/user}', 'branches_url': 'https://api.github.com/repos/albertogcmr/madrid-oct-2018/branches{/branch}', 'tags_url': 'https://api.github.com/repos/albertogcmr/madrid-oct-2018/tags', 'blobs_url': 'https://api.github.com/repos/albertogcmr/madrid-oct-2018/git/blobs{/sha}', 'git_tags_url': 'https://api.github.com/repos/albertogcmr/madrid-oct-2018/git/tags{/sha}', 'git_refs_url': 'https://api.github.com/repos/albertogcmr/madrid-oct-2018/git/refs{/sha}', 'trees_url': 'https://api.github.com/repos/albertogcmr/madrid-oct-2018/git/trees{/sha}', 'statuses_url': 'https://api.github.com/repos/albertogcmr/madrid-oct-2018/statuses/{sha}', 'languages_url': 'https://api.github.com/repos/albertogcmr/madrid-oct-2018/languages', 'stargazers_url': 'https://api.github.com/repos/albertogcmr/madrid-oct-2018/stargazers', 'contributors_url': 'https://api.github.com/repos/albertogcmr/madrid-oct-2018/contributors', 'subscribers_url': 'https://api.github.com/repos/albertogcmr/madrid-oct-2018/subscribers', 'subscription_url': 'https://api.github.com/repos/albertogcmr/madrid-oct-2018/subscription', 'commits_url': 'https://api.github.com/repos/albertogcmr/madrid-oct-2018/commits{/sha}', 'git_commits_url': 'https://api.github.com/repos/albertogcmr/madrid-oct-2018/git/commits{/sha}', 'comments_url': 'https://api.github.com/repos/albertogcmr/madrid-oct-2018/comments{/number}', 'issue_comment_url': 'https://api.github.com/repos/albertogcmr/madrid-oct-2018/issues/comments{/number}', 'contents_url': 'https://api.github.com/repos/albertogcmr/madrid-oct-2018/contents/{+path}', 'compare_url': 'https://api.github.com/repos/albertogcmr/madrid-oct-2018/compare/{base}...{head}', 'merges_url': 'https://api.github.com/repos/albertogcmr/madrid-oct-2018/merges', 'archive_url': 'https://api.github.com/repos/albertogcmr/madrid-oct-2018/{archive_format}{/ref}', 'downloads_url': 'https://api.github.com/repos/albertogcmr/madrid-oct-2018/downloads', 'issues_url': 'https://api.github.com/repos/albertogcmr/madrid-oct-2018/issues{/number}', 'pulls_url': 'https://api.github.com/repos/albertogcmr/madrid-oct-2018/pulls{/number}', 'milestones_url': 'https://api.github.com/repos/albertogcmr/madrid-oct-2018/milestones{/number}', 'notifications_url': 'https://api.github.com/repos/albertogcmr/madrid-oct-2018/notifications{?since,all,participating}', 'labels_url': 'https://api.github.com/repos/albertogcmr/madrid-oct-2018/labels{/name}', 'releases_url': 'https://api.github.com/repos/albertogcmr/madrid-oct-2018/releases{/id}', 'deployments_url': 'https://api.github.com/repos/albertogcmr/madrid-oct-2018/deployments', 'created_at': '2018-10-19T13:34:21Z', 'updated_at': '2019-01-18T09:34:32Z', 'pushed_at': '2019-08-20T14:07:28Z', 'git_url': 'git://github.com/albertogcmr/madrid-oct-2018.git', 'ssh_url': 'git@github.com:albertogcmr/madrid-oct-2018.git', 'clone_url': 'https://github.com/albertogcmr/madrid-oct-2018.git', 'svn_url': 'https://github.com/albertogcmr/madrid-oct-2018', 'homepage': None, 'size': 171492, 'stargazers_count': 0, 'watchers_count': 0, 'language': 'Jupyter Notebook', 'has_issues': False, 'has_projects': True, 'has_downloads': True, 'has_wiki': True, 'has_pages': False, 'forks_count': 0, 'mirror_url': None, 'archived': False, 'disabled': False, 'open_issues_count': 0, 'license': {'key': 'unlicense', 'name': 'The Unlicense', 'spdx_id': 'Unlicense', 'url': 'https://api.github.com/licenses/unlicense', 'node_id': 'MDc6TGljZW5zZTE1'}, 'forks': 0, 'open_issues': 0, 'watchers': 0, 'default_branch': 'master', 'permissions': {'admin': False, 'push': False, 'pull': True}}, {'id': 153787788, 'node_id': 'MDEwOlJlcG9zaXRvcnkxNTM3ODc3ODg=', 'name': 'madrid-oct-2018', 'full_name': 'marisfont/madrid-oct-2018', 'private': False, 'owner': {'login': 'marisfont', 'id': 43796849, 'node_id': 'MDQ6VXNlcjQzNzk2ODQ5', 'avatar_url': 'https://avatars3.githubusercontent.com/u/43796849?v=4', 'gravatar_id': '', 'url': 'https://api.github.com/users/marisfont', 'html_url': 'https://github.com/marisfont', 'followers_url': 'https://api.github.com/users/marisfont/followers', 'following_url': 'https://api.github.com/users/marisfont/following{/other_user}', 'gists_url': 'https://api.github.com/users/marisfont/gists{/gist_id}', 'starred_url': 'https://api.github.com/users/marisfont/starred{/owner}{/repo}', 'subscriptions_url': 'https://api.github.com/users/marisfont/subscriptions', 'organizations_url': 'https://api.github.com/users/marisfont/orgs', 'repos_url': 'https://api.github.com/users/marisfont/repos', 'events_url': 'https://api.github.com/users/marisfont/events{/privacy}', 'received_events_url': 'https://api.github.com/users/marisfont/received_events', 'type': 'User', 'site_admin': False}, 'html_url': 'https://github.com/marisfont/madrid-oct-2018', 'description': None, 'fork': True, 'url': 'https://api.github.com/repos/marisfont/madrid-oct-2018', 'forks_url': 'https://api.github.com/repos/marisfont/madrid-oct-2018/forks', 'keys_url': 'https://api.github.com/repos/marisfont/madrid-oct-2018/keys{/key_id}', 'collaborators_url': 'https://api.github.com/repos/marisfont/madrid-oct-2018/collaborators{/collaborator}', 'teams_url': 'https://api.github.com/repos/marisfont/madrid-oct-2018/teams', 'hooks_url': 'https://api.github.com/repos/marisfont/madrid-oct-2018/hooks', 'issue_events_url': 'https://api.github.com/repos/marisfont/madrid-oct-2018/issues/events{/number}', 'events_url': 'https://api.github.com/repos/marisfont/madrid-oct-2018/events', 'assignees_url': 'https://api.github.com/repos/marisfont/madrid-oct-2018/assignees{/user}', 'branches_url': 'https://api.github.com/repos/marisfont/madrid-oct-2018/branches{/branch}', 'tags_url': 'https://api.github.com/repos/marisfont/madrid-oct-2018/tags', 'blobs_url': 'https://api.github.com/repos/marisfont/madrid-oct-2018/git/blobs{/sha}', 'git_tags_url': 'https://api.github.com/repos/marisfont/madrid-oct-2018/git/tags{/sha}', 'git_refs_url': 'https://api.github.com/repos/marisfont/madrid-oct-2018/git/refs{/sha}', 'trees_url': 'https://api.github.com/repos/marisfont/madrid-oct-2018/git/trees{/sha}', 'statuses_url': 'https://api.github.com/repos/marisfont/madrid-oct-2018/statuses/{sha}', 'languages_url': 'https://api.github.com/repos/marisfont/madrid-oct-2018/languages', 'stargazers_url': 'https://api.github.com/repos/marisfont/madrid-oct-2018/stargazers', 'contributors_url': 'https://api.github.com/repos/marisfont/madrid-oct-2018/contributors', 'subscribers_url': 'https://api.github.com/repos/marisfont/madrid-oct-2018/subscribers', 'subscription_url': 'https://api.github.com/repos/marisfont/madrid-oct-2018/subscription', 'commits_url': 'https://api.github.com/repos/marisfont/madrid-oct-2018/commits{/sha}', 'git_commits_url': 'https://api.github.com/repos/marisfont/madrid-oct-2018/git/commits{/sha}', 'comments_url': 'https://api.github.com/repos/marisfont/madrid-oct-2018/comments{/number}', 'issue_comment_url': 'https://api.github.com/repos/marisfont/madrid-oct-2018/issues/comments{/number}', 'contents_url': 'https://api.github.com/repos/marisfont/madrid-oct-2018/contents/{+path}', 'compare_url': 'https://api.github.com/repos/marisfont/madrid-oct-2018/compare/{base}...{head}', 'merges_url': 'https://api.github.com/repos/marisfont/madrid-oct-2018/merges', 'archive_url': 'https://api.github.com/repos/marisfont/madrid-oct-2018/{archive_format}{/ref}', 'downloads_url': 'https://api.github.com/repos/marisfont/madrid-oct-2018/downloads', 'issues_url': 'https://api.github.com/repos/marisfont/madrid-oct-2018/issues{/number}', 'pulls_url': 'https://api.github.com/repos/marisfont/madrid-oct-2018/pulls{/number}', 'milestones_url': 'https://api.github.com/repos/marisfont/madrid-oct-2018/milestones{/number}', 'notifications_url': 'https://api.github.com/repos/marisfont/madrid-oct-2018/notifications{?since,all,participating}', 'labels_url': 'https://api.github.com/repos/marisfont/madrid-oct-2018/labels{/name}', 'releases_url': 'https://api.github.com/repos/marisfont/madrid-oct-2018/releases{/id}', 'deployments_url': 'https://api.github.com/repos/marisfont/madrid-oct-2018/deployments', 'created_at': '2018-10-19T13:34:11Z', 'updated_at': '2018-12-04T17:31:47Z', 'pushed_at': '2018-12-05T16:03:33Z', 'git_url': 'git://github.com/marisfont/madrid-oct-2018.git', 'ssh_url': 'git@github.com:marisfont/madrid-oct-2018.git', 'clone_url': 'https://github.com/marisfont/madrid-oct-2018.git', 'svn_url': 'https://github.com/marisfont/madrid-oct-2018', 'homepage': None, 'size': 93980, 'stargazers_count': 0, 'watchers_count': 0, 'language': 'Jupyter Notebook', 'has_issues': False, 'has_projects': True, 'has_downloads': True, 'has_wiki': True, 'has_pages': False, 'forks_count': 0, 'mirror_url': None, 'archived': False, 'disabled': False, 'open_issues_count': 0, 'license': {'key': 'unlicense', 'name': 'The Unlicense', 'spdx_id': 'Unlicense', 'url': 'https://api.github.com/licenses/unlicense', 'node_id': 'MDc6TGljZW5zZTE1'}, 'forks': 0, 'open_issues': 0, 'watchers': 0, 'default_branch': 'master', 'permissions': {'admin': False, 'push': False, 'pull': True}}]\n"
     ]
    }
   ],
   "source": [
    "# your code here\n",
    "        # replaced username and token with mine. repo to be used: madrid-oct-2018/forks\n",
    "    \n",
    "\n",
    "pd.set_option('display.max_columns', None) # it shows everything vs ...\n",
    "\n",
    "username = 'gracegm'\n",
    "token = '37b5b8d8176e16ee778a902f5b4c4b5023f69795'\n",
    "gh_session = requests.Session() # you have to create a Session object. to access it with username and token\n",
    "gh_session.auth = (username, token)\n",
    "url = 'https://api.github.com/repos/ironhack-datalabs/madrid-oct-2018/forks' # repo of forks\n",
    "\n",
    "forks = json.loads(gh_session.get(url).text) # for text info to be converted to a json\n",
    "print(forks)"
   ]
  },
  {
   "cell_type": "code",
   "execution_count": 30,
   "metadata": {},
   "outputs": [],
   "source": [
    "import pandas as pd\n",
    "\n",
    "url = 'https://api.github.com/repos/ironhack-datalabs/madrid-oct-2018/forks'\n",
    "forks = json.loads(gh_session.get(url).text)"
   ]
  },
  {
   "cell_type": "code",
   "execution_count": null,
   "metadata": {},
   "outputs": [],
   "source": []
  },
  {
   "cell_type": "markdown",
   "metadata": {},
   "source": [
    "#### 2. Loop the JSON response to find out the language attribute of each fork. Use an array to store the language attributes of each fork.\n",
    "Hint: Each language should appear only once in your array.\n",
    "Print the language array. It should be something like: [\"Python\", \"Jupyter Notebook\", \"HTML\"]"
   ]
  },
  {
   "cell_type": "code",
   "execution_count": 20,
   "metadata": {},
   "outputs": [],
   "source": [
    "# your code here\n",
    "\n",
    "langs = []\n",
    "for fork in forks:\n",
    "   langs.append(fork['language'])\n"
   ]
  },
  {
   "cell_type": "code",
   "execution_count": 21,
   "metadata": {},
   "outputs": [
    {
     "name": "stdout",
     "output_type": "stream",
     "text": [
      "[None, 'Jupyter Notebook', 'Jupyter Notebook', 'Jupyter Notebook', 'Jupyter Notebook', 'Jupyter Notebook', 'HTML', 'Jupyter Notebook', 'Jupyter Notebook', 'Python', 'Jupyter Notebook', 'Jupyter Notebook', 'Jupyter Notebook', 'Jupyter Notebook', 'Jupyter Notebook', 'Jupyter Notebook']\n",
      "{'Python', 'HTML', None, 'Jupyter Notebook'}\n"
     ]
    }
   ],
   "source": [
    "# 3.Print the language array. It should be something like:\n",
    "\n",
    "print(langs)\n",
    "print(set(langs))\n",
    "\n"
   ]
  },
  {
   "cell_type": "code",
   "execution_count": 27,
   "metadata": {},
   "outputs": [
    {
     "ename": "SyntaxError",
     "evalue": "invalid syntax (<ipython-input-27-3c21c7dddd9d>, line 2)",
     "output_type": "error",
     "traceback": [
      "\u001b[0;36m  File \u001b[0;32m\"<ipython-input-27-3c21c7dddd9d>\"\u001b[0;36m, line \u001b[0;32m2\u001b[0m\n\u001b[0;31m    langs = [fork['language'](for fork in forks)] # ??? list comporehension\u001b[0m\n\u001b[0m                                ^\u001b[0m\n\u001b[0;31mSyntaxError\u001b[0m\u001b[0;31m:\u001b[0m invalid syntax\n"
     ]
    }
   ],
   "source": [
    "# ????? \n",
    "langs = [fork['language'](for fork in forks)] # ??? list comporehension"
   ]
  },
  {
   "cell_type": "code",
   "execution_count": null,
   "metadata": {},
   "outputs": [],
   "source": []
  },
  {
   "cell_type": "markdown",
   "metadata": {},
   "source": [
    "## Challenge 2: Count Commits\n",
    "Count how many commits were made in the month of october of 2018.\n",
    "#### 1. Obtain all the commits made in October 2018 via API, which is a JSON array that contains multiple commit objects."
   ]
  },
  {
   "cell_type": "code",
   "execution_count": 60,
   "metadata": {},
   "outputs": [
    {
     "name": "stdout",
     "output_type": "stream",
     "text": [
      "79\n"
     ]
    }
   ],
   "source": [
    "# month\n",
    "d1 = '2018-10-01' # since\n",
    "d2 = '2018-11-01' # since\n",
    "\n",
    "total_commits1 = 0\n",
    "total_commits2 = 0\n",
    "for fork in forks: # list of dicts of every user that has repo-ed\n",
    "    commit_url1 = (fork['commits_url'].replace(\"{/sha}\", \"\") + '?since=' + d1) # '?until=' is also a query operator\n",
    "    commit_url2 = (fork['commits_url'].replace(\"{/sha}\", \"\") + '?since=' + d2) # \n",
    "    commits1 = json.loads(gh_session.get(commit_url1).text)\n",
    "    commits2 = json.loads(gh_session.get(commit_url2).text)\n",
    "    for commit in commits1:\n",
    "        total_commits1 += 1 # its checking one by one if commits in repo since after d date and summing\n",
    "    for commit in commits2:\n",
    "        total_commits2 += 1 \n",
    "print(total_commits1 - total_commits2)\n",
    "\n"
   ]
  },
  {
   "cell_type": "code",
   "execution_count": null,
   "metadata": {},
   "outputs": [],
   "source": []
  },
  {
   "cell_type": "code",
   "execution_count": null,
   "metadata": {},
   "outputs": [],
   "source": [
    "2. Count how many commit objects are contained in the array."
   ]
  },
  {
   "cell_type": "code",
   "execution_count": null,
   "metadata": {},
   "outputs": [],
   "source": [
    "# SAME AS ABOVE"
   ]
  },
  {
   "cell_type": "code",
   "execution_count": null,
   "metadata": {},
   "outputs": [],
   "source": []
  },
  {
   "cell_type": "markdown",
   "metadata": {},
   "source": [
    "## Challenge 3: Hidden Cold Joke\n",
    "\n",
    "Using Python, call Github API to find out the cold joke contained in the 24 secret files in the following repo:\n",
    "\n",
    "https://github.com/ironhack-datalabs/scavenger\n",
    "\n",
    "The filenames of the secret files contain .scavengerhunt and they are scattered in different directories of this repo. The secret files are named from .0001.scavengerhunt to .0024.scavengerhunt. They are scattered randomly throughout this repo. You need to search for these files by calling the Github API, not searching the local files on your computer.\n",
    "\n",
    "#### 1. Find the secret files."
   ]
  },
  {
   "cell_type": "code",
   "execution_count": 66,
   "metadata": {},
   "outputs": [
    {
     "name": "stdout",
     "output_type": "stream",
     "text": [
      "0                     .gitignore\n",
      "1                          15024\n",
      "2      15024/.0006.scavengerhunt\n",
      "3                       15024/40\n",
      "4                       15024/74\n",
      "                 ...            \n",
      "104                     97881/71\n",
      "105                        98750\n",
      "106    98750/.0001.scavengerhunt\n",
      "107                     98750/20\n",
      "108                     98750/62\n",
      "Name: path, Length: 109, dtype: object\n",
      "['15024/.0006.scavengerhunt', '15534/.0008.scavengerhunt', '15534/.0012.scavengerhunt', '17020/.0007.scavengerhunt', '30351/.0021.scavengerhunt', '40303/.0022.scavengerhunt', '44639/.0005.scavengerhunt', '45525/.0018.scavengerhunt', '47222/.0016.scavengerhunt', '47222/.0024.scavengerhunt', '47830/.0010.scavengerhunt', '49418/.0014.scavengerhunt', '50896/.0011.scavengerhunt', '55417/.0023.scavengerhunt', '55685/.0020.scavengerhunt', '60224/.0003.scavengerhunt', '68848/.0004.scavengerhunt', '70751/.0019.scavengerhunt', '70985/.0017.scavengerhunt', '88596/.0002.scavengerhunt', '89338/.0013.scavengerhunt', '91701/.0015.scavengerhunt', '97881/.0009.scavengerhunt', '98750/.0001.scavengerhunt']\n"
     ]
    }
   ],
   "source": [
    "# your code here\n",
    "\n",
    "repo_url = 'https://api.github.com/repos/ironhack-datalabs/scavenger'\n",
    "tree_sha = '9308ccc8a4c34c5e3a991ee815222a9691c32476' # a key for every commit\n",
    "condition = '?recursive=1'\n",
    "url = repo_url + '/git/trees/' + tree_sha + condition\n",
    "trees = json.loads(gh_session.get(url).text)\n",
    "data = pd.DataFrame(trees)\n",
    "\n",
    "from pandas.io.json import json_normalize # listed ALL files\n",
    "flattened_data_tree = json_normalize(data['tree']) # flatten the dictionaries\n",
    "print(flattened_data_tree['path'])\n",
    "scavenger_files = [] # puting all files that end into a list\n",
    "for file in flattened_data_tree['path']:\n",
    "    if '.scavengerhunt' in file:\n",
    "        scavenger_files.append(file)\n",
    "print(scavenger_files) # right now the files arent in order"
   ]
  },
  {
   "cell_type": "code",
   "execution_count": null,
   "metadata": {},
   "outputs": [],
   "source": []
  },
  {
   "cell_type": "markdown",
   "metadata": {},
   "source": [
    "#### 2.  Sort the filenames ascendingly."
   ]
  },
  {
   "cell_type": "code",
   "execution_count": 36,
   "metadata": {},
   "outputs": [
    {
     "name": "stdout",
     "output_type": "stream",
     "text": [
      "                     FilePath OrderNumbers\n",
      "23  98750/.0001.scavengerhunt        .0001\n",
      "19  88596/.0002.scavengerhunt        .0002\n",
      "15  60224/.0003.scavengerhunt        .0003\n",
      "16  68848/.0004.scavengerhunt        .0004\n",
      "6   44639/.0005.scavengerhunt        .0005\n"
     ]
    }
   ],
   "source": [
    "# your code here\n",
    "\n",
    "#  Note that these files are not arranged in an order. First we need to arrange the files\n",
    "#  from .0001 to later files and then extract the information in the files\n",
    "\n",
    "import re\n",
    "order = []\n",
    "pattern = '\\.\\d+' # starts with a . and has 1 or more after (+)\n",
    "for file in scavenger_files:\n",
    "   order.append(re.findall(pattern, file)[0])\n",
    "files_df = pd.DataFrame(scavenger_files, columns=['FilePath'])\n",
    "files_df['OrderNumbers'] = order\n",
    "files_df = files_df.sort_values('OrderNumbers', ascending=True) # sort them nased on numbers\n",
    "print(files_df.head())\n"
   ]
  },
  {
   "cell_type": "code",
   "execution_count": null,
   "metadata": {},
   "outputs": [],
   "source": []
  },
  {
   "cell_type": "markdown",
   "metadata": {},
   "source": [
    "#### 3. Read the content of each secret files into an array of strings.\n",
    "Since the response is encoded, you will need to send the following information in the header of your request:\n",
    "````python\n",
    "headers = {'Accept': 'application/vnd.github.v3.raw'}\n",
    "````"
   ]
  },
  {
   "cell_type": "code",
   "execution_count": 38,
   "metadata": {},
   "outputs": [
    {
     "name": "stdout",
     "output_type": "stream",
     "text": [
      "['In', 'data', 'science,', '80', 'percent', 'of', 'time', 'spent', 'is', 'preparing', 'data,', '20', 'percent', 'of', 'time', 'is', 'spent', 'complaining', 'about', 'the', 'need', 'to', 'prepare', 'data.']\n"
     ]
    }
   ],
   "source": [
    "# your code here\n",
    "\n",
    "import base64 # to decode\n",
    "content = []\n",
    "for file in files_df['FilePath']:\n",
    "   url = repo_url+'/contents/'+file\n",
    "   message = json.loads(gh_session.get(url).text)\n",
    "   message = base64.b64decode(message['content']).decode(\"utf-8\").rstrip()\n",
    "   content.append(message)\n",
    "print(content)\n"
   ]
  },
  {
   "cell_type": "code",
   "execution_count": null,
   "metadata": {},
   "outputs": [],
   "source": []
  },
  {
   "cell_type": "markdown",
   "metadata": {},
   "source": [
    "#### 4. Concatenate the strings in the array separating each two with a whitespace."
   ]
  },
  {
   "cell_type": "code",
   "execution_count": 40,
   "metadata": {},
   "outputs": [
    {
     "name": "stdout",
     "output_type": "stream",
     "text": [
      "In data science, 80 percent of time spent is preparing data, 20 percent of time is spent complaining about the need to prepare data.\n"
     ]
    }
   ],
   "source": [
    "# your code here\n",
    "\n",
    "print(\" \".join(content))\n"
   ]
  },
  {
   "cell_type": "code",
   "execution_count": null,
   "metadata": {},
   "outputs": [],
   "source": []
  },
  {
   "cell_type": "markdown",
   "metadata": {},
   "source": [
    "#### 5. Print out the joke."
   ]
  },
  {
   "cell_type": "code",
   "execution_count": 17,
   "metadata": {},
   "outputs": [
    {
     "name": "stdout",
     "output_type": "stream",
     "text": [
      "In data science, 80 percent of time spent is preparing data, 20 percent of time is spent complaining about the need to prepare data.\n"
     ]
    }
   ],
   "source": [
    "# your code here\n",
    "\n",
    "print(\" \".join(content))\n",
    "\n",
    "# The joke is it's a scavenger hunt for a message through the files ending in .scavengerhunt\n",
    "# -.- lol"
   ]
  },
  {
   "cell_type": "code",
   "execution_count": null,
   "metadata": {},
   "outputs": [],
   "source": []
  },
  {
   "cell_type": "code",
   "execution_count": null,
   "metadata": {},
   "outputs": [],
   "source": [
    "# Himanshu's shared code\n",
    "\n",
    "import requests\n",
    "import json\n",
    "import pandas as pd\n",
    "\n",
    "pd.set_option('display.max_columns', None) # it shows everything vs ...\n",
    "\n",
    "username = 'gracegm'\n",
    "token = '37b5b8d8176e16ee778a902f5b4c4b5023f69795'\n",
    "gh_session = requests.Session() # you have to create a Session object. to access it with username and token\n",
    "gh_session.auth = (username, token)\n",
    "url = 'https://api.github.com/repos/ironhack-datalabs/madrid-oct-2018/forks' # repo of forks\n",
    "\n",
    "forks = json.loads(gh_session.get(url).text) # for text info to be converted to a json\n",
    "print(forks)\n",
    "\n",
    "# Challenge 1: Fork Languages\n",
    "\n",
    "import pandas as pd\n",
    "\n",
    "# 1. Obtain the full list of forks created from the main lab repo via Github API.\n",
    "\n",
    "url = 'https://api.github.com/repos/ironhack-datalabs/madrid-oct-2018/forks'\n",
    "forks = json.loads(gh_session.get(url).text)\n",
    "\n",
    "# 2. Loop the JSON response to find out the language attribute of each fork.\n",
    "# Use an array to store the language attributes of each fork.\n",
    "\n",
    "langs = []\n",
    "for fork in forks:\n",
    "   langs.append(fork['language'])\n",
    "\n",
    "# 3.Print the language array. It should be something like:\n",
    "\n",
    "print(langs)\n",
    "print(set(langs))\n",
    "\n",
    "# Challenge 2: Count Commits\n",
    "# 1. Obtain all the commits made in the past week via API,\n",
    "# which is a JSON array that contains multiple commit objects.\n",
    "# 2. Count how many commit objects are contained in the array.\n",
    "# Get commits made this year, since no commits have been made in the last week\n",
    "\n",
    "d = '2019-01-01'\n",
    "total_commits = 0\n",
    "for fork in forks: # list of dicts of every user that has repoed\n",
    "   commit_url = (fork['commits_url'].replace(\"{/sha}\", \"\") + '?since=' + d) # '?since' is a query operator\n",
    "   commits = json.loads(gh_session.get(commit_url).text)\n",
    "   for commit in commits:\n",
    "       total_commits += 1 # its checking one by one if commits in repo since after d date and summing\n",
    "print(total_commits)\n",
    "\n",
    "repo_url = 'https://api.github.com/repos/ironhack-datalabs/scavenger'\n",
    "tree_sha = '9308ccc8a4c34c5e3a991ee815222a9691c32476' # a key for every commit\n",
    "condition = '?recursive=1'\n",
    "url = repo_url + '/git/trees/' + tree_sha + condition\n",
    "trees = json.loads(gh_session.get(url).text)\n",
    "data = pd.DataFrame(trees)\n",
    "\n",
    "from pandas.io.json import json_normalize # flatten the dictionaries\n",
    "flattened_data_tree = json_normalize(data['tree']) # listed ALL files \n",
    "print(flattened_data_tree['path'])\n",
    "scavenger_files = [] # puting all files that end into a list\n",
    "for file in flattened_data_tree['path']:\n",
    "   if '.scavengerhunt' in file:\n",
    "       scavenger_files.append(file)\n",
    "print(scavenger_files) # right now the files arent in order\n",
    "\n",
    "#  Note that these files are not arranged in an order. First we need to arrange the files\n",
    "#  from .0001 to later files and then extract the information in the files\n",
    "\n",
    "import re\n",
    "order = []\n",
    "pattern = '\\.\\d+' # starts with a . and has 1 or more after (+)\n",
    "for file in scavenger_files:\n",
    "   order.append(re.findall(pattern, file)[0])\n",
    "files_df = pd.DataFrame(scavenger_files, columns=['FilePath'])\n",
    "files_df['OrderNumbers'] = order\n",
    "files_df = files_df.sort_values('OrderNumbers', ascending=True) # sort them nased on numbers\n",
    "print(files_df.head())\n",
    "\n",
    "\n",
    "import base64 # to decode\n",
    "content = []\n",
    "for file in files_df['FilePath']:\n",
    "   url = repo_url+'/contents/'+file\n",
    "   message = json.loads(gh_session.get(url).text)\n",
    "   message = base64.b64decode(message['content']).decode(\"utf-8\").rstrip()\n",
    "   content.append(message)\n",
    "print(content)\n",
    "print(\" \".join(content))\n",
    "\n",
    "# To me the joke is it's a scavenger hunt for a message through the files ending in .scavengerhunt"
   ]
  }
 ],
 "metadata": {
  "kernelspec": {
   "display_name": "Python 3",
   "language": "python",
   "name": "python3"
  },
  "language_info": {
   "codemirror_mode": {
    "name": "ipython",
    "version": 3
   },
   "file_extension": ".py",
   "mimetype": "text/x-python",
   "name": "python",
   "nbconvert_exporter": "python",
   "pygments_lexer": "ipython3",
   "version": "3.7.4"
  }
 },
 "nbformat": 4,
 "nbformat_minor": 2
}
