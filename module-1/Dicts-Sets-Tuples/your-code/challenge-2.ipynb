{
 "cells": [
  {
   "cell_type": "markdown",
   "metadata": {},
   "source": [
    "## Challenge 2: Sets\n",
    "\n",
    "There are a lot to learn about Python Sets and the information presented in the lesson is limited due to its length. To learn Python Sets in depth you are strongly encouraged to review the W3Schools tutorial on [Python Sets Examples and Methods](https://www.w3schools.com/python/python_sets.asp) before you work on this lab. Some difficult questions in this lab have their solutions in the W3Schools tutorial.\n",
    "\n",
    "#### First, import the Python `random` library."
   ]
  },
  {
   "cell_type": "code",
   "execution_count": null,
   "metadata": {},
   "outputs": [],
   "source": [
    "import random"
   ]
  },
  {
   "cell_type": "markdown",
   "metadata": {},
   "source": [
    "#### In the cell below, create a list named `sample_list_1` with 80 random values. \n",
    "\n",
    "Requirements:\n",
    "\n",
    "* Each value is an integer falling between 0 and 100.\n",
    "* Each value in the list is unique.\n",
    "\n",
    "Print `sample_list_1` to review its values\n",
    "\n",
    "*Hint: use `random.sample` ([reference](https://docs.python.org/3/library/random.html#random.sample)).*"
   ]
  },
  {
   "cell_type": "code",
   "execution_count": 20,
   "metadata": {},
   "outputs": [
    {
     "name": "stdout",
     "output_type": "stream",
     "text": [
      "[70, 62, 20, 79, 80, 7, 76, 72, 6, 91, 42, 51, 24, 43, 45, 8, 88, 59, 1, 69, 66, 81, 13, 23, 52, 92, 37, 87, 5, 40, 99, 26, 83, 73, 3, 16, 82, 48, 65, 28, 67, 30, 12, 41, 47, 17, 21, 96, 27, 93, 19, 68, 84, 61, 4, 25, 29, 44, 22, 94, 34, 50, 9, 55, 54, 75, 57, 14, 32, 64, 15, 49, 77, 18, 90, 97, 89, 33, 10, 63]\n"
     ]
    },
    {
     "data": {
      "text/plain": [
       "80"
      ]
     },
     "execution_count": 20,
     "metadata": {},
     "output_type": "execute_result"
    }
   ],
   "source": [
    "# Your code here\n",
    "\n",
    "import random\n",
    "\n",
    "sample_list_1 = random.sample(range(1, 100), 80)\n",
    "\n",
    "print(sample_list_1)\n",
    "\n",
    "len(sample_list_1)\n"
   ]
  },
  {
   "cell_type": "code",
   "execution_count": null,
   "metadata": {},
   "outputs": [],
   "source": []
  },
  {
   "cell_type": "markdown",
   "metadata": {},
   "source": [
    "#### Convert `sample_list_1` to a set called `set1`. Print the length of the set. Is its length still 80?"
   ]
  },
  {
   "cell_type": "code",
   "execution_count": 19,
   "metadata": {},
   "outputs": [
    {
     "name": "stdout",
     "output_type": "stream",
     "text": [
      "{1, 2, 3, 4, 5, 6, 8, 9, 10, 12, 13, 14, 15, 16, 17, 18, 19, 20, 23, 25, 26, 27, 28, 29, 30, 31, 32, 35, 36, 37, 40, 41, 43, 44, 46, 47, 48, 49, 53, 54, 55, 56, 57, 58, 59, 60, 61, 62, 63, 64, 65, 66, 68, 69, 70, 71, 72, 74, 75, 76, 77, 78, 79, 81, 82, 83, 84, 85, 86, 88, 89, 90, 91, 92, 93, 95, 96, 97, 98, 99}\n"
     ]
    },
    {
     "data": {
      "text/plain": [
       "80"
      ]
     },
     "execution_count": 19,
     "metadata": {},
     "output_type": "execute_result"
    }
   ],
   "source": [
    "# Your code here\n",
    "\n",
    "set1 = set(sample_list_1)\n",
    "\n",
    "print(set1)\n",
    "\n",
    "len(set1)\n"
   ]
  },
  {
   "cell_type": "markdown",
   "metadata": {},
   "source": [
    "#### Create another list named `sample_list_2` with 80 random values.\n",
    "\n",
    "Requirements:\n",
    "\n",
    "* Each value is an integer falling between 0 and 100.\n",
    "* The values in the list don't have to be unique.\n",
    "\n",
    "*Hint: Use a FOR loop.*"
   ]
  },
  {
   "cell_type": "code",
   "execution_count": 21,
   "metadata": {},
   "outputs": [
    {
     "name": "stdout",
     "output_type": "stream",
     "text": [
      "[60, 75, 30, 14, 54, 72, 90, 2, 34, 7, 63, 4, 56, 83, 80, 39, 69, 57, 12, 77, 12, 79, 32, 70, 87, 28, 68, 41, 43, 76, 40, 50, 96, 12, 82, 30, 55, 51, 42, 46, 59, 86, 78, 37, 68, 2, 37, 48, 88, 99, 81, 33, 9, 13, 43, 89, 86, 86, 48, 37, 34, 12, 72, 85, 10, 4, 15, 63, 83, 13, 3, 2, 44, 41, 93, 52, 75, 36, 51, 1]\n"
     ]
    },
    {
     "data": {
      "text/plain": [
       "80"
      ]
     },
     "execution_count": 21,
     "metadata": {},
     "output_type": "execute_result"
    }
   ],
   "source": [
    "# Your code here\n",
    "\n",
    "\n",
    "\n",
    "sample_list_2  = [] \n",
    "for i in range(80):\n",
    "    sample_list_2.append(random.sample(range(1, 100), 1)[0])\n",
    "print(sample_list_2)\n",
    "\n",
    "#why aren't there 80 values??\n",
    "\n",
    "len(sample_list_2)\n",
    "    \n",
    "    \n",
    "\n",
    "\n",
    "\n"
   ]
  },
  {
   "cell_type": "code",
   "execution_count": 31,
   "metadata": {},
   "outputs": [
    {
     "data": {
      "text/plain": [
       "25"
      ]
     },
     "execution_count": 31,
     "metadata": {},
     "output_type": "execute_result"
    }
   ],
   "source": [
    "random.sample(range(1, 100), 1)[0]"
   ]
  },
  {
   "cell_type": "markdown",
   "metadata": {},
   "source": [
    "#### Convert `sample_list_2` to a set called `set2`. Print the length of the set. Is its length still 80?"
   ]
  },
  {
   "cell_type": "code",
   "execution_count": 64,
   "metadata": {},
   "outputs": [
    {
     "name": "stdout",
     "output_type": "stream",
     "text": [
      "[60, 80, 63, 91, 47, 71, 39, 94, 25, 73, 40, 73, 48, 96, 88, 94, 56, 23, 33, 24, 20, 3, 11, 31, 82, 72, 92, 96, 63, 12, 37, 2, 24, 68, 94, 1, 94, 34, 8, 45, 57, 39, 72, 48, 7, 44, 24, 80, 97, 17, 44, 8, 61, 84, 85, 23, 21, 13, 35, 41, 20, 25, 63, 19, 39, 92, 63, 41, 96, 31, 32, 5, 31, 64, 75, 94, 49, 61, 97, 30]\n",
      "{1, 2, 3, 5, 7, 8, 11, 12, 13, 17, 19, 20, 21, 23, 24, 25, 30, 31, 32, 33, 34, 35, 37, 39, 40, 41, 44, 45, 47, 48, 49, 56, 57, 60, 61, 63, 64, 68, 71, 72, 73, 75, 80, 82, 84, 85, 88, 91, 92, 94, 96, 97}\n"
     ]
    },
    {
     "data": {
      "text/plain": [
       "52"
      ]
     },
     "execution_count": 64,
     "metadata": {},
     "output_type": "execute_result"
    }
   ],
   "source": [
    "# Your code here\n",
    "\n",
    "import random\n",
    "\n",
    "sample_list_2  = [] \n",
    "for i in range(80):\n",
    "    sample_list_2.append(random.sample(range(1, 100), 1)[0])\n",
    "print(sample_list_2)\n",
    "\n",
    "set2 = set(sample_list_2)\n",
    "\n",
    "print(set2)\n",
    "\n",
    "len(set2)\n"
   ]
  },
  {
   "cell_type": "markdown",
   "metadata": {},
   "source": [
    "#### Identify the elements present in `set1` but not in `set2`. Assign the elements to a new set named `set3`."
   ]
  },
  {
   "cell_type": "code",
   "execution_count": 63,
   "metadata": {},
   "outputs": [
    {
     "name": "stdout",
     "output_type": "stream",
     "text": [
      "[7, 19, 13, 95, 93, 15, 98, 86, 66, 26, 82, 99, 31, 75, 80, 57, 76, 81, 48, 92, 22, 55, 53, 5, 3, 29, 63, 54, 47, 60, 78, 16, 72, 90, 65, 67, 51, 28, 85, 34, 30, 17, 94, 68, 84, 77, 96, 62, 69, 49, 44, 46, 61, 24, 38, 35, 74, 20, 27, 97, 70, 91, 83, 64, 79, 12, 6, 10, 56, 58, 36, 9, 59, 50, 21, 18, 33, 25, 4, 43]\n",
      "[75, 1, 95, 63, 2, 28, 55, 65, 25, 96, 70, 52, 72, 31, 14, 18, 10, 65, 23, 14, 8, 1, 29, 47, 40, 75, 85, 65, 49, 87, 11, 75, 47, 85, 72, 51, 47, 77, 32, 48, 8, 70, 64, 98, 56, 9, 3, 12, 11, 65, 61, 25, 81, 22, 73, 14, 45, 29, 65, 21, 79, 92, 50, 59, 19, 5, 77, 31, 62, 99, 78, 88, 14, 31, 97, 88, 51, 52, 29, 10]\n",
      "{4, 6, 7, 13, 15, 16, 17, 20, 24, 26, 27, 30, 33, 34, 35, 36, 38, 43, 44, 46, 53, 54, 57, 58, 60, 66, 67, 68, 69, 74, 76, 80, 82, 83, 84, 86, 90, 91, 93, 94}\n"
     ]
    },
    {
     "data": {
      "text/plain": [
       "40"
      ]
     },
     "execution_count": 63,
     "metadata": {},
     "output_type": "execute_result"
    }
   ],
   "source": [
    "# Your code here\n",
    "\n",
    "import random\n",
    "\n",
    "sample_list_1 = random.sample(range(1, 100), 80)\n",
    "\n",
    "print(sample_list_1)\n",
    "\n",
    "len(sample_list_1)\n",
    "\n",
    "set1 = set(sample_list_1)\n",
    "\n",
    "#print(set1)\n",
    "\n",
    "sample_list_2  = [] \n",
    "for i in range(80):\n",
    "    sample_list_2.append(random.sample(range(1, 100), 1)[0])\n",
    "print(sample_list_2)\n",
    "\n",
    "set2 = set(sample_list_2)\n",
    "\n",
    "#print(set2)\n",
    "\n",
    "len(set2)\n",
    "\n",
    "set3 = set1 - set2\n",
    "\n",
    "print(set3)\n",
    "\n",
    "len(set3)"
   ]
  },
  {
   "cell_type": "code",
   "execution_count": 62,
   "metadata": {},
   "outputs": [],
   "source": [
    "#### Identify the elements present in `set2` but not in `set1`. Assign the elements to a new set named `set4`."
   ]
  },
  {
   "cell_type": "code",
   "execution_count": 17,
   "metadata": {},
   "outputs": [
    {
     "name": "stdout",
     "output_type": "stream",
     "text": [
      "{37, 39, 59, 74, 45, 92, 17, 82, 53, 27, 60}\n"
     ]
    },
    {
     "data": {
      "text/plain": [
       "11"
      ]
     },
     "execution_count": 17,
     "metadata": {},
     "output_type": "execute_result"
    }
   ],
   "source": [
    "# Your code here\n",
    "\n",
    "set4 = set2 - set1\n",
    "\n",
    "print(set4)\n",
    "\n",
    "len(set4)\n",
    "\n",
    "\n",
    "\n"
   ]
  },
  {
   "cell_type": "markdown",
   "metadata": {},
   "source": [
    "#### Now Identify the elements shared between `set1` and `set2`. Assign the elements to a new set named `set5`."
   ]
  },
  {
   "cell_type": "code",
   "execution_count": 68,
   "metadata": {},
   "outputs": [
    {
     "name": "stdout",
     "output_type": "stream",
     "text": [
      "{3, 5, 7, 12, 13, 17, 19, 20, 21, 24, 25, 30, 31, 33, 34, 35, 44, 47, 48, 49, 56, 57, 60, 61, 63, 64, 68, 72, 75, 80, 82, 84, 85, 91, 92, 94, 96, 97}\n"
     ]
    }
   ],
   "source": [
    "# Your code here\n",
    "\n",
    "#set5 = set1.intersection(set2)\n",
    "\n",
    "#or\n",
    "\n",
    "set5 = set1 & set2 \n",
    "\n",
    "print(set5)\n",
    "\n",
    "\n"
   ]
  },
  {
   "cell_type": "markdown",
   "metadata": {},
   "source": [
    "#### What is the relationship among the following values:\n",
    "\n",
    "* len(set1)\n",
    "* len(set2)\n",
    "* len(set3)\n",
    "* len(set4)\n",
    "* len(set5)\n",
    "\n",
    "Use a math formular to represent that relationship. Test your formular with Python code."
   ]
  },
  {
   "cell_type": "code",
   "execution_count": 20,
   "metadata": {},
   "outputs": [
    {
     "data": {
      "text/plain": [
       "11"
      ]
     },
     "execution_count": 20,
     "metadata": {},
     "output_type": "execute_result"
    }
   ],
   "source": [
    "# Your code here\n",
    "\n",
    "80,52,35,11,45\n",
    "\n",
    "len(set1) is always 80 (set1 outside of set2)\n",
    "\n",
    "len(set2)  is always less than 80 (values are in set 1)\n",
    "\n",
    "len(set3) is in set 1 only (and not set2)\n",
    "\n",
    "set3 = set1 - set2\n",
    "\n",
    "len(set4) is in set 2 only (but not set1)\n",
    "\n",
    "set5 is in both set1 and set2\n",
    "\n",
    "\n",
    "\n",
    "\n",
    "\n",
    "\n",
    "\n",
    "\n",
    "\n",
    "\n",
    "\n",
    "\n"
   ]
  },
  {
   "cell_type": "markdown",
   "metadata": {},
   "source": [
    "#### Create an empty set called `set6`."
   ]
  },
  {
   "cell_type": "code",
   "execution_count": null,
   "metadata": {},
   "outputs": [],
   "source": [
    "# Your code here\n",
    "\n",
    "set6 = set()\n"
   ]
  },
  {
   "cell_type": "markdown",
   "metadata": {},
   "source": [
    "#### Add `set3` and `set5` to `set6` using the Python Set `update` method."
   ]
  },
  {
   "cell_type": "code",
   "execution_count": 4,
   "metadata": {},
   "outputs": [
    {
     "name": "stdout",
     "output_type": "stream",
     "text": [
      "[67, 98, 25, 19, 95, 14, 83, 84, 97, 9, 69, 82, 98, 70, 21, 47, 4, 45, 83, 30, 53, 43, 21, 36, 25, 72, 45, 99, 12, 23, 13, 95, 68, 66, 20, 65, 41, 24, 25, 69, 18, 73, 60, 59, 28, 32, 45, 30, 17, 4, 92, 39, 76, 98, 79, 87, 59, 10, 31, 16, 76, 66, 43, 75, 9, 88, 32, 71, 96, 30, 7, 32, 44, 88, 75, 56, 41, 16, 4, 54]\n"
     ]
    }
   ],
   "source": [
    "# Your code here\n",
    "\n",
    "import random\n",
    "\n",
    "sample_list_1 = random.sample(range(1, 100), 80)\n",
    "\n",
    "#print(sample_list_1)\n",
    "\n",
    "set1 = set(sample_list_1)\n",
    "\n",
    "#print(set1)\n",
    "\n",
    "sample_list_2  = [] \n",
    "for i in range(80):\n",
    "    sample_list_2.append(random.sample(range(1, 100), 1)[0])\n",
    "print(sample_list_2)\n",
    "\n",
    "set2 = set(sample_list_2)\n",
    "\n",
    "#print(set2)\n",
    "\n",
    "#len(set2)\n",
    "\n",
    "set3 = set1 - set2\n",
    "\n",
    "#print(set3)\n",
    "\n",
    "len(set3)\n",
    "\n",
    "set6 = set()\n",
    "\n",
    "set3 = set1 - set2\n",
    "\n",
    "set5 = set1 & set2 \n",
    "\n",
    "#print(set5)\n",
    "\n",
    "set6.update(set3, set5)\n",
    "\n"
   ]
  },
  {
   "cell_type": "markdown",
   "metadata": {},
   "source": [
    "#### Check if `set1` and `set6` are equal."
   ]
  },
  {
   "cell_type": "code",
   "execution_count": 8,
   "metadata": {},
   "outputs": [
    {
     "name": "stdout",
     "output_type": "stream",
     "text": [
      "TRUE\n"
     ]
    }
   ],
   "source": [
    "# Your code here\n",
    "\n",
    "if set1 == set6:\n",
    "    print(\"TRUE\")\n"
   ]
  },
  {
   "cell_type": "markdown",
   "metadata": {},
   "source": [
    "#### Check if `set1` contains `set2` using the Python Set `issubset` method. Then check if `set1` contains `set3`.*"
   ]
  },
  {
   "cell_type": "code",
   "execution_count": null,
   "metadata": {},
   "outputs": [],
   "source": [
    "# Your code here\n"
   ]
  },
  {
   "cell_type": "markdown",
   "metadata": {},
   "source": [
    "#### Using the Python Set `union` method, aggregate `set3`, `set4`, and `set5`. Then aggregate `set1` and `set2`. \n",
    "\n",
    "#### Check if the aggregated values are equal."
   ]
  },
  {
   "cell_type": "code",
   "execution_count": null,
   "metadata": {},
   "outputs": [],
   "source": [
    "# Your code here\n"
   ]
  },
  {
   "cell_type": "markdown",
   "metadata": {},
   "source": [
    "#### Using the `pop` method, remove the first element from `set1`."
   ]
  },
  {
   "cell_type": "code",
   "execution_count": null,
   "metadata": {},
   "outputs": [],
   "source": [
    "# Your code here\n"
   ]
  },
  {
   "cell_type": "markdown",
   "metadata": {},
   "source": [
    "#### Remove every element in the following list from `set1` if they are present in the set. Print the remaining elements.\n",
    "\n",
    "```\n",
    "list_to_remove = [1, 9, 11, 19, 21, 29, 31, 39, 41, 49, 51, 59, 61, 69, 71, 79, 81, 89, 91, 99]\n",
    "```"
   ]
  },
  {
   "cell_type": "code",
   "execution_count": null,
   "metadata": {},
   "outputs": [],
   "source": [
    "# Your code here\n"
   ]
  }
 ],
 "metadata": {
  "kernelspec": {
   "display_name": "Python 3",
   "language": "python",
   "name": "python3"
  },
  "language_info": {
   "codemirror_mode": {
    "name": "ipython",
    "version": 3
   },
   "file_extension": ".py",
   "mimetype": "text/x-python",
   "name": "python",
   "nbconvert_exporter": "python",
   "pygments_lexer": "ipython3",
   "version": "3.7.4"
  }
 },
 "nbformat": 4,
 "nbformat_minor": 2
}
