{
 "cells": [
  {
   "cell_type": "code",
   "execution_count": 2,
   "metadata": {},
   "outputs": [
    {
     "name": "stdout",
     "output_type": "stream",
     "text": [
      "Welcome to this calculator!\n",
      "It can add and subtract whole numbers from zero to five\n",
      "Please choose your first number (zero to five): one\n",
      "What do you want to do? plus or minus: minus\n",
      "Please choose your second number (zero to five): five\n",
      "one minus five equals\n",
      "minus four\n",
      "Thanks for using this calculator, goodbye :)\n"
     ]
    }
   ],
   "source": [
    "\"\"\"\n",
    "This is a dumb calculator that can add and subtract whole numbers from zero to five.\n",
    "When you run the code, you are prompted to enter two numbers (in the form of English\n",
    "word instead of number) and the operator sign (also in the form of English word).\n",
    "The code will perform the calculation and give the result if your input is what it\n",
    "expects.\n",
    "\n",
    "The code is very long and messy. Refactor it according to what you have learned about\n",
    "code simplicity and efficiency.\n",
    "\"\"\"\n",
    "print('Welcome to this calculator!\\nIt can add and subtract whole numbers from zero to five')\n",
    "\n",
    "numbers = {\n",
    "    'zero': 0,\n",
    "    'one': 1,\n",
    "    'two': 2,\n",
    "    'three': 3,\n",
    "    'four': 4,\n",
    "    'five': 5\n",
    "}\n",
    "\n",
    "possible_results = {\n",
    "    -5: 'minus five',\n",
    "    -4: 'minus four',\n",
    "    -3: 'minus three',\n",
    "    -2: 'minus two',\n",
    "    -1: 'minus one',\n",
    "    0: 'zero',\n",
    "    1: 'one',\n",
    "    2: 'two',\n",
    "    3: 'three',\n",
    "    4: 'four',\n",
    "    5: 'five',\n",
    "    6: 'six',\n",
    "    7: 'seven',\n",
    "    8: 'eight',\n",
    "    9: 'nine',\n",
    "    10: 'ten'\n",
    "}\n",
    "\n",
    "a = input('Please choose your first number (zero to five): ')\n",
    "while a not in list(numbers.keys()):\n",
    "    print(\"I am not able to answer this question. Check your input.\")\n",
    "    a = input('Please choose your first number (zero to five): ')\n",
    "\n",
    "b = input('What do you want to do? plus or minus: ')\n",
    "while b != 'plus' and b != 'minus':\n",
    "    print(\"Wrong operation input. Try again!\")\n",
    "    b = input('What do you want to do? plus or minus: ')\n",
    "    \n",
    "c = input('Please choose your second number (zero to five): ')\n",
    "while c not in list(numbers.keys()):\n",
    "    print(\"I am not able to answer this question. Check your input.\")\n",
    "    c = input('Please choose your second number (zero to five): ')\n",
    "\n",
    "number1 = numbers[a]\n",
    "number2 = numbers[c]\n",
    "print(\"%s %s %s equals\" % (a, b, c))\n",
    "if b == 'plus':\n",
    "    result = number1 + number2\n",
    "else:\n",
    "    result = number1 - number2\n",
    "print(possible_results[result])\n",
    "\n",
    "\n",
    "print(\"Thanks for using this calculator, goodbye :)\")"
   ]
  },
  {
   "cell_type": "code",
   "execution_count": null,
   "metadata": {},
   "outputs": [],
   "source": []
  }
 ],
 "metadata": {
  "kernelspec": {
   "display_name": "Python 3",
   "language": "python",
   "name": "python3"
  },
  "language_info": {
   "codemirror_mode": {
    "name": "ipython",
    "version": 3
   },
   "file_extension": ".py",
   "mimetype": "text/x-python",
   "name": "python",
   "nbconvert_exporter": "python",
   "pygments_lexer": "ipython3",
   "version": "3.7.3"
  }
 },
 "nbformat": 4,
 "nbformat_minor": 2
}
