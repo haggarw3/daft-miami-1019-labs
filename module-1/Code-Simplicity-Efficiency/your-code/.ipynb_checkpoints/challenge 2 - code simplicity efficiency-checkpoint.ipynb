{
 "cells": [
  {
   "cell_type": "code",
   "execution_count": 72,
   "metadata": {},
   "outputs": [
    {
     "name": "stdout",
     "output_type": "stream",
     "text": [
      "Enter minimum string length: 2\n",
      "Enter maximum string length: 7\n",
      "How many random strings to generate? 3\n",
      "['pv', 'q79ivd', 'r8mz5']\n"
     ]
    }
   ],
   "source": [
    "# \"\"\"\n",
    "# The code below generates a given number of random strings that consists of numbers and \n",
    "# lower case English letters. You can also define the range of the variable lengths of\n",
    "# the strings being generated.\n",
    "\n",
    "# The code is functional but has a lot of room for improvement. Use what you have learned\n",
    "# about simple and efficient code, refactor the code.\n",
    "# \"\"\"\n",
    "\n",
    "def RandomStringGenerator(l=12, a=['a','b','c','d','e','f','g','h','i','j','k','l','m','n','o','p','q','r','s','t','u','v','w','x','y','z','0','1','2','3','4','5','6','7','8','9']):\n",
    "    p = 0\n",
    "    s = ''\n",
    "    while p<l:\n",
    "        import random\n",
    "        s += random.choice(a)\n",
    "        p += 1\n",
    "    return s\n",
    "\n",
    "RandomStringGenerator(15)\n",
    "\n",
    "def BatchStringGenerator(n, a=8, b=12):\n",
    "    r = []\n",
    "    for i in range(n):\n",
    "        c = None\n",
    "        if a < b:\n",
    "            import random\n",
    "            c = random.choice(range(a, b))\n",
    "        elif a == b:\n",
    "            c = a\n",
    "        else:\n",
    "            import sys\n",
    "            sys.exit('Incorrect min and max string lengths. Try again.')\n",
    "        r.append(RandomStringGenerator(c))\n",
    "    return r\n",
    "\n",
    "a = input('Enter minimum string length: ')\n",
    "b = input('Enter maximum string length: ')\n",
    "n = input('How many random strings to generate? ')\n",
    "\n",
    "print(BatchStringGenerator(int(n), int(a), int(b)))\n",
    "\n",
    "# print(BatchStringGenerator(3))\n",
    "      \n"
   ]
  },
  {
   "cell_type": "code",
   "execution_count": null,
   "metadata": {},
   "outputs": [],
   "source": []
  },
  {
   "cell_type": "code",
   "execution_count": 49,
   "metadata": {},
   "outputs": [
    {
     "name": "stdout",
     "output_type": "stream",
     "text": [
      "Enter minimum string length: 2\n",
      "Enter maximum string length: 11\n",
      "How many random strings to generate? 17\n",
      "2 11 17\n"
     ]
    },
    {
     "data": {
      "text/plain": [
       "['KlR2M4ty',\n",
       " 'xkMXDFMA',\n",
       " 'ZzBgtTCM',\n",
       " '4o9Thyjz',\n",
       " 'eoa2ETLS',\n",
       " 'CBFKTFr1',\n",
       " 'WHWBF9c8',\n",
       " '1VBumrRa',\n",
       " '2vJe12wq',\n",
       " 'KisZoXce',\n",
       " '5fBgC6wt',\n",
       " 'r6GcyDaq',\n",
       " 'u81GzOi3',\n",
       " '6aPVAsl2',\n",
       " 'xAM0mOOz',\n",
       " 'mjljejK5',\n",
       " 'oYA3opdw']"
      ]
     },
     "execution_count": 49,
     "metadata": {},
     "output_type": "execute_result"
    }
   ],
   "source": [
    "import re\n",
    "import random\n",
    "import string\n",
    "\n",
    "input_variables = ['a','b','c','d','e','f','g','h','i','j','k','l','m','n','o','p','q','r','s','t','u','v','w','x','y','z','0','1','2','3','4','5','6','7','8','9']\n",
    "\n",
    "\n",
    "\n",
    "\n",
    "a = input('Enter minimum string length: ')\n",
    "b = input('Enter maximum string length: ')\n",
    "n = input('How many random strings to generate? ')\n",
    "\n",
    "\n",
    "def RandomStringGenerator():\n",
    "    r = []\n",
    "    lettersAndDigits = string.ascii_letters + string.digits\n",
    "    print(a, b, n)\n",
    "    c = random.randint(int(a),int(b))\n",
    "    d = int(n)\n",
    "    for i in range(d):\n",
    "        r.append(''.join(random.choice(lettersAndDigits) for i in range(c)))\n",
    "    return r\n",
    "\n",
    "                   \n",
    "    \n",
    "RandomStringGenerator()"
   ]
  },
  {
   "cell_type": "markdown",
   "metadata": {},
   "source": [
    "\n"
   ]
  },
  {
   "cell_type": "code",
   "execution_count": null,
   "metadata": {},
   "outputs": [],
   "source": []
  },
  {
   "cell_type": "code",
   "execution_count": null,
   "metadata": {},
   "outputs": [],
   "source": []
  },
  {
   "cell_type": "code",
   "execution_count": null,
   "metadata": {},
   "outputs": [],
   "source": []
  }
 ],
 "metadata": {
  "kernelspec": {
   "display_name": "Python 3",
   "language": "python",
   "name": "python3"
  },
  "language_info": {
   "codemirror_mode": {
    "name": "ipython",
    "version": 3
   },
   "file_extension": ".py",
   "mimetype": "text/x-python",
   "name": "python",
   "nbconvert_exporter": "python",
   "pygments_lexer": "ipython3",
   "version": "3.7.4"
  }
 },
 "nbformat": 4,
 "nbformat_minor": 2
}
