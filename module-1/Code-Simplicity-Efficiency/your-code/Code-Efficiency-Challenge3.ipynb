{
 "cells": [
  {
   "cell_type": "code",
   "execution_count": null,
   "metadata": {},
   "outputs": [],
   "source": [
    "import math\n",
    "number = input(\"Enter a whole number greater than 5 \")\n",
    "\n",
    "while True:\n",
    "    if number.isdigit():\n",
    "        number = int(number)\n",
    "        if number > 5:\n",
    "            break\n",
    "        else:\n",
    "            number = input(\"Incorrect input. Try again! \")\n",
    "    else:\n",
    "        number = input(\"Incorrect input. Try again! \")\n",
    "\n",
    "print(number)\n",
    "hypotenuses = []\n",
    "whole_numbers = list(range(1, number))\n",
    "\n",
    "for leg1 in whole_numbers:\n",
    "    for leg2 in whole_numbers:\n",
    "        s_side = leg1**2 + leg2**2\n",
    "        side = math.sqrt(s_side)\n",
    "        if side in whole_numbers:\n",
    "            hypotenuses.append(side)\n",
    "\n",
    "longest_hyp = max(hypotenuses)\n",
    "print(\"The longest side (hypotenuse) possible in a right triangule is %d\" % (longest_hyp))"
   ]
  },
  {
   "cell_type": "code",
   "execution_count": null,
   "metadata": {},
   "outputs": [],
   "source": [
    "import math\n",
    "number = input(\"Enter a whole number greater than 5 \")\n",
    "\n",
    "while True:\n",
    "    if number.isdigit():\n",
    "        number = int(number)\n",
    "        if number > 5:\n",
    "            break\n",
    "        else:\n",
    "            number = input(\"Incorrect input. Try again! \")\n",
    "    else:\n",
    "        number = input(\"Incorrect input. Try again! \")\n",
    "\n",
    "print(number)\n",
    "whole_numbers = list(range(1, number))\n",
    "hyp = [(math.sqrt(leg1**2 + leg2**2)) for leg1 in whole_numbers for leg2 in whole_numbers if math.sqrt(leg1**2 + leg2**2) in whole_numbers]\n",
    "long_hyp = max(hyp)\n",
    "print(\"The longest side (hypotenuse) possible in a right triangule is %d\" % (long_hyp))\n"
   ]
  },
  {
   "cell_type": "code",
   "execution_count": null,
   "metadata": {},
   "outputs": [],
   "source": []
  }
 ],
 "metadata": {
  "kernelspec": {
   "display_name": "Python 3",
   "language": "python",
   "name": "python3"
  },
  "language_info": {
   "codemirror_mode": {
    "name": "ipython",
    "version": 3
   },
   "file_extension": ".py",
   "mimetype": "text/x-python",
   "name": "python",
   "nbconvert_exporter": "python",
   "pygments_lexer": "ipython3",
   "version": "3.7.3"
  }
 },
 "nbformat": 4,
 "nbformat_minor": 2
}
