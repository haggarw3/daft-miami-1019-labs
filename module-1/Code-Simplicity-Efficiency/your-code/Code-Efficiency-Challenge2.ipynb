{
 "cells": [
  {
   "cell_type": "code",
   "execution_count": 2,
   "metadata": {},
   "outputs": [
    {
     "name": "stdout",
     "output_type": "stream",
     "text": [
      "Enter minimum string length: 2\n",
      "Enter maximum string length: 7\n",
      "How many random strings to generate? 6\n",
      "['32satw', 'buw0us', '6o5', '7hm', '6i', '5ce0n']\n"
     ]
    }
   ],
   "source": [
    "import string\n",
    "letters = list(string.ascii_lowercase)\n",
    "digits_int = list(range(10))\n",
    "digits = list(map(lambda x: str(x), digits_int))\n",
    "letters_digits = letters + digits\n",
    "\n",
    "def random_string_generator(length):\n",
    "    import random\n",
    "    random_string = \"\"\n",
    "    counter = 0\n",
    "    while counter < length:\n",
    "        random_string += random.choice(letters_digits)\n",
    "        counter += 1\n",
    "    return random_string\n",
    "\n",
    "\n",
    "def batch_string_generator(number, minimum_length=1, maximum_length=20):\n",
    "    list_result = []\n",
    "    for i in range(n):\n",
    "        random_len = None\n",
    "        if minimum_length > maximum_length:\n",
    "            import sys\n",
    "            sys.exit('Incorrect min and max string lengths. Try again.')\n",
    "            break\n",
    "        elif minimum_length < maximum_length:\n",
    "            import random\n",
    "            random_len = random.choice(range(minimum_length, maximum_length))\n",
    "        else:\n",
    "            random_len = minimum_length\n",
    "        list_result.append(random_string_generator(random_len))\n",
    "    return list_result\n",
    "\n",
    "min_len = int(input('Enter minimum string length: '))\n",
    "max_len = int(input('Enter maximum string length: '))\n",
    "n = int(input('How many random strings to generate? '))\n",
    "\n",
    "print(batch_string_generator(n, min_len, max_len))"
   ]
  },
  {
   "cell_type": "code",
   "execution_count": null,
   "metadata": {},
   "outputs": [],
   "source": []
  }
 ],
 "metadata": {
  "kernelspec": {
   "display_name": "Python 3",
   "language": "python",
   "name": "python3"
  },
  "language_info": {
   "codemirror_mode": {
    "name": "ipython",
    "version": 3
   },
   "file_extension": ".py",
   "mimetype": "text/x-python",
   "name": "python",
   "nbconvert_exporter": "python",
   "pygments_lexer": "ipython3",
   "version": "3.7.3"
  }
 },
 "nbformat": 4,
 "nbformat_minor": 2
}
